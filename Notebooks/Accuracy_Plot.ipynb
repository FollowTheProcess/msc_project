{
 "cells": [
  {
   "cell_type": "markdown",
   "metadata": {},
   "source": [
    "# Prediction Accuracy Graph"
   ]
  },
  {
   "cell_type": "code",
   "execution_count": 1,
   "metadata": {},
   "outputs": [
    {
     "output_type": "execute_result",
     "data": {
      "text/plain": "DataTransformerRegistry.enable('data_server')"
     },
     "metadata": {},
     "execution_count": 1
    }
   ],
   "source": [
    "import altair as alt\n",
    "import altair_data_server\n",
    "from altair_saver import save\n",
    "import matplotlib as mpl\n",
    "import matplotlib.pyplot as plt\n",
    "import numpy as np\n",
    "import pandas as pd\n",
    "import seaborn as sns\n",
    "\n",
    "%matplotlib inline\n",
    "\n",
    "sns.set(style='darkgrid', context='notebook')\n",
    "%config InlineBackend.figure_format = 'retina'\n",
    "\n",
    "alt.data_transformers.enable('data_server')"
   ]
  },
  {
   "cell_type": "code",
   "execution_count": 2,
   "metadata": {},
   "outputs": [],
   "source": [
    "from src.config import FIGURES, FINAL_DATA, MODELS\n",
    "import joblib"
   ]
  },
  {
   "cell_type": "code",
   "execution_count": 3,
   "metadata": {},
   "outputs": [],
   "source": [
    "from sklearn.metrics import mean_squared_error\n",
    "from sklearn.preprocessing import StandardScaler"
   ]
  },
  {
   "cell_type": "code",
   "execution_count": 4,
   "metadata": {},
   "outputs": [],
   "source": [
    "al_data = pd.read_csv(FINAL_DATA/'al_data_final.csv').sample(frac = 1)\n",
    "abs_data = pd.read_csv(FINAL_DATA/'abs_data_final.csv').sample(frac = 1)"
   ]
  },
  {
   "cell_type": "code",
   "execution_count": 5,
   "metadata": {},
   "outputs": [],
   "source": [
    "from sklearn.linear_model import RidgeCV"
   ]
  },
  {
   "cell_type": "code",
   "execution_count": 6,
   "metadata": {},
   "outputs": [],
   "source": [
    "al_model = RidgeCV()\n",
    "abs_model = RidgeCV()"
   ]
  },
  {
   "cell_type": "code",
   "execution_count": 7,
   "metadata": {},
   "outputs": [],
   "source": [
    "X_al = al_data.drop('tc_act', axis = 1)\n",
    "y_al = al_data['tc_act']\n",
    "\n",
    "X_abs = abs_data.drop('tc_act', axis = 1)\n",
    "y_abs = abs_data['tc_act']"
   ]
  },
  {
   "cell_type": "code",
   "execution_count": 8,
   "metadata": {},
   "outputs": [],
   "source": [
    "al_scaler = StandardScaler()\n",
    "abs_scaler = StandardScaler()"
   ]
  },
  {
   "cell_type": "code",
   "execution_count": 9,
   "metadata": {},
   "outputs": [],
   "source": [
    "X_al_scaled = al_scaler.fit_transform(X_al)\n",
    "X_abs_scaled = abs_scaler.fit_transform(X_abs)"
   ]
  },
  {
   "cell_type": "code",
   "execution_count": 10,
   "metadata": {},
   "outputs": [
    {
     "output_type": "execute_result",
     "data": {
      "text/plain": "RidgeCV(alphas=array([ 0.1,  1. , 10. ]))"
     },
     "metadata": {},
     "execution_count": 10
    }
   ],
   "source": [
    "al_model.fit(X_al_scaled, y_al)\n",
    "abs_model.fit(X_abs_scaled, y_abs)"
   ]
  },
  {
   "cell_type": "code",
   "execution_count": 11,
   "metadata": {},
   "outputs": [],
   "source": [
    "al_pred = al_model.predict(X_al_scaled)\n",
    "abs_pred = abs_model.predict(X_abs_scaled)"
   ]
  },
  {
   "cell_type": "code",
   "execution_count": 12,
   "metadata": {},
   "outputs": [
    {
     "output_type": "execute_result",
     "data": {
      "text/plain": "      x  temp      nf_hz     amp_mm  tc_act\n24   25    22  40.970000  12.010000    0.00\n9     5    22  28.647826  15.118261    2.00\n171  25   200  36.810000  13.240000    0.52\n140  25   150  31.343333  17.402800    1.75\n39    5    50  37.050000  11.440000    0.52\n..   ..   ...        ...        ...     ...\n135  25   150  37.530000  11.560000    0.52\n53   15    50  36.338904  13.558356    1.00\n153   5   200  25.588462  19.240769    2.00\n43    5    50  33.197455  15.486809    1.50\n166  15   200  23.784167  19.360833    2.25\n\n[180 rows x 5 columns]",
      "text/html": "<div>\n<style scoped>\n    .dataframe tbody tr th:only-of-type {\n        vertical-align: middle;\n    }\n\n    .dataframe tbody tr th {\n        vertical-align: top;\n    }\n\n    .dataframe thead th {\n        text-align: right;\n    }\n</style>\n<table border=\"1\" class=\"dataframe\">\n  <thead>\n    <tr style=\"text-align: right;\">\n      <th></th>\n      <th>x</th>\n      <th>temp</th>\n      <th>nf_hz</th>\n      <th>amp_mm</th>\n      <th>tc_act</th>\n    </tr>\n  </thead>\n  <tbody>\n    <tr>\n      <th>24</th>\n      <td>25</td>\n      <td>22</td>\n      <td>40.970000</td>\n      <td>12.010000</td>\n      <td>0.00</td>\n    </tr>\n    <tr>\n      <th>9</th>\n      <td>5</td>\n      <td>22</td>\n      <td>28.647826</td>\n      <td>15.118261</td>\n      <td>2.00</td>\n    </tr>\n    <tr>\n      <th>171</th>\n      <td>25</td>\n      <td>200</td>\n      <td>36.810000</td>\n      <td>13.240000</td>\n      <td>0.52</td>\n    </tr>\n    <tr>\n      <th>140</th>\n      <td>25</td>\n      <td>150</td>\n      <td>31.343333</td>\n      <td>17.402800</td>\n      <td>1.75</td>\n    </tr>\n    <tr>\n      <th>39</th>\n      <td>5</td>\n      <td>50</td>\n      <td>37.050000</td>\n      <td>11.440000</td>\n      <td>0.52</td>\n    </tr>\n    <tr>\n      <th>...</th>\n      <td>...</td>\n      <td>...</td>\n      <td>...</td>\n      <td>...</td>\n      <td>...</td>\n    </tr>\n    <tr>\n      <th>135</th>\n      <td>25</td>\n      <td>150</td>\n      <td>37.530000</td>\n      <td>11.560000</td>\n      <td>0.52</td>\n    </tr>\n    <tr>\n      <th>53</th>\n      <td>15</td>\n      <td>50</td>\n      <td>36.338904</td>\n      <td>13.558356</td>\n      <td>1.00</td>\n    </tr>\n    <tr>\n      <th>153</th>\n      <td>5</td>\n      <td>200</td>\n      <td>25.588462</td>\n      <td>19.240769</td>\n      <td>2.00</td>\n    </tr>\n    <tr>\n      <th>43</th>\n      <td>5</td>\n      <td>50</td>\n      <td>33.197455</td>\n      <td>15.486809</td>\n      <td>1.50</td>\n    </tr>\n    <tr>\n      <th>166</th>\n      <td>15</td>\n      <td>200</td>\n      <td>23.784167</td>\n      <td>19.360833</td>\n      <td>2.25</td>\n    </tr>\n  </tbody>\n</table>\n<p>180 rows × 5 columns</p>\n</div>"
     },
     "metadata": {},
     "execution_count": 12
    }
   ],
   "source": [
    "al_data"
   ]
  },
  {
   "cell_type": "code",
   "execution_count": 13,
   "metadata": {},
   "outputs": [],
   "source": [
    "al_data['tc_pred'] = al_pred"
   ]
  },
  {
   "cell_type": "code",
   "execution_count": 14,
   "metadata": {},
   "outputs": [
    {
     "output_type": "execute_result",
     "data": {
      "text/plain": "      x  temp      nf_hz     amp_mm  tc_act   tc_pred\n24   25    22  40.970000  12.010000    0.00  0.483516\n9     5    22  28.647826  15.118261    2.00  1.963573\n171  25   200  36.810000  13.240000    0.52  0.409357\n140  25   150  31.343333  17.402800    1.75  1.619568\n39    5    50  37.050000  11.440000    0.52  0.523971\n..   ..   ...        ...        ...     ...       ...\n135  25   150  37.530000  11.560000    0.52  0.370156\n53   15    50  36.338904  13.558356    1.00  0.930402\n153   5   200  25.588462  19.240769    2.00  2.003987\n43    5    50  33.197455  15.486809    1.50  1.336988\n166  15   200  23.784167  19.360833    2.25  2.371553\n\n[180 rows x 6 columns]",
      "text/html": "<div>\n<style scoped>\n    .dataframe tbody tr th:only-of-type {\n        vertical-align: middle;\n    }\n\n    .dataframe tbody tr th {\n        vertical-align: top;\n    }\n\n    .dataframe thead th {\n        text-align: right;\n    }\n</style>\n<table border=\"1\" class=\"dataframe\">\n  <thead>\n    <tr style=\"text-align: right;\">\n      <th></th>\n      <th>x</th>\n      <th>temp</th>\n      <th>nf_hz</th>\n      <th>amp_mm</th>\n      <th>tc_act</th>\n      <th>tc_pred</th>\n    </tr>\n  </thead>\n  <tbody>\n    <tr>\n      <th>24</th>\n      <td>25</td>\n      <td>22</td>\n      <td>40.970000</td>\n      <td>12.010000</td>\n      <td>0.00</td>\n      <td>0.483516</td>\n    </tr>\n    <tr>\n      <th>9</th>\n      <td>5</td>\n      <td>22</td>\n      <td>28.647826</td>\n      <td>15.118261</td>\n      <td>2.00</td>\n      <td>1.963573</td>\n    </tr>\n    <tr>\n      <th>171</th>\n      <td>25</td>\n      <td>200</td>\n      <td>36.810000</td>\n      <td>13.240000</td>\n      <td>0.52</td>\n      <td>0.409357</td>\n    </tr>\n    <tr>\n      <th>140</th>\n      <td>25</td>\n      <td>150</td>\n      <td>31.343333</td>\n      <td>17.402800</td>\n      <td>1.75</td>\n      <td>1.619568</td>\n    </tr>\n    <tr>\n      <th>39</th>\n      <td>5</td>\n      <td>50</td>\n      <td>37.050000</td>\n      <td>11.440000</td>\n      <td>0.52</td>\n      <td>0.523971</td>\n    </tr>\n    <tr>\n      <th>...</th>\n      <td>...</td>\n      <td>...</td>\n      <td>...</td>\n      <td>...</td>\n      <td>...</td>\n      <td>...</td>\n    </tr>\n    <tr>\n      <th>135</th>\n      <td>25</td>\n      <td>150</td>\n      <td>37.530000</td>\n      <td>11.560000</td>\n      <td>0.52</td>\n      <td>0.370156</td>\n    </tr>\n    <tr>\n      <th>53</th>\n      <td>15</td>\n      <td>50</td>\n      <td>36.338904</td>\n      <td>13.558356</td>\n      <td>1.00</td>\n      <td>0.930402</td>\n    </tr>\n    <tr>\n      <th>153</th>\n      <td>5</td>\n      <td>200</td>\n      <td>25.588462</td>\n      <td>19.240769</td>\n      <td>2.00</td>\n      <td>2.003987</td>\n    </tr>\n    <tr>\n      <th>43</th>\n      <td>5</td>\n      <td>50</td>\n      <td>33.197455</td>\n      <td>15.486809</td>\n      <td>1.50</td>\n      <td>1.336988</td>\n    </tr>\n    <tr>\n      <th>166</th>\n      <td>15</td>\n      <td>200</td>\n      <td>23.784167</td>\n      <td>19.360833</td>\n      <td>2.25</td>\n      <td>2.371553</td>\n    </tr>\n  </tbody>\n</table>\n<p>180 rows × 6 columns</p>\n</div>"
     },
     "metadata": {},
     "execution_count": 14
    }
   ],
   "source": [
    "al_data"
   ]
  },
  {
   "cell_type": "code",
   "execution_count": 15,
   "metadata": {},
   "outputs": [],
   "source": [
    "abs_data['tc_pred'] = abs_pred"
   ]
  },
  {
   "cell_type": "code",
   "execution_count": 16,
   "metadata": {},
   "outputs": [
    {
     "output_type": "execute_result",
     "data": {
      "text/plain": "      x  temp  nf_hz  amp_mm  tc_act   tc_pred\n87   15    50  16.76    3.70    2.40  2.237817\n82   15    50  25.77    5.21    1.30  1.263855\n146  25    70  15.84    3.79    2.25  2.236172\n123  25    60  18.36    4.25    2.10  2.015513\n130  15    70  26.19    5.26    1.30  1.104845\n..   ..   ...    ...     ...     ...       ...\n104   5    60  19.96    4.68    2.00  1.690358\n125  25    60  13.61    3.89    2.30  2.448725\n15   15    23  24.84    4.64    1.90  1.599041\n19   15    23  19.82    3.40    2.50  2.215068\n8     5    23  19.60    4.13    2.40  2.036509\n\n[149 rows x 6 columns]",
      "text/html": "<div>\n<style scoped>\n    .dataframe tbody tr th:only-of-type {\n        vertical-align: middle;\n    }\n\n    .dataframe tbody tr th {\n        vertical-align: top;\n    }\n\n    .dataframe thead th {\n        text-align: right;\n    }\n</style>\n<table border=\"1\" class=\"dataframe\">\n  <thead>\n    <tr style=\"text-align: right;\">\n      <th></th>\n      <th>x</th>\n      <th>temp</th>\n      <th>nf_hz</th>\n      <th>amp_mm</th>\n      <th>tc_act</th>\n      <th>tc_pred</th>\n    </tr>\n  </thead>\n  <tbody>\n    <tr>\n      <th>87</th>\n      <td>15</td>\n      <td>50</td>\n      <td>16.76</td>\n      <td>3.70</td>\n      <td>2.40</td>\n      <td>2.237817</td>\n    </tr>\n    <tr>\n      <th>82</th>\n      <td>15</td>\n      <td>50</td>\n      <td>25.77</td>\n      <td>5.21</td>\n      <td>1.30</td>\n      <td>1.263855</td>\n    </tr>\n    <tr>\n      <th>146</th>\n      <td>25</td>\n      <td>70</td>\n      <td>15.84</td>\n      <td>3.79</td>\n      <td>2.25</td>\n      <td>2.236172</td>\n    </tr>\n    <tr>\n      <th>123</th>\n      <td>25</td>\n      <td>60</td>\n      <td>18.36</td>\n      <td>4.25</td>\n      <td>2.10</td>\n      <td>2.015513</td>\n    </tr>\n    <tr>\n      <th>130</th>\n      <td>15</td>\n      <td>70</td>\n      <td>26.19</td>\n      <td>5.26</td>\n      <td>1.30</td>\n      <td>1.104845</td>\n    </tr>\n    <tr>\n      <th>...</th>\n      <td>...</td>\n      <td>...</td>\n      <td>...</td>\n      <td>...</td>\n      <td>...</td>\n      <td>...</td>\n    </tr>\n    <tr>\n      <th>104</th>\n      <td>5</td>\n      <td>60</td>\n      <td>19.96</td>\n      <td>4.68</td>\n      <td>2.00</td>\n      <td>1.690358</td>\n    </tr>\n    <tr>\n      <th>125</th>\n      <td>25</td>\n      <td>60</td>\n      <td>13.61</td>\n      <td>3.89</td>\n      <td>2.30</td>\n      <td>2.448725</td>\n    </tr>\n    <tr>\n      <th>15</th>\n      <td>15</td>\n      <td>23</td>\n      <td>24.84</td>\n      <td>4.64</td>\n      <td>1.90</td>\n      <td>1.599041</td>\n    </tr>\n    <tr>\n      <th>19</th>\n      <td>15</td>\n      <td>23</td>\n      <td>19.82</td>\n      <td>3.40</td>\n      <td>2.50</td>\n      <td>2.215068</td>\n    </tr>\n    <tr>\n      <th>8</th>\n      <td>5</td>\n      <td>23</td>\n      <td>19.60</td>\n      <td>4.13</td>\n      <td>2.40</td>\n      <td>2.036509</td>\n    </tr>\n  </tbody>\n</table>\n<p>149 rows × 6 columns</p>\n</div>"
     },
     "metadata": {},
     "execution_count": 16
    }
   ],
   "source": [
    "abs_data"
   ]
  },
  {
   "cell_type": "code",
   "execution_count": 17,
   "metadata": {},
   "outputs": [],
   "source": [
    "fig1 = alt.Chart(al_data).mark_point().encode(\n",
    "    x = alt.X('tc_act:Q', title = 'Actual Crack Depth (mm)'),\n",
    "    y = alt.Y('tc_pred:Q', title = 'Predicted Crack Depth (mm)'),\n",
    "    color = alt.Color('temp:O', title = 'Temperature (C)', scale = alt.Scale(scheme = 'reds'))\n",
    ").properties(\n",
    "    width = 800,\n",
    "    height = 400,\n",
    "    title = \"Model Predictive Accuracy (Aluminium)\"\n",
    ").configure_axis(labelFontSize = 14).configure_legend(labelFontSize = 14)\n",
    "\n",
    "save(fig1, fp = str(FIGURES/'aluminium_accuracy_altair.png'), fmt = 'png', method = 'selenium', scale_factor = 4.0)"
   ]
  },
  {
   "cell_type": "code",
   "execution_count": 18,
   "metadata": {},
   "outputs": [
    {
     "output_type": "execute_result",
     "data": {
      "text/html": "\n<div id=\"altair-viz-871d1ad86bfd4d2d89ae81c0ef7642d2\"></div>\n<script type=\"text/javascript\">\n  (function(spec, embedOpt){\n    let outputDiv = document.currentScript.previousElementSibling;\n    if (outputDiv.id !== \"altair-viz-871d1ad86bfd4d2d89ae81c0ef7642d2\") {\n      outputDiv = document.getElementById(\"altair-viz-871d1ad86bfd4d2d89ae81c0ef7642d2\");\n    }\n    const paths = {\n      \"vega\": \"https://cdn.jsdelivr.net/npm//vega@5?noext\",\n      \"vega-lib\": \"https://cdn.jsdelivr.net/npm//vega-lib?noext\",\n      \"vega-lite\": \"https://cdn.jsdelivr.net/npm//vega-lite@4.8.1?noext\",\n      \"vega-embed\": \"https://cdn.jsdelivr.net/npm//vega-embed@6?noext\",\n    };\n\n    function loadScript(lib) {\n      return new Promise(function(resolve, reject) {\n        var s = document.createElement('script');\n        s.src = paths[lib];\n        s.async = true;\n        s.onload = () => resolve(paths[lib]);\n        s.onerror = () => reject(`Error loading script: ${paths[lib]}`);\n        document.getElementsByTagName(\"head\")[0].appendChild(s);\n      });\n    }\n\n    function showError(err) {\n      outputDiv.innerHTML = `<div class=\"error\" style=\"color:red;\">${err}</div>`;\n      throw err;\n    }\n\n    function displayChart(vegaEmbed) {\n      vegaEmbed(outputDiv, spec, embedOpt)\n        .catch(err => showError(`Javascript Error: ${err.message}<br>This usually means there's a typo in your chart specification. See the javascript console for the full traceback.`));\n    }\n\n    if(typeof define === \"function\" && define.amd) {\n      requirejs.config({paths});\n      require([\"vega-embed\"], displayChart, err => showError(`Error loading script: ${err.message}`));\n    } else if (typeof vegaEmbed === \"function\") {\n      displayChart(vegaEmbed);\n    } else {\n      loadScript(\"vega\")\n        .then(() => loadScript(\"vega-lite\"))\n        .then(() => loadScript(\"vega-embed\"))\n        .catch(showError)\n        .then(() => displayChart(vegaEmbed));\n    }\n  })({\"config\": {\"view\": {\"continuousWidth\": 400, \"continuousHeight\": 300}, \"axis\": {\"labelFontSize\": 14}, \"legend\": {\"labelFontSize\": 14}}, \"data\": {\"url\": \"http://localhost:16323/0305cd1f33497974cfdc227e0539dfde.json\"}, \"mark\": \"point\", \"encoding\": {\"color\": {\"type\": \"ordinal\", \"field\": \"temp\", \"scale\": {\"scheme\": \"reds\"}, \"title\": \"Temperature (C)\"}, \"x\": {\"type\": \"quantitative\", \"field\": \"tc_act\", \"title\": \"Actual Crack Depth (mm)\"}, \"y\": {\"type\": \"quantitative\", \"field\": \"tc_pred\", \"title\": \"Predicted Crack Depth (mm)\"}}, \"height\": 400, \"title\": \"Model Predictive Accuracy (Aluminium)\", \"width\": 800, \"$schema\": \"https://vega.github.io/schema/vega-lite/v4.8.1.json\"}, {\"mode\": \"vega-lite\"});\n</script>",
      "text/plain": "alt.Chart(...)"
     },
     "metadata": {},
     "execution_count": 18
    }
   ],
   "source": [
    "fig1"
   ]
  },
  {
   "cell_type": "code",
   "execution_count": 19,
   "metadata": {},
   "outputs": [],
   "source": [
    "fig2 = alt.Chart(abs_data).mark_point().encode(\n",
    "    x = alt.X('tc_act:Q', title = 'Actual Crack Depth (mm)'),\n",
    "    y = alt.Y('tc_pred:Q', title = 'Predicted Crack Depth (mm)'),\n",
    "    color = alt.Color('temp:O', title = 'Temperature (C)', scale = alt.Scale(scheme = 'reds'))\n",
    ").properties(\n",
    "    width = 800,\n",
    "    height = 400,\n",
    "    title = \"Model Predictive Accuracy (ABS)\"\n",
    ").configure_axis(labelFontSize = 14).configure_legend(labelFontSize = 14)\n",
    "\n",
    "save(fig2, fp = str(FIGURES/'abs_accuracy_altair.png'), fmt = 'png', method = 'selenium', scale_factor = 4.0)"
   ]
  },
  {
   "cell_type": "code",
   "execution_count": 20,
   "metadata": {},
   "outputs": [
    {
     "output_type": "execute_result",
     "data": {
      "text/html": "\n<div id=\"altair-viz-3d5ca42d89094d6aa0c4d6556a09bcdb\"></div>\n<script type=\"text/javascript\">\n  (function(spec, embedOpt){\n    let outputDiv = document.currentScript.previousElementSibling;\n    if (outputDiv.id !== \"altair-viz-3d5ca42d89094d6aa0c4d6556a09bcdb\") {\n      outputDiv = document.getElementById(\"altair-viz-3d5ca42d89094d6aa0c4d6556a09bcdb\");\n    }\n    const paths = {\n      \"vega\": \"https://cdn.jsdelivr.net/npm//vega@5?noext\",\n      \"vega-lib\": \"https://cdn.jsdelivr.net/npm//vega-lib?noext\",\n      \"vega-lite\": \"https://cdn.jsdelivr.net/npm//vega-lite@4.8.1?noext\",\n      \"vega-embed\": \"https://cdn.jsdelivr.net/npm//vega-embed@6?noext\",\n    };\n\n    function loadScript(lib) {\n      return new Promise(function(resolve, reject) {\n        var s = document.createElement('script');\n        s.src = paths[lib];\n        s.async = true;\n        s.onload = () => resolve(paths[lib]);\n        s.onerror = () => reject(`Error loading script: ${paths[lib]}`);\n        document.getElementsByTagName(\"head\")[0].appendChild(s);\n      });\n    }\n\n    function showError(err) {\n      outputDiv.innerHTML = `<div class=\"error\" style=\"color:red;\">${err}</div>`;\n      throw err;\n    }\n\n    function displayChart(vegaEmbed) {\n      vegaEmbed(outputDiv, spec, embedOpt)\n        .catch(err => showError(`Javascript Error: ${err.message}<br>This usually means there's a typo in your chart specification. See the javascript console for the full traceback.`));\n    }\n\n    if(typeof define === \"function\" && define.amd) {\n      requirejs.config({paths});\n      require([\"vega-embed\"], displayChart, err => showError(`Error loading script: ${err.message}`));\n    } else if (typeof vegaEmbed === \"function\") {\n      displayChart(vegaEmbed);\n    } else {\n      loadScript(\"vega\")\n        .then(() => loadScript(\"vega-lite\"))\n        .then(() => loadScript(\"vega-embed\"))\n        .catch(showError)\n        .then(() => displayChart(vegaEmbed));\n    }\n  })({\"config\": {\"view\": {\"continuousWidth\": 400, \"continuousHeight\": 300}, \"axis\": {\"labelFontSize\": 14}, \"legend\": {\"labelFontSize\": 14}}, \"data\": {\"url\": \"http://localhost:16323/f29bd61a70ae8d1f1b4d3ee84c7b3b9b.json\"}, \"mark\": \"point\", \"encoding\": {\"color\": {\"type\": \"ordinal\", \"field\": \"temp\", \"scale\": {\"scheme\": \"reds\"}, \"title\": \"Temperature (C)\"}, \"x\": {\"type\": \"quantitative\", \"field\": \"tc_act\", \"title\": \"Actual Crack Depth (mm)\"}, \"y\": {\"type\": \"quantitative\", \"field\": \"tc_pred\", \"title\": \"Predicted Crack Depth (mm)\"}}, \"height\": 400, \"title\": \"Model Predictive Accuracy (ABS)\", \"width\": 800, \"$schema\": \"https://vega.github.io/schema/vega-lite/v4.8.1.json\"}, {\"mode\": \"vega-lite\"});\n</script>",
      "text/plain": "alt.Chart(...)"
     },
     "metadata": {},
     "execution_count": 20
    }
   ],
   "source": [
    "fig2"
   ]
  },
  {
   "cell_type": "code",
   "execution_count": 21,
   "metadata": {},
   "outputs": [],
   "source": [
    "al_data['material'] = 'Aluminium'\n",
    "abs_data['material'] = 'ABS'"
   ]
  },
  {
   "cell_type": "code",
   "execution_count": 22,
   "metadata": {},
   "outputs": [],
   "source": [
    "combined = pd.concat([al_data, abs_data], ignore_index = True)"
   ]
  },
  {
   "cell_type": "code",
   "execution_count": 23,
   "metadata": {},
   "outputs": [
    {
     "output_type": "execute_result",
     "data": {
      "text/plain": "      x  temp      nf_hz     amp_mm  tc_act   tc_pred   material\n0    25    22  40.970000  12.010000    0.00  0.483516  Aluminium\n1     5    22  28.647826  15.118261    2.00  1.963573  Aluminium\n2    25   200  36.810000  13.240000    0.52  0.409357  Aluminium\n3    25   150  31.343333  17.402800    1.75  1.619568  Aluminium\n4     5    50  37.050000  11.440000    0.52  0.523971  Aluminium\n..   ..   ...        ...        ...     ...       ...        ...\n324   5    60  19.960000   4.680000    2.00  1.690358        ABS\n325  25    60  13.610000   3.890000    2.30  2.448725        ABS\n326  15    23  24.840000   4.640000    1.90  1.599041        ABS\n327  15    23  19.820000   3.400000    2.50  2.215068        ABS\n328   5    23  19.600000   4.130000    2.40  2.036509        ABS\n\n[329 rows x 7 columns]",
      "text/html": "<div>\n<style scoped>\n    .dataframe tbody tr th:only-of-type {\n        vertical-align: middle;\n    }\n\n    .dataframe tbody tr th {\n        vertical-align: top;\n    }\n\n    .dataframe thead th {\n        text-align: right;\n    }\n</style>\n<table border=\"1\" class=\"dataframe\">\n  <thead>\n    <tr style=\"text-align: right;\">\n      <th></th>\n      <th>x</th>\n      <th>temp</th>\n      <th>nf_hz</th>\n      <th>amp_mm</th>\n      <th>tc_act</th>\n      <th>tc_pred</th>\n      <th>material</th>\n    </tr>\n  </thead>\n  <tbody>\n    <tr>\n      <th>0</th>\n      <td>25</td>\n      <td>22</td>\n      <td>40.970000</td>\n      <td>12.010000</td>\n      <td>0.00</td>\n      <td>0.483516</td>\n      <td>Aluminium</td>\n    </tr>\n    <tr>\n      <th>1</th>\n      <td>5</td>\n      <td>22</td>\n      <td>28.647826</td>\n      <td>15.118261</td>\n      <td>2.00</td>\n      <td>1.963573</td>\n      <td>Aluminium</td>\n    </tr>\n    <tr>\n      <th>2</th>\n      <td>25</td>\n      <td>200</td>\n      <td>36.810000</td>\n      <td>13.240000</td>\n      <td>0.52</td>\n      <td>0.409357</td>\n      <td>Aluminium</td>\n    </tr>\n    <tr>\n      <th>3</th>\n      <td>25</td>\n      <td>150</td>\n      <td>31.343333</td>\n      <td>17.402800</td>\n      <td>1.75</td>\n      <td>1.619568</td>\n      <td>Aluminium</td>\n    </tr>\n    <tr>\n      <th>4</th>\n      <td>5</td>\n      <td>50</td>\n      <td>37.050000</td>\n      <td>11.440000</td>\n      <td>0.52</td>\n      <td>0.523971</td>\n      <td>Aluminium</td>\n    </tr>\n    <tr>\n      <th>...</th>\n      <td>...</td>\n      <td>...</td>\n      <td>...</td>\n      <td>...</td>\n      <td>...</td>\n      <td>...</td>\n      <td>...</td>\n    </tr>\n    <tr>\n      <th>324</th>\n      <td>5</td>\n      <td>60</td>\n      <td>19.960000</td>\n      <td>4.680000</td>\n      <td>2.00</td>\n      <td>1.690358</td>\n      <td>ABS</td>\n    </tr>\n    <tr>\n      <th>325</th>\n      <td>25</td>\n      <td>60</td>\n      <td>13.610000</td>\n      <td>3.890000</td>\n      <td>2.30</td>\n      <td>2.448725</td>\n      <td>ABS</td>\n    </tr>\n    <tr>\n      <th>326</th>\n      <td>15</td>\n      <td>23</td>\n      <td>24.840000</td>\n      <td>4.640000</td>\n      <td>1.90</td>\n      <td>1.599041</td>\n      <td>ABS</td>\n    </tr>\n    <tr>\n      <th>327</th>\n      <td>15</td>\n      <td>23</td>\n      <td>19.820000</td>\n      <td>3.400000</td>\n      <td>2.50</td>\n      <td>2.215068</td>\n      <td>ABS</td>\n    </tr>\n    <tr>\n      <th>328</th>\n      <td>5</td>\n      <td>23</td>\n      <td>19.600000</td>\n      <td>4.130000</td>\n      <td>2.40</td>\n      <td>2.036509</td>\n      <td>ABS</td>\n    </tr>\n  </tbody>\n</table>\n<p>329 rows × 7 columns</p>\n</div>"
     },
     "metadata": {},
     "execution_count": 23
    }
   ],
   "source": [
    "combined"
   ]
  },
  {
   "cell_type": "code",
   "execution_count": 24,
   "metadata": {},
   "outputs": [],
   "source": [
    "# Clean up difference between two datasets\n",
    "combined['temp'].replace({23: 22}, inplace = True)"
   ]
  },
  {
   "cell_type": "code",
   "execution_count": 25,
   "metadata": {},
   "outputs": [],
   "source": [
    "fig3 = alt.Chart(combined).mark_circle(opacity = 0.5).encode(\n",
    "    x = alt.X('tc_act:Q', title = 'Actual Crack Depth (mm)'),\n",
    "    y = alt.Y('tc_pred:Q', title = 'Predicted Crack Depth (mm)'),\n",
    "    color = alt.Color('material:N', title = 'Material'),\n",
    "    size = alt.Size('temp:Q', title = 'Temperature (C)')\n",
    ").properties(\n",
    "    width = 800,\n",
    "    height = 400,\n",
    "    title = \"Model Predictive Accuracy\"\n",
    ").configure_axis(labelFontSize = 14).configure_legend(labelFontSize = 14)\n",
    "\n",
    "save(fig3, fp = str(FIGURES/'combined_accuracy_altair.png'), fmt = 'png', method = 'selenium', scale_factor = 4.0)"
   ]
  },
  {
   "cell_type": "code",
   "execution_count": 26,
   "metadata": {},
   "outputs": [
    {
     "output_type": "execute_result",
     "data": {
      "text/html": "\n<div id=\"altair-viz-f877352812384d4291c95102a4de9589\"></div>\n<script type=\"text/javascript\">\n  (function(spec, embedOpt){\n    let outputDiv = document.currentScript.previousElementSibling;\n    if (outputDiv.id !== \"altair-viz-f877352812384d4291c95102a4de9589\") {\n      outputDiv = document.getElementById(\"altair-viz-f877352812384d4291c95102a4de9589\");\n    }\n    const paths = {\n      \"vega\": \"https://cdn.jsdelivr.net/npm//vega@5?noext\",\n      \"vega-lib\": \"https://cdn.jsdelivr.net/npm//vega-lib?noext\",\n      \"vega-lite\": \"https://cdn.jsdelivr.net/npm//vega-lite@4.8.1?noext\",\n      \"vega-embed\": \"https://cdn.jsdelivr.net/npm//vega-embed@6?noext\",\n    };\n\n    function loadScript(lib) {\n      return new Promise(function(resolve, reject) {\n        var s = document.createElement('script');\n        s.src = paths[lib];\n        s.async = true;\n        s.onload = () => resolve(paths[lib]);\n        s.onerror = () => reject(`Error loading script: ${paths[lib]}`);\n        document.getElementsByTagName(\"head\")[0].appendChild(s);\n      });\n    }\n\n    function showError(err) {\n      outputDiv.innerHTML = `<div class=\"error\" style=\"color:red;\">${err}</div>`;\n      throw err;\n    }\n\n    function displayChart(vegaEmbed) {\n      vegaEmbed(outputDiv, spec, embedOpt)\n        .catch(err => showError(`Javascript Error: ${err.message}<br>This usually means there's a typo in your chart specification. See the javascript console for the full traceback.`));\n    }\n\n    if(typeof define === \"function\" && define.amd) {\n      requirejs.config({paths});\n      require([\"vega-embed\"], displayChart, err => showError(`Error loading script: ${err.message}`));\n    } else if (typeof vegaEmbed === \"function\") {\n      displayChart(vegaEmbed);\n    } else {\n      loadScript(\"vega\")\n        .then(() => loadScript(\"vega-lite\"))\n        .then(() => loadScript(\"vega-embed\"))\n        .catch(showError)\n        .then(() => displayChart(vegaEmbed));\n    }\n  })({\"config\": {\"view\": {\"continuousWidth\": 400, \"continuousHeight\": 300}, \"axis\": {\"labelFontSize\": 14}, \"legend\": {\"labelFontSize\": 14}}, \"data\": {\"url\": \"http://localhost:16323/9559375e05a648afb13da73e7813125e.json\"}, \"mark\": {\"type\": \"circle\", \"opacity\": 0.5}, \"encoding\": {\"color\": {\"type\": \"nominal\", \"field\": \"material\", \"title\": \"Material\"}, \"size\": {\"type\": \"quantitative\", \"field\": \"temp\", \"title\": \"Temperature (C)\"}, \"x\": {\"type\": \"quantitative\", \"field\": \"tc_act\", \"title\": \"Actual Crack Depth (mm)\"}, \"y\": {\"type\": \"quantitative\", \"field\": \"tc_pred\", \"title\": \"Predicted Crack Depth (mm)\"}}, \"height\": 400, \"title\": \"Model Predictive Accuracy\", \"width\": 800, \"$schema\": \"https://vega.github.io/schema/vega-lite/v4.8.1.json\"}, {\"mode\": \"vega-lite\"});\n</script>",
      "text/plain": "alt.Chart(...)"
     },
     "metadata": {},
     "execution_count": 26
    }
   ],
   "source": [
    "fig3"
   ]
  },
  {
   "cell_type": "code",
   "execution_count": 27,
   "metadata": {},
   "outputs": [],
   "source": [
    "# Because I can't decide which looks better, let's have both!"
   ]
  },
  {
   "cell_type": "code",
   "execution_count": 28,
   "metadata": {},
   "outputs": [],
   "source": [
    "fig3b = alt.Chart(combined).mark_circle(opacity = 0.5).encode(\n",
    "    x = alt.X('tc_act:Q', title = 'Actual Crack Depth (mm)'),\n",
    "    y = alt.Y('tc_pred:Q', title = 'Predicted Crack Depth (mm)'),\n",
    "    color = alt.Color('material:N', title = 'Material'),\n",
    "    size = alt.Size('temp:O', title = 'Temperature (C)')\n",
    ").properties(\n",
    "    width = 800,\n",
    "    height = 400,\n",
    "    title = \"Model Predictive Accuracy\"\n",
    ").configure_axis(labelFontSize = 14).configure_legend(labelFontSize = 14)\n",
    "\n",
    "save(fig3b, fp = str(FIGURES/'combined_accuracy_altair_ordinal.png'), fmt = 'png', method = 'selenium', scale_factor = 4.0)"
   ]
  },
  {
   "cell_type": "code",
   "execution_count": 29,
   "metadata": {},
   "outputs": [
    {
     "output_type": "execute_result",
     "data": {
      "text/html": "\n<div id=\"altair-viz-1ffb71fbb3bb4a1fbefdd74d612f02d6\"></div>\n<script type=\"text/javascript\">\n  (function(spec, embedOpt){\n    let outputDiv = document.currentScript.previousElementSibling;\n    if (outputDiv.id !== \"altair-viz-1ffb71fbb3bb4a1fbefdd74d612f02d6\") {\n      outputDiv = document.getElementById(\"altair-viz-1ffb71fbb3bb4a1fbefdd74d612f02d6\");\n    }\n    const paths = {\n      \"vega\": \"https://cdn.jsdelivr.net/npm//vega@5?noext\",\n      \"vega-lib\": \"https://cdn.jsdelivr.net/npm//vega-lib?noext\",\n      \"vega-lite\": \"https://cdn.jsdelivr.net/npm//vega-lite@4.8.1?noext\",\n      \"vega-embed\": \"https://cdn.jsdelivr.net/npm//vega-embed@6?noext\",\n    };\n\n    function loadScript(lib) {\n      return new Promise(function(resolve, reject) {\n        var s = document.createElement('script');\n        s.src = paths[lib];\n        s.async = true;\n        s.onload = () => resolve(paths[lib]);\n        s.onerror = () => reject(`Error loading script: ${paths[lib]}`);\n        document.getElementsByTagName(\"head\")[0].appendChild(s);\n      });\n    }\n\n    function showError(err) {\n      outputDiv.innerHTML = `<div class=\"error\" style=\"color:red;\">${err}</div>`;\n      throw err;\n    }\n\n    function displayChart(vegaEmbed) {\n      vegaEmbed(outputDiv, spec, embedOpt)\n        .catch(err => showError(`Javascript Error: ${err.message}<br>This usually means there's a typo in your chart specification. See the javascript console for the full traceback.`));\n    }\n\n    if(typeof define === \"function\" && define.amd) {\n      requirejs.config({paths});\n      require([\"vega-embed\"], displayChart, err => showError(`Error loading script: ${err.message}`));\n    } else if (typeof vegaEmbed === \"function\") {\n      displayChart(vegaEmbed);\n    } else {\n      loadScript(\"vega\")\n        .then(() => loadScript(\"vega-lite\"))\n        .then(() => loadScript(\"vega-embed\"))\n        .catch(showError)\n        .then(() => displayChart(vegaEmbed));\n    }\n  })({\"config\": {\"view\": {\"continuousWidth\": 400, \"continuousHeight\": 300}, \"axis\": {\"labelFontSize\": 14}, \"legend\": {\"labelFontSize\": 14}}, \"data\": {\"url\": \"http://localhost:16323/9559375e05a648afb13da73e7813125e.json\"}, \"mark\": {\"type\": \"circle\", \"opacity\": 0.5}, \"encoding\": {\"color\": {\"type\": \"nominal\", \"field\": \"material\", \"title\": \"Material\"}, \"size\": {\"type\": \"ordinal\", \"field\": \"temp\", \"title\": \"Temperature (C)\"}, \"x\": {\"type\": \"quantitative\", \"field\": \"tc_act\", \"title\": \"Actual Crack Depth (mm)\"}, \"y\": {\"type\": \"quantitative\", \"field\": \"tc_pred\", \"title\": \"Predicted Crack Depth (mm)\"}}, \"height\": 400, \"title\": \"Model Predictive Accuracy\", \"width\": 800, \"$schema\": \"https://vega.github.io/schema/vega-lite/v4.8.1.json\"}, {\"mode\": \"vega-lite\"});\n</script>",
      "text/plain": "alt.Chart(...)"
     },
     "metadata": {},
     "execution_count": 29
    }
   ],
   "source": [
    "fig3b"
   ]
  },
  {
   "cell_type": "code",
   "execution_count": null,
   "metadata": {},
   "outputs": [],
   "source": []
  }
 ],
 "metadata": {
  "kernelspec": {
   "display_name": "Python 3.8.3 64-bit ('msc_project': conda)",
   "language": "python",
   "name": "python38364bitmscprojectconda1b7ed98db8104d919ac5b59276832f86"
  },
  "language_info": {
   "codemirror_mode": {
    "name": "ipython",
    "version": 3
   },
   "file_extension": ".py",
   "mimetype": "text/x-python",
   "name": "python",
   "nbconvert_exporter": "python",
   "pygments_lexer": "ipython3",
   "version": "3.8.3-final"
  }
 },
 "nbformat": 4,
 "nbformat_minor": 4
}