{
 "cells": [
  {
   "cell_type": "markdown",
   "metadata": {},
   "source": [
    "# Notebook_13 Feature Removal\n",
    "\n",
    "The feature importances seemed to indicate natural frequency was the most important feature for predicting crack depth. This notebook will test what happens when features are removed"
   ]
  },
  {
   "cell_type": "code",
   "execution_count": 1,
   "metadata": {},
   "outputs": [
    {
     "data": {
      "text/plain": [
       "DataTransformerRegistry.enable('data_server')"
      ]
     },
     "execution_count": 1,
     "metadata": {},
     "output_type": "execute_result"
    }
   ],
   "source": [
    "import altair as alt\n",
    "import altair_data_server\n",
    "from altair_saver import save\n",
    "import matplotlib as mpl\n",
    "import matplotlib.pyplot as plt\n",
    "import numpy as np\n",
    "import pandas as pd\n",
    "import seaborn as sns\n",
    "\n",
    "%matplotlib inline\n",
    "\n",
    "sns.set(style='darkgrid', context='notebook')\n",
    "%config InlineBackend.figure_format = 'retina'\n",
    "\n",
    "alt.data_transformers.enable('data_server')"
   ]
  },
  {
   "cell_type": "code",
   "execution_count": 2,
   "metadata": {},
   "outputs": [],
   "source": [
    "from src.config import FINAL_DATA, FIGURES\n",
    "from src.models.model_metrics import score_model"
   ]
  },
  {
   "cell_type": "code",
   "execution_count": 3,
   "metadata": {},
   "outputs": [],
   "source": [
    "from sklearn.linear_model import Ridge\n",
    "from sklearn.model_selection import train_test_split, cross_val_score\n",
    "from sklearn.metrics import mean_squared_error, r2_score"
   ]
  },
  {
   "cell_type": "code",
   "execution_count": 4,
   "metadata": {},
   "outputs": [],
   "source": [
    "data = pd.read_csv(FINAL_DATA/'al_data_final.csv')"
   ]
  },
  {
   "cell_type": "code",
   "execution_count": 5,
   "metadata": {},
   "outputs": [
    {
     "data": {
      "text/html": [
       "<div>\n",
       "<style scoped>\n",
       "    .dataframe tbody tr th:only-of-type {\n",
       "        vertical-align: middle;\n",
       "    }\n",
       "\n",
       "    .dataframe tbody tr th {\n",
       "        vertical-align: top;\n",
       "    }\n",
       "\n",
       "    .dataframe thead th {\n",
       "        text-align: right;\n",
       "    }\n",
       "</style>\n",
       "<table border=\"1\" class=\"dataframe\">\n",
       "  <thead>\n",
       "    <tr style=\"text-align: right;\">\n",
       "      <th></th>\n",
       "      <th>x</th>\n",
       "      <th>temp</th>\n",
       "      <th>nf_hz</th>\n",
       "      <th>amp_mm</th>\n",
       "      <th>tc_act</th>\n",
       "    </tr>\n",
       "  </thead>\n",
       "  <tbody>\n",
       "    <tr>\n",
       "      <th>0</th>\n",
       "      <td>5</td>\n",
       "      <td>22</td>\n",
       "      <td>40.970000</td>\n",
       "      <td>12.010000</td>\n",
       "      <td>0.00</td>\n",
       "    </tr>\n",
       "    <tr>\n",
       "      <th>1</th>\n",
       "      <td>5</td>\n",
       "      <td>22</td>\n",
       "      <td>38.460000</td>\n",
       "      <td>12.290000</td>\n",
       "      <td>0.50</td>\n",
       "    </tr>\n",
       "    <tr>\n",
       "      <th>2</th>\n",
       "      <td>5</td>\n",
       "      <td>22</td>\n",
       "      <td>38.360000</td>\n",
       "      <td>10.470000</td>\n",
       "      <td>0.51</td>\n",
       "    </tr>\n",
       "    <tr>\n",
       "      <th>3</th>\n",
       "      <td>5</td>\n",
       "      <td>22</td>\n",
       "      <td>38.380000</td>\n",
       "      <td>9.880000</td>\n",
       "      <td>0.52</td>\n",
       "    </tr>\n",
       "    <tr>\n",
       "      <th>4</th>\n",
       "      <td>5</td>\n",
       "      <td>22</td>\n",
       "      <td>37.480877</td>\n",
       "      <td>12.786667</td>\n",
       "      <td>0.75</td>\n",
       "    </tr>\n",
       "    <tr>\n",
       "      <th>...</th>\n",
       "      <td>...</td>\n",
       "      <td>...</td>\n",
       "      <td>...</td>\n",
       "      <td>...</td>\n",
       "      <td>...</td>\n",
       "    </tr>\n",
       "    <tr>\n",
       "      <th>175</th>\n",
       "      <td>25</td>\n",
       "      <td>200</td>\n",
       "      <td>32.472500</td>\n",
       "      <td>17.736250</td>\n",
       "      <td>1.50</td>\n",
       "    </tr>\n",
       "    <tr>\n",
       "      <th>176</th>\n",
       "      <td>25</td>\n",
       "      <td>200</td>\n",
       "      <td>30.274583</td>\n",
       "      <td>18.053958</td>\n",
       "      <td>1.75</td>\n",
       "    </tr>\n",
       "    <tr>\n",
       "      <th>177</th>\n",
       "      <td>25</td>\n",
       "      <td>200</td>\n",
       "      <td>28.076667</td>\n",
       "      <td>18.371667</td>\n",
       "      <td>2.00</td>\n",
       "    </tr>\n",
       "    <tr>\n",
       "      <th>178</th>\n",
       "      <td>25</td>\n",
       "      <td>200</td>\n",
       "      <td>25.878750</td>\n",
       "      <td>18.689375</td>\n",
       "      <td>2.25</td>\n",
       "    </tr>\n",
       "    <tr>\n",
       "      <th>179</th>\n",
       "      <td>25</td>\n",
       "      <td>200</td>\n",
       "      <td>23.680833</td>\n",
       "      <td>19.007083</td>\n",
       "      <td>2.50</td>\n",
       "    </tr>\n",
       "  </tbody>\n",
       "</table>\n",
       "<p>180 rows × 5 columns</p>\n",
       "</div>"
      ],
      "text/plain": [
       "      x  temp      nf_hz     amp_mm  tc_act\n",
       "0     5    22  40.970000  12.010000    0.00\n",
       "1     5    22  38.460000  12.290000    0.50\n",
       "2     5    22  38.360000  10.470000    0.51\n",
       "3     5    22  38.380000   9.880000    0.52\n",
       "4     5    22  37.480877  12.786667    0.75\n",
       "..   ..   ...        ...        ...     ...\n",
       "175  25   200  32.472500  17.736250    1.50\n",
       "176  25   200  30.274583  18.053958    1.75\n",
       "177  25   200  28.076667  18.371667    2.00\n",
       "178  25   200  25.878750  18.689375    2.25\n",
       "179  25   200  23.680833  19.007083    2.50\n",
       "\n",
       "[180 rows x 5 columns]"
      ]
     },
     "execution_count": 5,
     "metadata": {},
     "output_type": "execute_result"
    }
   ],
   "source": [
    "data"
   ]
  },
  {
   "cell_type": "code",
   "execution_count": 6,
   "metadata": {},
   "outputs": [],
   "source": [
    "def custom_scorer(model, X, y):\n",
    "    \n",
    "    val_scores = cross_val_score(model, X, y, scoring=\"neg_mean_squared_error\")\n",
    "    val_scores = val_scores * -1\n",
    "    val_rmse_scores = np.sqrt(val_scores)\n",
    "\n",
    "    no_val_mse = mean_squared_error(y, model.predict(X))\n",
    "    no_val_rmse = np.sqrt(no_val_mse)\n",
    "    no_val_r2 = r2_score(y, model.predict(X))\n",
    "\n",
    "    cv_mean = np.mean(val_rmse_scores)\n",
    "    cv_std = np.std(val_rmse_scores)\n",
    "    cv_cov = cv_std / cv_mean\n",
    "    \n",
    "    return no_val_rmse, no_val_r2, cv_mean, cv_std, cv_cov\n",
    "    "
   ]
  },
  {
   "cell_type": "code",
   "execution_count": 7,
   "metadata": {},
   "outputs": [],
   "source": [
    "def add_to_df(scores: list, feat: str):\n",
    "    \n",
    "    temp_df_dict = {'features': [feat], 'no_val_rmse': [scores[0]], 'no_val_r2': [scores[1]], 'cv_mean': [scores[2]], 'cv_std': [scores[3]], 'cv_cov': [scores[4]]}\n",
    "    \n",
    "    temp_df = pd.DataFrame.from_dict(temp_df_dict)\n",
    "    \n",
    "    global feat_comp\n",
    "    \n",
    "    return feat_comp.append(temp_df, ignore_index = True)\n",
    "    "
   ]
  },
  {
   "cell_type": "markdown",
   "metadata": {},
   "source": [
    "## All Features"
   ]
  },
  {
   "cell_type": "markdown",
   "metadata": {},
   "source": [
    "First, let's train a nice stable model like a Ridge regressor on the data"
   ]
  },
  {
   "cell_type": "code",
   "execution_count": 8,
   "metadata": {},
   "outputs": [],
   "source": [
    "X = data.drop('tc_act', axis = 1)\n",
    "y = data['tc_act']\n",
    "\n",
    "X_train, X_test, y_train, y_test = train_test_split(X, y, test_size = 0.2, shuffle = True)"
   ]
  },
  {
   "cell_type": "code",
   "execution_count": 9,
   "metadata": {},
   "outputs": [
    {
     "data": {
      "text/plain": [
       "Ridge(alpha=0.1)"
      ]
     },
     "execution_count": 9,
     "metadata": {},
     "output_type": "execute_result"
    }
   ],
   "source": [
    "all_feats = Ridge(alpha = 0.1)\n",
    "\n",
    "all_feats.fit(X_train, y_train)"
   ]
  },
  {
   "cell_type": "code",
   "execution_count": 10,
   "metadata": {},
   "outputs": [],
   "source": [
    "[*scores] = custom_scorer(all_feats, X_train, y_train)"
   ]
  },
  {
   "cell_type": "code",
   "execution_count": 11,
   "metadata": {},
   "outputs": [
    {
     "data": {
      "text/plain": [
       "[0.1714072184195415,\n",
       " 0.947892609459517,\n",
       " 0.17605369447593205,\n",
       " 0.04498147916491116,\n",
       " 0.2554986380649938]"
      ]
     },
     "execution_count": 11,
     "metadata": {},
     "output_type": "execute_result"
    }
   ],
   "source": [
    "scores"
   ]
  },
  {
   "cell_type": "markdown",
   "metadata": {},
   "source": [
    "Lets make a dataframe to keep track of the scores from different runs"
   ]
  },
  {
   "cell_type": "code",
   "execution_count": 12,
   "metadata": {},
   "outputs": [],
   "source": [
    "data_dict = {'features': [], 'no_val_rmse': [], 'no_val_r2': [], 'cv_mean': [], 'cv_std': [], 'cv_cov': []}\n",
    "\n",
    "feat_comp = pd.DataFrame.from_dict(data_dict)"
   ]
  },
  {
   "cell_type": "code",
   "execution_count": 13,
   "metadata": {},
   "outputs": [
    {
     "data": {
      "text/html": [
       "<div>\n",
       "<style scoped>\n",
       "    .dataframe tbody tr th:only-of-type {\n",
       "        vertical-align: middle;\n",
       "    }\n",
       "\n",
       "    .dataframe tbody tr th {\n",
       "        vertical-align: top;\n",
       "    }\n",
       "\n",
       "    .dataframe thead th {\n",
       "        text-align: right;\n",
       "    }\n",
       "</style>\n",
       "<table border=\"1\" class=\"dataframe\">\n",
       "  <thead>\n",
       "    <tr style=\"text-align: right;\">\n",
       "      <th></th>\n",
       "      <th>features</th>\n",
       "      <th>no_val_rmse</th>\n",
       "      <th>no_val_r2</th>\n",
       "      <th>cv_mean</th>\n",
       "      <th>cv_std</th>\n",
       "      <th>cv_cov</th>\n",
       "    </tr>\n",
       "  </thead>\n",
       "  <tbody>\n",
       "  </tbody>\n",
       "</table>\n",
       "</div>"
      ],
      "text/plain": [
       "Empty DataFrame\n",
       "Columns: [features, no_val_rmse, no_val_r2, cv_mean, cv_std, cv_cov]\n",
       "Index: []"
      ]
     },
     "execution_count": 13,
     "metadata": {},
     "output_type": "execute_result"
    }
   ],
   "source": [
    "feat_comp"
   ]
  },
  {
   "cell_type": "code",
   "execution_count": 14,
   "metadata": {},
   "outputs": [],
   "source": [
    "feat_comp = add_to_df(scores = scores, feat = 'All Features')"
   ]
  },
  {
   "cell_type": "code",
   "execution_count": 15,
   "metadata": {},
   "outputs": [
    {
     "data": {
      "text/html": [
       "<div>\n",
       "<style scoped>\n",
       "    .dataframe tbody tr th:only-of-type {\n",
       "        vertical-align: middle;\n",
       "    }\n",
       "\n",
       "    .dataframe tbody tr th {\n",
       "        vertical-align: top;\n",
       "    }\n",
       "\n",
       "    .dataframe thead th {\n",
       "        text-align: right;\n",
       "    }\n",
       "</style>\n",
       "<table border=\"1\" class=\"dataframe\">\n",
       "  <thead>\n",
       "    <tr style=\"text-align: right;\">\n",
       "      <th></th>\n",
       "      <th>features</th>\n",
       "      <th>no_val_rmse</th>\n",
       "      <th>no_val_r2</th>\n",
       "      <th>cv_mean</th>\n",
       "      <th>cv_std</th>\n",
       "      <th>cv_cov</th>\n",
       "    </tr>\n",
       "  </thead>\n",
       "  <tbody>\n",
       "    <tr>\n",
       "      <th>0</th>\n",
       "      <td>All Features</td>\n",
       "      <td>0.171407</td>\n",
       "      <td>0.947893</td>\n",
       "      <td>0.176054</td>\n",
       "      <td>0.044981</td>\n",
       "      <td>0.255499</td>\n",
       "    </tr>\n",
       "  </tbody>\n",
       "</table>\n",
       "</div>"
      ],
      "text/plain": [
       "       features  no_val_rmse  no_val_r2   cv_mean    cv_std    cv_cov\n",
       "0  All Features     0.171407   0.947893  0.176054  0.044981  0.255499"
      ]
     },
     "execution_count": 15,
     "metadata": {},
     "output_type": "execute_result"
    }
   ],
   "source": [
    "feat_comp"
   ]
  },
  {
   "cell_type": "markdown",
   "metadata": {},
   "source": [
    "## Removing Amplitude"
   ]
  },
  {
   "cell_type": "code",
   "execution_count": 16,
   "metadata": {},
   "outputs": [],
   "source": [
    "X = data.drop(['tc_act', 'amp_mm'], axis = 1)\n",
    "y = data['tc_act']\n",
    "\n",
    "X_train, X_test, y_train, y_test = train_test_split(X, y, test_size = 0.2, shuffle = True)"
   ]
  },
  {
   "cell_type": "code",
   "execution_count": 17,
   "metadata": {},
   "outputs": [
    {
     "data": {
      "text/plain": [
       "Ridge(alpha=0.1)"
      ]
     },
     "execution_count": 17,
     "metadata": {},
     "output_type": "execute_result"
    }
   ],
   "source": [
    "no_amp = Ridge(alpha = 0.1)\n",
    "\n",
    "no_amp.fit(X_train, y_train)"
   ]
  },
  {
   "cell_type": "code",
   "execution_count": 18,
   "metadata": {},
   "outputs": [],
   "source": [
    "[*scores] = custom_scorer(no_amp, X_train, y_train)"
   ]
  },
  {
   "cell_type": "code",
   "execution_count": 19,
   "metadata": {},
   "outputs": [],
   "source": [
    "feat_comp = add_to_df(scores = scores, feat = 'Removed Amplitude')"
   ]
  },
  {
   "cell_type": "code",
   "execution_count": 20,
   "metadata": {},
   "outputs": [
    {
     "data": {
      "text/html": [
       "<div>\n",
       "<style scoped>\n",
       "    .dataframe tbody tr th:only-of-type {\n",
       "        vertical-align: middle;\n",
       "    }\n",
       "\n",
       "    .dataframe tbody tr th {\n",
       "        vertical-align: top;\n",
       "    }\n",
       "\n",
       "    .dataframe thead th {\n",
       "        text-align: right;\n",
       "    }\n",
       "</style>\n",
       "<table border=\"1\" class=\"dataframe\">\n",
       "  <thead>\n",
       "    <tr style=\"text-align: right;\">\n",
       "      <th></th>\n",
       "      <th>features</th>\n",
       "      <th>no_val_rmse</th>\n",
       "      <th>no_val_r2</th>\n",
       "      <th>cv_mean</th>\n",
       "      <th>cv_std</th>\n",
       "      <th>cv_cov</th>\n",
       "    </tr>\n",
       "  </thead>\n",
       "  <tbody>\n",
       "    <tr>\n",
       "      <th>0</th>\n",
       "      <td>All Features</td>\n",
       "      <td>0.171407</td>\n",
       "      <td>0.947893</td>\n",
       "      <td>0.176054</td>\n",
       "      <td>0.044981</td>\n",
       "      <td>0.255499</td>\n",
       "    </tr>\n",
       "    <tr>\n",
       "      <th>1</th>\n",
       "      <td>Removed Amplitude</td>\n",
       "      <td>0.200248</td>\n",
       "      <td>0.931996</td>\n",
       "      <td>0.205645</td>\n",
       "      <td>0.008619</td>\n",
       "      <td>0.041913</td>\n",
       "    </tr>\n",
       "  </tbody>\n",
       "</table>\n",
       "</div>"
      ],
      "text/plain": [
       "            features  no_val_rmse  no_val_r2   cv_mean    cv_std    cv_cov\n",
       "0       All Features     0.171407   0.947893  0.176054  0.044981  0.255499\n",
       "1  Removed Amplitude     0.200248   0.931996  0.205645  0.008619  0.041913"
      ]
     },
     "execution_count": 20,
     "metadata": {},
     "output_type": "execute_result"
    }
   ],
   "source": [
    "feat_comp"
   ]
  },
  {
   "cell_type": "markdown",
   "metadata": {},
   "source": [
    "## Removing x"
   ]
  },
  {
   "cell_type": "code",
   "execution_count": 21,
   "metadata": {},
   "outputs": [],
   "source": [
    "X = data.drop(['tc_act', 'x'], axis = 1)\n",
    "y = data['tc_act']\n",
    "\n",
    "X_train, X_test, y_train, y_test = train_test_split(X, y, test_size = 0.2, shuffle = True)"
   ]
  },
  {
   "cell_type": "code",
   "execution_count": 22,
   "metadata": {},
   "outputs": [
    {
     "data": {
      "text/plain": [
       "Ridge(alpha=0.1)"
      ]
     },
     "execution_count": 22,
     "metadata": {},
     "output_type": "execute_result"
    }
   ],
   "source": [
    "no_x = Ridge(alpha = 0.1)\n",
    "\n",
    "no_x.fit(X_train, y_train)"
   ]
  },
  {
   "cell_type": "code",
   "execution_count": 23,
   "metadata": {},
   "outputs": [],
   "source": [
    "[*scores] = custom_scorer(no_x, X_train, y_train)"
   ]
  },
  {
   "cell_type": "code",
   "execution_count": 24,
   "metadata": {},
   "outputs": [],
   "source": [
    "feat_comp = add_to_df(scores = scores, feat = 'Removed Crack Location')"
   ]
  },
  {
   "cell_type": "code",
   "execution_count": 25,
   "metadata": {},
   "outputs": [
    {
     "data": {
      "text/html": [
       "<div>\n",
       "<style scoped>\n",
       "    .dataframe tbody tr th:only-of-type {\n",
       "        vertical-align: middle;\n",
       "    }\n",
       "\n",
       "    .dataframe tbody tr th {\n",
       "        vertical-align: top;\n",
       "    }\n",
       "\n",
       "    .dataframe thead th {\n",
       "        text-align: right;\n",
       "    }\n",
       "</style>\n",
       "<table border=\"1\" class=\"dataframe\">\n",
       "  <thead>\n",
       "    <tr style=\"text-align: right;\">\n",
       "      <th></th>\n",
       "      <th>features</th>\n",
       "      <th>no_val_rmse</th>\n",
       "      <th>no_val_r2</th>\n",
       "      <th>cv_mean</th>\n",
       "      <th>cv_std</th>\n",
       "      <th>cv_cov</th>\n",
       "    </tr>\n",
       "  </thead>\n",
       "  <tbody>\n",
       "    <tr>\n",
       "      <th>0</th>\n",
       "      <td>All Features</td>\n",
       "      <td>0.171407</td>\n",
       "      <td>0.947893</td>\n",
       "      <td>0.176054</td>\n",
       "      <td>0.044981</td>\n",
       "      <td>0.255499</td>\n",
       "    </tr>\n",
       "    <tr>\n",
       "      <th>1</th>\n",
       "      <td>Removed Amplitude</td>\n",
       "      <td>0.200248</td>\n",
       "      <td>0.931996</td>\n",
       "      <td>0.205645</td>\n",
       "      <td>0.008619</td>\n",
       "      <td>0.041913</td>\n",
       "    </tr>\n",
       "    <tr>\n",
       "      <th>2</th>\n",
       "      <td>Removed Crack Location</td>\n",
       "      <td>0.202331</td>\n",
       "      <td>0.930058</td>\n",
       "      <td>0.209188</td>\n",
       "      <td>0.022491</td>\n",
       "      <td>0.107516</td>\n",
       "    </tr>\n",
       "  </tbody>\n",
       "</table>\n",
       "</div>"
      ],
      "text/plain": [
       "                 features  no_val_rmse  no_val_r2   cv_mean    cv_std  \\\n",
       "0            All Features     0.171407   0.947893  0.176054  0.044981   \n",
       "1       Removed Amplitude     0.200248   0.931996  0.205645  0.008619   \n",
       "2  Removed Crack Location     0.202331   0.930058  0.209188  0.022491   \n",
       "\n",
       "     cv_cov  \n",
       "0  0.255499  \n",
       "1  0.041913  \n",
       "2  0.107516  "
      ]
     },
     "execution_count": 25,
     "metadata": {},
     "output_type": "execute_result"
    }
   ],
   "source": [
    "feat_comp"
   ]
  },
  {
   "cell_type": "markdown",
   "metadata": {},
   "source": [
    "## Removing Temp"
   ]
  },
  {
   "cell_type": "code",
   "execution_count": 26,
   "metadata": {},
   "outputs": [
    {
     "data": {
      "text/html": [
       "<div>\n",
       "<style scoped>\n",
       "    .dataframe tbody tr th:only-of-type {\n",
       "        vertical-align: middle;\n",
       "    }\n",
       "\n",
       "    .dataframe tbody tr th {\n",
       "        vertical-align: top;\n",
       "    }\n",
       "\n",
       "    .dataframe thead th {\n",
       "        text-align: right;\n",
       "    }\n",
       "</style>\n",
       "<table border=\"1\" class=\"dataframe\">\n",
       "  <thead>\n",
       "    <tr style=\"text-align: right;\">\n",
       "      <th></th>\n",
       "      <th>features</th>\n",
       "      <th>no_val_rmse</th>\n",
       "      <th>no_val_r2</th>\n",
       "      <th>cv_mean</th>\n",
       "      <th>cv_std</th>\n",
       "      <th>cv_cov</th>\n",
       "    </tr>\n",
       "  </thead>\n",
       "  <tbody>\n",
       "    <tr>\n",
       "      <th>0</th>\n",
       "      <td>All Features</td>\n",
       "      <td>0.171407</td>\n",
       "      <td>0.947893</td>\n",
       "      <td>0.176054</td>\n",
       "      <td>0.044981</td>\n",
       "      <td>0.255499</td>\n",
       "    </tr>\n",
       "    <tr>\n",
       "      <th>1</th>\n",
       "      <td>Removed Amplitude</td>\n",
       "      <td>0.200248</td>\n",
       "      <td>0.931996</td>\n",
       "      <td>0.205645</td>\n",
       "      <td>0.008619</td>\n",
       "      <td>0.041913</td>\n",
       "    </tr>\n",
       "    <tr>\n",
       "      <th>2</th>\n",
       "      <td>Removed Crack Location</td>\n",
       "      <td>0.202331</td>\n",
       "      <td>0.930058</td>\n",
       "      <td>0.209188</td>\n",
       "      <td>0.022491</td>\n",
       "      <td>0.107516</td>\n",
       "    </tr>\n",
       "    <tr>\n",
       "      <th>3</th>\n",
       "      <td>Removed Temp</td>\n",
       "      <td>0.246850</td>\n",
       "      <td>0.892968</td>\n",
       "      <td>0.255884</td>\n",
       "      <td>0.022339</td>\n",
       "      <td>0.087302</td>\n",
       "    </tr>\n",
       "  </tbody>\n",
       "</table>\n",
       "</div>"
      ],
      "text/plain": [
       "                 features  no_val_rmse  no_val_r2   cv_mean    cv_std  \\\n",
       "0            All Features     0.171407   0.947893  0.176054  0.044981   \n",
       "1       Removed Amplitude     0.200248   0.931996  0.205645  0.008619   \n",
       "2  Removed Crack Location     0.202331   0.930058  0.209188  0.022491   \n",
       "3            Removed Temp     0.246850   0.892968  0.255884  0.022339   \n",
       "\n",
       "     cv_cov  \n",
       "0  0.255499  \n",
       "1  0.041913  \n",
       "2  0.107516  \n",
       "3  0.087302  "
      ]
     },
     "execution_count": 26,
     "metadata": {},
     "output_type": "execute_result"
    }
   ],
   "source": [
    "X = data.drop(['tc_act', 'temp'], axis = 1)\n",
    "y = data['tc_act']\n",
    "\n",
    "X_train, X_test, y_train, y_test = train_test_split(X, y, test_size = 0.2, shuffle = True)\n",
    "\n",
    "no_temp = Ridge(alpha = 0.1)\n",
    "\n",
    "no_temp.fit(X_train, y_train)\n",
    "\n",
    "[*scores] = custom_scorer(no_temp, X_train, y_train)\n",
    "\n",
    "feat_comp = add_to_df(scores = scores, feat = 'Removed Temp')\n",
    "\n",
    "feat_comp"
   ]
  },
  {
   "cell_type": "markdown",
   "metadata": {},
   "source": [
    "## Removing Natural Frequency"
   ]
  },
  {
   "cell_type": "code",
   "execution_count": 27,
   "metadata": {},
   "outputs": [
    {
     "data": {
      "text/html": [
       "<div>\n",
       "<style scoped>\n",
       "    .dataframe tbody tr th:only-of-type {\n",
       "        vertical-align: middle;\n",
       "    }\n",
       "\n",
       "    .dataframe tbody tr th {\n",
       "        vertical-align: top;\n",
       "    }\n",
       "\n",
       "    .dataframe thead th {\n",
       "        text-align: right;\n",
       "    }\n",
       "</style>\n",
       "<table border=\"1\" class=\"dataframe\">\n",
       "  <thead>\n",
       "    <tr style=\"text-align: right;\">\n",
       "      <th></th>\n",
       "      <th>features</th>\n",
       "      <th>no_val_rmse</th>\n",
       "      <th>no_val_r2</th>\n",
       "      <th>cv_mean</th>\n",
       "      <th>cv_std</th>\n",
       "      <th>cv_cov</th>\n",
       "    </tr>\n",
       "  </thead>\n",
       "  <tbody>\n",
       "    <tr>\n",
       "      <th>0</th>\n",
       "      <td>All Features</td>\n",
       "      <td>0.171407</td>\n",
       "      <td>0.947893</td>\n",
       "      <td>0.176054</td>\n",
       "      <td>0.044981</td>\n",
       "      <td>0.255499</td>\n",
       "    </tr>\n",
       "    <tr>\n",
       "      <th>1</th>\n",
       "      <td>Removed Amplitude</td>\n",
       "      <td>0.200248</td>\n",
       "      <td>0.931996</td>\n",
       "      <td>0.205645</td>\n",
       "      <td>0.008619</td>\n",
       "      <td>0.041913</td>\n",
       "    </tr>\n",
       "    <tr>\n",
       "      <th>2</th>\n",
       "      <td>Removed Crack Location</td>\n",
       "      <td>0.202331</td>\n",
       "      <td>0.930058</td>\n",
       "      <td>0.209188</td>\n",
       "      <td>0.022491</td>\n",
       "      <td>0.107516</td>\n",
       "    </tr>\n",
       "    <tr>\n",
       "      <th>3</th>\n",
       "      <td>Removed Temp</td>\n",
       "      <td>0.246850</td>\n",
       "      <td>0.892968</td>\n",
       "      <td>0.255884</td>\n",
       "      <td>0.022339</td>\n",
       "      <td>0.087302</td>\n",
       "    </tr>\n",
       "    <tr>\n",
       "      <th>4</th>\n",
       "      <td>Removed Natural Frequency</td>\n",
       "      <td>0.354971</td>\n",
       "      <td>0.788145</td>\n",
       "      <td>0.367330</td>\n",
       "      <td>0.056310</td>\n",
       "      <td>0.153297</td>\n",
       "    </tr>\n",
       "  </tbody>\n",
       "</table>\n",
       "</div>"
      ],
      "text/plain": [
       "                    features  no_val_rmse  no_val_r2   cv_mean    cv_std  \\\n",
       "0               All Features     0.171407   0.947893  0.176054  0.044981   \n",
       "1          Removed Amplitude     0.200248   0.931996  0.205645  0.008619   \n",
       "2     Removed Crack Location     0.202331   0.930058  0.209188  0.022491   \n",
       "3               Removed Temp     0.246850   0.892968  0.255884  0.022339   \n",
       "4  Removed Natural Frequency     0.354971   0.788145  0.367330  0.056310   \n",
       "\n",
       "     cv_cov  \n",
       "0  0.255499  \n",
       "1  0.041913  \n",
       "2  0.107516  \n",
       "3  0.087302  \n",
       "4  0.153297  "
      ]
     },
     "execution_count": 27,
     "metadata": {},
     "output_type": "execute_result"
    }
   ],
   "source": [
    "X = data.drop(['tc_act', 'nf_hz'], axis = 1)\n",
    "y = data['tc_act']\n",
    "\n",
    "X_train, X_test, y_train, y_test = train_test_split(X, y, test_size = 0.2, shuffle = True)\n",
    "\n",
    "no_nf = Ridge(alpha = 0.1)\n",
    "\n",
    "no_nf.fit(X_train, y_train)\n",
    "\n",
    "[*scores] = custom_scorer(no_nf, X_train, y_train)\n",
    "\n",
    "feat_comp = add_to_df(scores = scores, feat = 'Removed Natural Frequency')\n",
    "\n",
    "feat_comp"
   ]
  },
  {
   "cell_type": "code",
   "execution_count": 28,
   "metadata": {},
   "outputs": [],
   "source": [
    "chart = alt.Chart(feat_comp).mark_bar().encode(\n",
    "    x = alt.X('features:N', title = 'Feature', sort = '-y', axis = alt.Axis(labelAngle = -45)),\n",
    "    y = alt.Y('cv_mean:Q', title = 'Mean Cross Validation RMSE (mm)')\n",
    ").properties(\n",
    "    width = 500,\n",
    "    height = 400,\n",
    "    title = 'Feature Removal Test Results'\n",
    ")\n",
    "\n",
    "save(chart, fp = str(FIGURES/'feature_removal_test_results.png'), fmt = 'png', method = 'selenium', scale_factor = 6.0)"
   ]
  },
  {
   "cell_type": "code",
   "execution_count": 29,
   "metadata": {},
   "outputs": [
    {
     "data": {
      "text/html": [
       "\n",
       "<div id=\"altair-viz-33e2157548f64d6fb6f7b89ca3fda7cd\"></div>\n",
       "<script type=\"text/javascript\">\n",
       "  (function(spec, embedOpt){\n",
       "    let outputDiv = document.currentScript.previousElementSibling;\n",
       "    if (outputDiv.id !== \"altair-viz-33e2157548f64d6fb6f7b89ca3fda7cd\") {\n",
       "      outputDiv = document.getElementById(\"altair-viz-33e2157548f64d6fb6f7b89ca3fda7cd\");\n",
       "    }\n",
       "    const paths = {\n",
       "      \"vega\": \"https://cdn.jsdelivr.net/npm//vega@5?noext\",\n",
       "      \"vega-lib\": \"https://cdn.jsdelivr.net/npm//vega-lib?noext\",\n",
       "      \"vega-lite\": \"https://cdn.jsdelivr.net/npm//vega-lite@4.8.1?noext\",\n",
       "      \"vega-embed\": \"https://cdn.jsdelivr.net/npm//vega-embed@6?noext\",\n",
       "    };\n",
       "\n",
       "    function loadScript(lib) {\n",
       "      return new Promise(function(resolve, reject) {\n",
       "        var s = document.createElement('script');\n",
       "        s.src = paths[lib];\n",
       "        s.async = true;\n",
       "        s.onload = () => resolve(paths[lib]);\n",
       "        s.onerror = () => reject(`Error loading script: ${paths[lib]}`);\n",
       "        document.getElementsByTagName(\"head\")[0].appendChild(s);\n",
       "      });\n",
       "    }\n",
       "\n",
       "    function showError(err) {\n",
       "      outputDiv.innerHTML = `<div class=\"error\" style=\"color:red;\">${err}</div>`;\n",
       "      throw err;\n",
       "    }\n",
       "\n",
       "    function displayChart(vegaEmbed) {\n",
       "      vegaEmbed(outputDiv, spec, embedOpt)\n",
       "        .catch(err => showError(`Javascript Error: ${err.message}<br>This usually means there's a typo in your chart specification. See the javascript console for the full traceback.`));\n",
       "    }\n",
       "\n",
       "    if(typeof define === \"function\" && define.amd) {\n",
       "      requirejs.config({paths});\n",
       "      require([\"vega-embed\"], displayChart, err => showError(`Error loading script: ${err.message}`));\n",
       "    } else if (typeof vegaEmbed === \"function\") {\n",
       "      displayChart(vegaEmbed);\n",
       "    } else {\n",
       "      loadScript(\"vega\")\n",
       "        .then(() => loadScript(\"vega-lite\"))\n",
       "        .then(() => loadScript(\"vega-embed\"))\n",
       "        .catch(showError)\n",
       "        .then(() => displayChart(vegaEmbed));\n",
       "    }\n",
       "  })({\"config\": {\"view\": {\"continuousWidth\": 400, \"continuousHeight\": 300}}, \"data\": {\"url\": \"http://localhost:24565/1d3bcee3c4a8575080f1707edbe718bf.json\"}, \"mark\": \"bar\", \"encoding\": {\"x\": {\"type\": \"nominal\", \"axis\": {\"labelAngle\": -45}, \"field\": \"features\", \"sort\": \"-y\", \"title\": \"Feature\"}, \"y\": {\"type\": \"quantitative\", \"field\": \"cv_mean\", \"title\": \"Mean Cross Validation RMSE (mm)\"}}, \"height\": 400, \"title\": \"Feature Removal Test Results\", \"width\": 500, \"$schema\": \"https://vega.github.io/schema/vega-lite/v4.8.1.json\"}, {\"mode\": \"vega-lite\"});\n",
       "</script>"
      ],
      "text/plain": [
       "alt.Chart(...)"
      ]
     },
     "execution_count": 29,
     "metadata": {},
     "output_type": "execute_result"
    }
   ],
   "source": [
    "chart"
   ]
  },
  {
   "cell_type": "code",
   "execution_count": null,
   "metadata": {},
   "outputs": [],
   "source": []
  }
 ],
 "metadata": {
  "kernelspec": {
   "display_name": "Python 3.8.3 64-bit ('msc_project': conda)",
   "language": "python",
   "name": "python38364bitmscprojectconda1b7ed98db8104d919ac5b59276832f86"
  },
  "language_info": {
   "codemirror_mode": {
    "name": "ipython",
    "version": 3
   },
   "file_extension": ".py",
   "mimetype": "text/x-python",
   "name": "python",
   "nbconvert_exporter": "python",
   "pygments_lexer": "ipython3",
   "version": "3.8.3"
  }
 },
 "nbformat": 4,
 "nbformat_minor": 4
}
