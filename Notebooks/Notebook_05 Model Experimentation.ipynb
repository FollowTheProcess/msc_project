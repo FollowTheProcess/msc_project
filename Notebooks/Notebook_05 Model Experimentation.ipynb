{
 "cells": [
  {
   "cell_type": "markdown",
   "metadata": {},
   "source": [
    "# Notebook_05: Model Experimentation\n",
    "\n",
    "The objective of this notebook is to experiment with different modelling techniques and data processing steps to shortlist a couple of good options to take forward to optimisation."
   ]
  },
  {
   "cell_type": "markdown",
   "metadata": {},
   "source": [
    "## Imports & Setup"
   ]
  },
  {
   "cell_type": "code",
   "execution_count": 1,
   "metadata": {},
   "outputs": [
    {
     "name": "stdout",
     "output_type": "stream",
     "text": [
      "INFO: 'msc_model_shortlisting_2' does not exist. Creating a new experiment\n"
     ]
    }
   ],
   "source": [
    "from pathlib import Path\n",
    "import numpy as np\n",
    "import pandas as pd\n",
    "import sys\n",
    "sys.path.append('../src')\n",
    "from model_metrics import score_model, auto_mlflow\n",
    "\n",
    "from sklearn.model_selection import train_test_split, cross_val_score\n",
    "from sklearn.metrics import mean_squared_error, r2_score\n",
    "from sklearn.preprocessing import StandardScaler, PolynomialFeatures\n",
    "from sklearn.compose import ColumnTransformer\n",
    "from sklearn.pipeline import Pipeline\n",
    "\n",
    "import mlflow\n",
    "import mlflow.sklearn\n",
    "\n",
    "mlflow.set_experiment(\"msc_model_shortlisting_2\")\n",
    "\n",
    "\n"
   ]
  },
  {
   "cell_type": "code",
   "execution_count": 2,
   "metadata": {},
   "outputs": [
    {
     "data": {
      "text/plain": [
       "'file:///Users/tomfleet/Documents/Python/Projects/MScProject/Notebooks/mlruns'"
      ]
     },
     "execution_count": 2,
     "metadata": {},
     "output_type": "execute_result"
    }
   ],
   "source": [
    "mlflow.get_tracking_uri()"
   ]
  },
  {
   "cell_type": "code",
   "execution_count": 3,
   "metadata": {},
   "outputs": [],
   "source": [
    "project_root = Path().resolve().parent\n",
    "data_path = project_root / 'Data' / 'Final' / 'al_data_final.csv'\n",
    "data = pd.read_csv(data_path)"
   ]
  },
  {
   "cell_type": "code",
   "execution_count": 4,
   "metadata": {},
   "outputs": [
    {
     "data": {
      "text/html": [
       "<div>\n",
       "<style scoped>\n",
       "    .dataframe tbody tr th:only-of-type {\n",
       "        vertical-align: middle;\n",
       "    }\n",
       "\n",
       "    .dataframe tbody tr th {\n",
       "        vertical-align: top;\n",
       "    }\n",
       "\n",
       "    .dataframe thead th {\n",
       "        text-align: right;\n",
       "    }\n",
       "</style>\n",
       "<table border=\"1\" class=\"dataframe\">\n",
       "  <thead>\n",
       "    <tr style=\"text-align: right;\">\n",
       "      <th></th>\n",
       "      <th>x</th>\n",
       "      <th>temp</th>\n",
       "      <th>nf_hz</th>\n",
       "      <th>amp_mm</th>\n",
       "      <th>tc_act</th>\n",
       "    </tr>\n",
       "  </thead>\n",
       "  <tbody>\n",
       "    <tr>\n",
       "      <th>0</th>\n",
       "      <td>5</td>\n",
       "      <td>22</td>\n",
       "      <td>40.970000</td>\n",
       "      <td>12.010000</td>\n",
       "      <td>0.00</td>\n",
       "    </tr>\n",
       "    <tr>\n",
       "      <th>1</th>\n",
       "      <td>5</td>\n",
       "      <td>22</td>\n",
       "      <td>38.460000</td>\n",
       "      <td>12.290000</td>\n",
       "      <td>0.50</td>\n",
       "    </tr>\n",
       "    <tr>\n",
       "      <th>2</th>\n",
       "      <td>5</td>\n",
       "      <td>22</td>\n",
       "      <td>38.360000</td>\n",
       "      <td>10.470000</td>\n",
       "      <td>0.51</td>\n",
       "    </tr>\n",
       "    <tr>\n",
       "      <th>3</th>\n",
       "      <td>5</td>\n",
       "      <td>22</td>\n",
       "      <td>38.380000</td>\n",
       "      <td>9.880000</td>\n",
       "      <td>0.52</td>\n",
       "    </tr>\n",
       "    <tr>\n",
       "      <th>4</th>\n",
       "      <td>5</td>\n",
       "      <td>22</td>\n",
       "      <td>37.480877</td>\n",
       "      <td>12.786667</td>\n",
       "      <td>0.75</td>\n",
       "    </tr>\n",
       "    <tr>\n",
       "      <th>...</th>\n",
       "      <td>...</td>\n",
       "      <td>...</td>\n",
       "      <td>...</td>\n",
       "      <td>...</td>\n",
       "      <td>...</td>\n",
       "    </tr>\n",
       "    <tr>\n",
       "      <th>175</th>\n",
       "      <td>25</td>\n",
       "      <td>200</td>\n",
       "      <td>32.472500</td>\n",
       "      <td>17.736250</td>\n",
       "      <td>1.50</td>\n",
       "    </tr>\n",
       "    <tr>\n",
       "      <th>176</th>\n",
       "      <td>25</td>\n",
       "      <td>200</td>\n",
       "      <td>30.274583</td>\n",
       "      <td>18.053958</td>\n",
       "      <td>1.75</td>\n",
       "    </tr>\n",
       "    <tr>\n",
       "      <th>177</th>\n",
       "      <td>25</td>\n",
       "      <td>200</td>\n",
       "      <td>28.076667</td>\n",
       "      <td>18.371667</td>\n",
       "      <td>2.00</td>\n",
       "    </tr>\n",
       "    <tr>\n",
       "      <th>178</th>\n",
       "      <td>25</td>\n",
       "      <td>200</td>\n",
       "      <td>25.878750</td>\n",
       "      <td>18.689375</td>\n",
       "      <td>2.25</td>\n",
       "    </tr>\n",
       "    <tr>\n",
       "      <th>179</th>\n",
       "      <td>25</td>\n",
       "      <td>200</td>\n",
       "      <td>23.680833</td>\n",
       "      <td>19.007083</td>\n",
       "      <td>2.50</td>\n",
       "    </tr>\n",
       "  </tbody>\n",
       "</table>\n",
       "<p>180 rows × 5 columns</p>\n",
       "</div>"
      ],
      "text/plain": [
       "      x  temp      nf_hz     amp_mm  tc_act\n",
       "0     5    22  40.970000  12.010000    0.00\n",
       "1     5    22  38.460000  12.290000    0.50\n",
       "2     5    22  38.360000  10.470000    0.51\n",
       "3     5    22  38.380000   9.880000    0.52\n",
       "4     5    22  37.480877  12.786667    0.75\n",
       "..   ..   ...        ...        ...     ...\n",
       "175  25   200  32.472500  17.736250    1.50\n",
       "176  25   200  30.274583  18.053958    1.75\n",
       "177  25   200  28.076667  18.371667    2.00\n",
       "178  25   200  25.878750  18.689375    2.25\n",
       "179  25   200  23.680833  19.007083    2.50\n",
       "\n",
       "[180 rows x 5 columns]"
      ]
     },
     "execution_count": 4,
     "metadata": {},
     "output_type": "execute_result"
    }
   ],
   "source": [
    "data"
   ]
  },
  {
   "cell_type": "markdown",
   "metadata": {},
   "source": [
    "### Train Test Split"
   ]
  },
  {
   "cell_type": "code",
   "execution_count": 5,
   "metadata": {},
   "outputs": [],
   "source": [
    "X = data.drop('tc_act', axis = 1)\n",
    "y = data['tc_act']\n",
    "\n",
    "X_train, X_test, y_train, y_test = train_test_split(X, y, test_size = 0.2, shuffle = True, stratify = data['x'])"
   ]
  },
  {
   "cell_type": "markdown",
   "metadata": {},
   "source": [
    "### Polynomial Feature Generation\n",
    "\n",
    "Generation of polynomial features from the original data frame"
   ]
  },
  {
   "cell_type": "code",
   "execution_count": 6,
   "metadata": {},
   "outputs": [],
   "source": [
    "# First try polynomialising the whole thing (minus the target obviously)\n",
    "poly_features_3 = PolynomialFeatures(degree = 3)\n",
    "poly_features_2 = PolynomialFeatures(degree = 2)\n",
    "\n",
    "poly_2_pipeline = Pipeline([\n",
    "    (\"poly_features_2\", poly_features_2)\n",
    "])\n",
    "\n",
    "poly_3_pipeline = Pipeline([\n",
    "    (\"poly_features_3\", poly_features_3)\n",
    "])\n",
    "\n",
    "X_train_poly_2 = poly_2_pipeline.fit_transform(X_train)\n",
    "X_train_poly_3 = poly_3_pipeline.fit_transform(X_train)"
   ]
  },
  {
   "cell_type": "markdown",
   "metadata": {},
   "source": [
    "# Data As Is\n",
    "\n",
    "Let's try a few things on the data as it stands to get a baseline."
   ]
  },
  {
   "cell_type": "markdown",
   "metadata": {},
   "source": [
    "## Linear Regression"
   ]
  },
  {
   "cell_type": "code",
   "execution_count": 7,
   "metadata": {},
   "outputs": [],
   "source": [
    "from sklearn.linear_model import LinearRegression"
   ]
  },
  {
   "cell_type": "code",
   "execution_count": 8,
   "metadata": {},
   "outputs": [
    {
     "name": "stdout",
     "output_type": "stream",
     "text": [
      "Non-validation Scores\n",
      "-----------\n",
      "RMSE (No Val): 0.171\n",
      "R^2 (No Val): 0.948\n",
      "\n",
      "Validation Scores\n",
      "-----------\n",
      "RMSE's: [0.166 0.205 0.213 0.154 0.142]\n",
      "Mean: 0.176\n",
      "StDev: 0.028\n",
      "CoV: 0.159\n"
     ]
    }
   ],
   "source": [
    "lin_reg = LinearRegression()\n",
    "\n",
    "auto_mlflow(run_name = 'Linear Regression', model_name=lin_reg, data_params={\"scaled\": False, \"polynomial_features\": False}, X = X_train, y = y_train)"
   ]
  },
  {
   "cell_type": "markdown",
   "metadata": {},
   "source": [
    "#### Observations\n",
    "\n",
    "* Not bad, pretty good RMSE, great $R^2$ value\n",
    "\n",
    "* No sign of overfitting, but it's basically the simplest model ever so that's no surprise\n",
    "\n",
    "* Because it's not overfitting I won't use any regularisation (Lasso or Ridge etc.)"
   ]
  },
  {
   "cell_type": "markdown",
   "metadata": {},
   "source": [
    "## Random Forest Regressor"
   ]
  },
  {
   "cell_type": "code",
   "execution_count": 9,
   "metadata": {},
   "outputs": [],
   "source": [
    "from sklearn.ensemble import RandomForestRegressor"
   ]
  },
  {
   "cell_type": "code",
   "execution_count": 10,
   "metadata": {},
   "outputs": [
    {
     "name": "stdout",
     "output_type": "stream",
     "text": [
      "Non-validation Scores\n",
      "-----------\n",
      "RMSE (No Val): 0.054\n",
      "R^2 (No Val): 0.995\n",
      "\n",
      "Validation Scores\n",
      "-----------\n",
      "RMSE's: [0.149 0.164 0.123 0.169 0.166]\n",
      "Mean: 0.154\n",
      "StDev: 0.017\n",
      "CoV: 0.111\n"
     ]
    }
   ],
   "source": [
    "forest_reg = RandomForestRegressor()\n",
    "\n",
    "auto_mlflow(run_name = 'Random Forest', model_name = forest_reg, data_params={\"scaled\": False, \"polynomial_features\": False}, X = X_train, y = y_train)"
   ]
  },
  {
   "cell_type": "markdown",
   "metadata": {},
   "source": [
    "Looks similar to the Linear Regression but it's overfitting a bit, let's try a quick grid search"
   ]
  },
  {
   "cell_type": "code",
   "execution_count": 11,
   "metadata": {},
   "outputs": [],
   "source": [
    "from sklearn.model_selection import GridSearchCV"
   ]
  },
  {
   "cell_type": "code",
   "execution_count": 12,
   "metadata": {},
   "outputs": [
    {
     "name": "stdout",
     "output_type": "stream",
     "text": [
      "Fitting 5 folds for each of 192 candidates, totalling 960 fits\n",
      "[Parallel(n_jobs=-1)]: Using backend LokyBackend with 8 concurrent workers.\n",
      "[Parallel(n_jobs=-1)]: Done  34 tasks      | elapsed:    7.3s\n",
      "[Parallel(n_jobs=-1)]: Done 184 tasks      | elapsed:   19.5s\n",
      "[Parallel(n_jobs=-1)]: Done 434 tasks      | elapsed:   36.2s\n",
      "[Parallel(n_jobs=-1)]: Done 784 tasks      | elapsed:   58.7s\n",
      "[Parallel(n_jobs=-1)]: Done 960 out of 960 | elapsed:  1.1min finished\n"
     ]
    },
    {
     "data": {
      "text/plain": [
       "GridSearchCV(cv=None, error_score=nan,\n",
       "             estimator=RandomForestRegressor(bootstrap=True, ccp_alpha=0.0,\n",
       "                                             criterion='mse', max_depth=None,\n",
       "                                             max_features='auto',\n",
       "                                             max_leaf_nodes=None,\n",
       "                                             max_samples=None,\n",
       "                                             min_impurity_decrease=0.0,\n",
       "                                             min_impurity_split=None,\n",
       "                                             min_samples_leaf=1,\n",
       "                                             min_samples_split=2,\n",
       "                                             min_weight_fraction_leaf=0.0,\n",
       "                                             n_estimators=100, n_jobs=None,\n",
       "                                             oob_score=False, random_state=None,\n",
       "                                             verbose=0, warm_start=False),\n",
       "             iid='deprecated', n_jobs=-1,\n",
       "             param_grid=[{'max_depth': [6, 8, 10, 12],\n",
       "                          'max_features': [2, 4, 6, 8],\n",
       "                          'min_samples_split': [1, 2, 4],\n",
       "                          'n_estimators': [150, 200, 300, 400]}],\n",
       "             pre_dispatch='2*n_jobs', refit=True, return_train_score=False,\n",
       "             scoring='neg_mean_squared_error', verbose=1)"
      ]
     },
     "execution_count": 12,
     "metadata": {},
     "output_type": "execute_result"
    }
   ],
   "source": [
    "from sklearn.model_selection import GridSearchCV\n",
    "\n",
    "forest_reg_gridsearch = RandomForestRegressor()\n",
    "\n",
    "param_grid = [{\"n_estimators\": [150, 200, 300, 400], \"max_depth\":[6, 8, 10, 12], \"max_features\": [2, 4, 6, 8], \"min_samples_split\": [1, 2, 4]}]\n",
    "\n",
    "grid_search = GridSearchCV(forest_reg_gridsearch, param_grid, scoring = 'neg_mean_squared_error', n_jobs = -1, verbose = 1)\n",
    "\n",
    "grid_search.fit(X_train, y_train)"
   ]
  },
  {
   "cell_type": "code",
   "execution_count": 13,
   "metadata": {},
   "outputs": [
    {
     "data": {
      "text/plain": [
       "{'max_depth': 10,\n",
       " 'max_features': 4,\n",
       " 'min_samples_split': 2,\n",
       " 'n_estimators': 300}"
      ]
     },
     "execution_count": 13,
     "metadata": {},
     "output_type": "execute_result"
    }
   ],
   "source": [
    "grid_search.best_params_"
   ]
  },
  {
   "cell_type": "code",
   "execution_count": 14,
   "metadata": {},
   "outputs": [
    {
     "name": "stdout",
     "output_type": "stream",
     "text": [
      "Non-validation Scores\n",
      "-----------\n",
      "RMSE (No Val): 0.054\n",
      "R^2 (No Val): 0.995\n",
      "\n",
      "Validation Scores\n",
      "-----------\n",
      "RMSE's: [0.149 0.16  0.127 0.161 0.164]\n",
      "Mean: 0.152\n",
      "StDev: 0.014\n",
      "CoV: 0.09\n"
     ]
    }
   ],
   "source": [
    "forest_grid_best = grid_search.best_estimator_\n",
    "\n",
    "auto_mlflow(run_name = 'Random Forest (Optimised)', model_name = forest_grid_best, data_params={\"scaled\": False, \"polynomial_features\": False}, X = X_train, y = y_train)"
   ]
  },
  {
   "cell_type": "markdown",
   "metadata": {},
   "source": [
    "Not made much difference but a bit better. It's logged anyway."
   ]
  },
  {
   "cell_type": "markdown",
   "metadata": {},
   "source": [
    "## SVM Regressor"
   ]
  },
  {
   "cell_type": "code",
   "execution_count": 15,
   "metadata": {},
   "outputs": [],
   "source": [
    "from sklearn.svm import SVR"
   ]
  },
  {
   "cell_type": "code",
   "execution_count": 16,
   "metadata": {},
   "outputs": [
    {
     "name": "stdout",
     "output_type": "stream",
     "text": [
      "Non-validation Scores\n",
      "-----------\n",
      "RMSE (No Val): 0.439\n",
      "R^2 (No Val): 0.654\n",
      "\n",
      "Validation Scores\n",
      "-----------\n",
      "RMSE's: [0.518 0.564 0.557 0.491 0.545]\n",
      "Mean: 0.535\n",
      "StDev: 0.027\n",
      "CoV: 0.051\n"
     ]
    }
   ],
   "source": [
    "svr = SVR()\n",
    "\n",
    "auto_mlflow(run_name = 'SVR', model_name = svr, data_params={\"scaled\": False, \"polynomial_features\": False}, X = X_train, y = y_train)"
   ]
  },
  {
   "cell_type": "code",
   "execution_count": 17,
   "metadata": {},
   "outputs": [
    {
     "data": {
      "text/plain": [
       "GridSearchCV(cv=None, error_score=nan,\n",
       "             estimator=SVR(C=1.0, cache_size=200, coef0=0.0, degree=3,\n",
       "                           epsilon=0.1, gamma='scale', kernel='rbf',\n",
       "                           max_iter=-1, shrinking=True, tol=0.001,\n",
       "                           verbose=False),\n",
       "             iid='deprecated', n_jobs=-1,\n",
       "             param_grid=[{'C': [10000, 100000, 1000000],\n",
       "                          'epsilon': [0.001, 0.0001, 1e-05]}],\n",
       "             pre_dispatch='2*n_jobs', refit=True, return_train_score=False,\n",
       "             scoring='neg_mean_squared_error', verbose=0)"
      ]
     },
     "execution_count": 17,
     "metadata": {},
     "output_type": "execute_result"
    }
   ],
   "source": [
    "param_grid = [{\"C\": [10000, 100000, 1000000], \"epsilon\": [0.001, 0.0001, 0.00001]}]\n",
    "\n",
    "svr = SVR()\n",
    "\n",
    "grid_search = GridSearchCV(svr, param_grid, scoring = 'neg_mean_squared_error', n_jobs = -1)\n",
    "\n",
    "grid_search.fit(X_train, y_train)"
   ]
  },
  {
   "cell_type": "code",
   "execution_count": 18,
   "metadata": {},
   "outputs": [
    {
     "data": {
      "text/plain": [
       "{'C': 100000, 'epsilon': 1e-05}"
      ]
     },
     "execution_count": 18,
     "metadata": {},
     "output_type": "execute_result"
    }
   ],
   "source": [
    "grid_search.best_params_"
   ]
  },
  {
   "cell_type": "code",
   "execution_count": 19,
   "metadata": {},
   "outputs": [
    {
     "data": {
      "text/plain": [
       "-0.007464042743695004"
      ]
     },
     "execution_count": 19,
     "metadata": {},
     "output_type": "execute_result"
    }
   ],
   "source": [
    "grid_search.best_score_"
   ]
  },
  {
   "cell_type": "code",
   "execution_count": 20,
   "metadata": {},
   "outputs": [
    {
     "name": "stdout",
     "output_type": "stream",
     "text": [
      "Non-validation Scores\n",
      "-----------\n",
      "RMSE (No Val): 0.053\n",
      "R^2 (No Val): 0.995\n",
      "\n",
      "Validation Scores\n",
      "-----------\n",
      "RMSE's: [0.071 0.095 0.096 0.102 0.062]\n",
      "Mean: 0.085\n",
      "StDev: 0.016\n",
      "CoV: 0.183\n"
     ]
    },
    {
     "data": {
      "text/plain": [
       "(0.052981679228176086,\n",
       " 0.9949662658845404,\n",
       " array([0.07130055, 0.09456528, 0.09569276, 0.10157221, 0.06180481]),\n",
       " 0.08498712206797818,\n",
       " 0.015531639523810143,\n",
       " 0.18275285885533266)"
      ]
     },
     "execution_count": 20,
     "metadata": {},
     "output_type": "execute_result"
    }
   ],
   "source": [
    "score_model(grid_search.best_estimator_, X_train, y_train)"
   ]
  },
  {
   "cell_type": "code",
   "execution_count": 21,
   "metadata": {},
   "outputs": [
    {
     "name": "stdout",
     "output_type": "stream",
     "text": [
      "Non-validation Scores\n",
      "-----------\n",
      "RMSE (No Val): 0.053\n",
      "R^2 (No Val): 0.995\n",
      "\n",
      "Validation Scores\n",
      "-----------\n",
      "RMSE's: [0.071 0.095 0.096 0.102 0.062]\n",
      "Mean: 0.085\n",
      "StDev: 0.016\n",
      "CoV: 0.183\n"
     ]
    }
   ],
   "source": [
    "svr_grid_best = grid_search.best_estimator_\n",
    "\n",
    "auto_mlflow(run_name = 'SVR (Optimised)', model_name = svr_grid_best, data_params={\"scaled\": False, \"polynomial_features\": False}, X = X_train, y = y_train)"
   ]
  },
  {
   "cell_type": "markdown",
   "metadata": {},
   "source": [
    "#### Observations\n",
    "\n",
    "* SVR seems okay but they really perform best with scaled data, thats why C is so large in this example\n",
    "\n",
    "* Random forest seems similar to linear regression but more with more overfitting"
   ]
  },
  {
   "cell_type": "markdown",
   "metadata": {},
   "source": [
    "# Using Polynomial Features\n",
    "\n",
    "Let's try polynomialising the features and see what that does to improve any models."
   ]
  },
  {
   "cell_type": "markdown",
   "metadata": {},
   "source": [
    "## Polynomial Regression"
   ]
  },
  {
   "cell_type": "markdown",
   "metadata": {},
   "source": [
    "### 2nd Degree Polynomial"
   ]
  },
  {
   "cell_type": "code",
   "execution_count": 22,
   "metadata": {},
   "outputs": [
    {
     "name": "stdout",
     "output_type": "stream",
     "text": [
      "Non-validation Scores\n",
      "-----------\n",
      "RMSE (No Val): 0.079\n",
      "R^2 (No Val): 0.989\n",
      "\n",
      "Validation Scores\n",
      "-----------\n",
      "RMSE's: [0.091 0.088 0.105 0.085 0.083]\n",
      "Mean: 0.09\n",
      "StDev: 0.008\n",
      "CoV: 0.086\n"
     ]
    }
   ],
   "source": [
    "poly_reg = LinearRegression()\n",
    "\n",
    "auto_mlflow(run_name = 'Polynomial Regression', model_name = poly_reg, data_params={\"scaled\": False, \"polynomial_features\": True, \"polynomial_degree\": 2, \"polynomial_applied_to_all_feats\": True}, X = X_train_poly_2, y = y_train)\n"
   ]
  },
  {
   "cell_type": "markdown",
   "metadata": {},
   "source": [
    "### 3rd Degree"
   ]
  },
  {
   "cell_type": "code",
   "execution_count": 23,
   "metadata": {},
   "outputs": [
    {
     "name": "stdout",
     "output_type": "stream",
     "text": [
      "Non-validation Scores\n",
      "-----------\n",
      "RMSE (No Val): 0.076\n",
      "R^2 (No Val): 0.99\n",
      "\n",
      "Validation Scores\n",
      "-----------\n",
      "RMSE's: [0.093 0.078 0.098 0.15  0.071]\n",
      "Mean: 0.098\n",
      "StDev: 0.028\n",
      "CoV: 0.285\n"
     ]
    }
   ],
   "source": [
    "poly_reg = LinearRegression()\n",
    "\n",
    "auto_mlflow(run_name = 'Polynomial Regression', model_name = poly_reg, data_params={\"scaled\": False, \"polynomial_features\": True, \"polynomial_degree\": 3, \"polynomial_applied_to_all_feats\": True}, X = X_train_poly_3, y = y_train)"
   ]
  },
  {
   "cell_type": "markdown",
   "metadata": {},
   "source": [
    "## Polynomial Ridge Regression"
   ]
  },
  {
   "cell_type": "markdown",
   "metadata": {},
   "source": [
    "### 2nd Degree"
   ]
  },
  {
   "cell_type": "code",
   "execution_count": 24,
   "metadata": {},
   "outputs": [
    {
     "data": {
      "text/plain": [
       "RidgeCV(alphas=array([ 0.01,  0.1 ,  1.  ,  2.  ,  5.  ,  8.  , 10.  ]),\n",
       "        cv=None, fit_intercept=True, gcv_mode=None, normalize=False,\n",
       "        scoring=None, store_cv_values=False)"
      ]
     },
     "execution_count": 24,
     "metadata": {},
     "output_type": "execute_result"
    }
   ],
   "source": [
    "# Use the build in CV first to get good params\n",
    "from sklearn.linear_model import RidgeCV, Ridge\n",
    "\n",
    "poly_ridge = RidgeCV(alphas = (0.01, 0.1, 1.0, 2.0, 5.0, 8.0, 10.0))\n",
    "\n",
    "poly_ridge.fit(X_train_poly_2, y_train)"
   ]
  },
  {
   "cell_type": "code",
   "execution_count": 25,
   "metadata": {},
   "outputs": [
    {
     "data": {
      "text/plain": [
       "0.01"
      ]
     },
     "execution_count": 25,
     "metadata": {},
     "output_type": "execute_result"
    }
   ],
   "source": [
    "poly_ridge.alpha_"
   ]
  },
  {
   "cell_type": "code",
   "execution_count": 26,
   "metadata": {},
   "outputs": [
    {
     "name": "stdout",
     "output_type": "stream",
     "text": [
      "Non-validation Scores\n",
      "-----------\n",
      "RMSE (No Val): 0.08\n",
      "R^2 (No Val): 0.989\n",
      "\n",
      "Validation Scores\n",
      "-----------\n",
      "RMSE's: [0.089 0.089 0.103 0.085 0.082]\n",
      "Mean: 0.089\n",
      "StDev: 0.007\n",
      "CoV: 0.08\n"
     ]
    }
   ],
   "source": [
    "# Now we know the optimum alpha we can log it with auto_mlflow\n",
    "\n",
    "poly_ridge = Ridge(alpha = 0.1)\n",
    "\n",
    "auto_mlflow(run_name = 'Poly Ridge', model_name = poly_ridge, data_params={\"scaled\": False, \"polynomial_features\": True, \"polynomial_degree\": 2, \"polynomial_applied_to_all_feats\": True}, X = X_train_poly_2, y = y_train)"
   ]
  },
  {
   "cell_type": "markdown",
   "metadata": {},
   "source": [
    "### 3rd Degree"
   ]
  },
  {
   "cell_type": "code",
   "execution_count": 27,
   "metadata": {},
   "outputs": [
    {
     "data": {
      "text/plain": [
       "RidgeCV(alphas=array([ 0.01,  0.1 ,  1.  ,  2.  ,  5.  ,  8.  , 10.  ]),\n",
       "        cv=None, fit_intercept=True, gcv_mode=None, normalize=False,\n",
       "        scoring=None, store_cv_values=False)"
      ]
     },
     "execution_count": 27,
     "metadata": {},
     "output_type": "execute_result"
    }
   ],
   "source": [
    "# Same process, get RidgeCV to get best params\n",
    "\n",
    "poly_ridge = RidgeCV(alphas = (0.01, 0.1, 1.0, 2.0, 5.0, 8.0, 10.0))\n",
    "\n",
    "poly_ridge.fit(X_train_poly_3, y_train)"
   ]
  },
  {
   "cell_type": "code",
   "execution_count": 28,
   "metadata": {},
   "outputs": [
    {
     "data": {
      "text/plain": [
       "2.0"
      ]
     },
     "execution_count": 28,
     "metadata": {},
     "output_type": "execute_result"
    }
   ],
   "source": [
    "poly_ridge.alpha_"
   ]
  },
  {
   "cell_type": "code",
   "execution_count": 29,
   "metadata": {},
   "outputs": [
    {
     "name": "stdout",
     "output_type": "stream",
     "text": [
      "Non-validation Scores\n",
      "-----------\n",
      "RMSE (No Val): 0.053\n",
      "R^2 (No Val): 0.995\n",
      "\n",
      "Validation Scores\n",
      "-----------\n",
      "RMSE's: [0.065 0.075 0.071 0.087 0.064]\n",
      "Mean: 0.072\n",
      "StDev: 0.008\n",
      "CoV: 0.115\n"
     ]
    }
   ],
   "source": [
    "poly_ridge = Ridge(alpha = 1.0)\n",
    "\n",
    "auto_mlflow(run_name = 'Poly Ridge', model_name = poly_ridge, data_params={\"scaled\": False, \"polynomial_features\": True, \"polynomial_degree\": 3, \"polynomial_applied_to_all_feats\": True}, X = X_train_poly_3, y = y_train)\n"
   ]
  },
  {
   "cell_type": "markdown",
   "metadata": {},
   "source": [
    "## Polynomial Lasso"
   ]
  },
  {
   "cell_type": "code",
   "execution_count": 30,
   "metadata": {},
   "outputs": [],
   "source": [
    "from sklearn.linear_model import LassoCV, Lasso"
   ]
  },
  {
   "cell_type": "markdown",
   "metadata": {},
   "source": [
    "### 2nd Degree"
   ]
  },
  {
   "cell_type": "code",
   "execution_count": 31,
   "metadata": {},
   "outputs": [
    {
     "data": {
      "text/plain": [
       "LassoCV(alphas=None, copy_X=True, cv=None, eps=0.001, fit_intercept=True,\n",
       "        max_iter=1000, n_alphas=100, n_jobs=None, normalize=False,\n",
       "        positive=False, precompute='auto', random_state=None,\n",
       "        selection='cyclic', tol=0.0001, verbose=False)"
      ]
     },
     "execution_count": 31,
     "metadata": {},
     "output_type": "execute_result"
    }
   ],
   "source": [
    "# Same process, do built in CV first\n",
    "lasso_reg = LassoCV()\n",
    "\n",
    "lasso_reg.fit(X_train_poly_2, y_train)"
   ]
  },
  {
   "cell_type": "code",
   "execution_count": 32,
   "metadata": {},
   "outputs": [
    {
     "data": {
      "text/plain": [
       "0.4040096665243699"
      ]
     },
     "execution_count": 32,
     "metadata": {},
     "output_type": "execute_result"
    }
   ],
   "source": [
    "lasso_reg.alpha_"
   ]
  },
  {
   "cell_type": "code",
   "execution_count": 33,
   "metadata": {},
   "outputs": [
    {
     "name": "stdout",
     "output_type": "stream",
     "text": [
      "Non-validation Scores\n",
      "-----------\n",
      "RMSE (No Val): 0.123\n",
      "R^2 (No Val): 0.973\n",
      "\n",
      "Validation Scores\n",
      "-----------\n",
      "RMSE's: [0.136 0.147 0.156 0.113 0.106]\n",
      "Mean: 0.131\n",
      "StDev: 0.019\n",
      "CoV: 0.148\n"
     ]
    }
   ],
   "source": [
    "lasso_reg = Lasso(alpha = 0.42106172839506184)\n",
    "\n",
    "auto_mlflow(run_name = 'Poly Lasso', model_name = lasso_reg, data_params={\"scaled\": False, \"polynomial_features\": True, \"polynomial_degree\": 2, \"polynomial_applied_to_all_feats\": True}, X = X_train_poly_2, y = y_train)"
   ]
  },
  {
   "cell_type": "markdown",
   "metadata": {},
   "source": [
    "### 3rd Degree"
   ]
  },
  {
   "cell_type": "code",
   "execution_count": 34,
   "metadata": {},
   "outputs": [
    {
     "data": {
      "text/plain": [
       "LassoCV(alphas=None, copy_X=True, cv=None, eps=0.001, fit_intercept=True,\n",
       "        max_iter=1000, n_alphas=100, n_jobs=None, normalize=False,\n",
       "        positive=False, precompute='auto', random_state=None,\n",
       "        selection='cyclic', tol=0.0001, verbose=False)"
      ]
     },
     "execution_count": 34,
     "metadata": {},
     "output_type": "execute_result"
    }
   ],
   "source": [
    "lasso_reg = LassoCV()\n",
    "\n",
    "lasso_reg.fit(X_train_poly_3, y_train)"
   ]
  },
  {
   "cell_type": "code",
   "execution_count": 35,
   "metadata": {},
   "outputs": [
    {
     "data": {
      "text/plain": [
       "59.62699566715469"
      ]
     },
     "execution_count": 35,
     "metadata": {},
     "output_type": "execute_result"
    }
   ],
   "source": [
    "lasso_reg.alpha_"
   ]
  },
  {
   "cell_type": "code",
   "execution_count": 36,
   "metadata": {},
   "outputs": [
    {
     "name": "stdout",
     "output_type": "stream",
     "text": [
      "Non-validation Scores\n",
      "-----------\n",
      "RMSE (No Val): 0.099\n",
      "R^2 (No Val): 0.983\n",
      "\n",
      "Validation Scores\n",
      "-----------\n",
      "RMSE's: [0.109 0.108 0.114 0.114 0.086]\n",
      "Mean: 0.106\n",
      "StDev: 0.011\n",
      "CoV: 0.1\n"
     ]
    }
   ],
   "source": [
    "lasso_reg = Lasso(alpha = 89.44020987654322)\n",
    "\n",
    "auto_mlflow(run_name = 'Poly Lasso', model_name = lasso_reg, data_params={\"scaled\": False, \"polynomial_features\": True, \"polynomial_degree\": 3, \"polynomial_applied_to_all_feats\": True}, X = X_train_poly_3, y = y_train)"
   ]
  },
  {
   "cell_type": "markdown",
   "metadata": {},
   "source": [
    "## Polynomial Elastic Net"
   ]
  },
  {
   "cell_type": "markdown",
   "metadata": {},
   "source": [
    "### 2nd Degree"
   ]
  },
  {
   "cell_type": "code",
   "execution_count": 37,
   "metadata": {},
   "outputs": [],
   "source": [
    "from sklearn.linear_model import ElasticNetCV, ElasticNet"
   ]
  },
  {
   "cell_type": "code",
   "execution_count": 38,
   "metadata": {},
   "outputs": [
    {
     "data": {
      "text/plain": [
       "ElasticNetCV(alphas=None, copy_X=True, cv=None, eps=0.001, fit_intercept=True,\n",
       "             l1_ratio=[0.1, 0.5, 0.7, 0.9, 0.95, 0.99, 1], max_iter=1000,\n",
       "             n_alphas=100, n_jobs=None, normalize=False, positive=False,\n",
       "             precompute='auto', random_state=None, selection='cyclic',\n",
       "             tol=0.0001, verbose=0)"
      ]
     },
     "execution_count": 38,
     "metadata": {},
     "output_type": "execute_result"
    }
   ],
   "source": [
    "net_reg = ElasticNetCV(l1_ratio = [.1, .5, .7, .9, .95, .99, 1])\n",
    "\n",
    "net_reg.fit(X_train_poly_2, y_train)"
   ]
  },
  {
   "cell_type": "code",
   "execution_count": 39,
   "metadata": {},
   "outputs": [
    {
     "data": {
      "text/plain": [
       "1.0"
      ]
     },
     "execution_count": 39,
     "metadata": {},
     "output_type": "execute_result"
    }
   ],
   "source": [
    "net_reg.l1_ratio_"
   ]
  },
  {
   "cell_type": "code",
   "execution_count": 40,
   "metadata": {},
   "outputs": [
    {
     "data": {
      "text/plain": [
       "0.4040096665243699"
      ]
     },
     "execution_count": 40,
     "metadata": {},
     "output_type": "execute_result"
    }
   ],
   "source": [
    "net_reg.alpha_"
   ]
  },
  {
   "cell_type": "code",
   "execution_count": 41,
   "metadata": {},
   "outputs": [
    {
     "name": "stdout",
     "output_type": "stream",
     "text": [
      "Non-validation Scores\n",
      "-----------\n",
      "RMSE (No Val): 0.123\n",
      "R^2 (No Val): 0.973\n",
      "\n",
      "Validation Scores\n",
      "-----------\n",
      "RMSE's: [0.136 0.147 0.156 0.113 0.106]\n",
      "Mean: 0.131\n",
      "StDev: 0.019\n",
      "CoV: 0.148\n"
     ]
    }
   ],
   "source": [
    "net_reg = ElasticNet(l1_ratio = 1.0, alpha = 0.42106172839506184)\n",
    "\n",
    "auto_mlflow(run_name = 'Poly Elastic Net', model_name = net_reg, data_params={\"scaled\": False, \"polynomial_features\": True, \"polynomial_degree\": 2, \"polynomial_applied_to_all_feats\": True}, X = X_train_poly_2, y = y_train)"
   ]
  },
  {
   "cell_type": "markdown",
   "metadata": {},
   "source": [
    "### 3rd Degree"
   ]
  },
  {
   "cell_type": "code",
   "execution_count": 42,
   "metadata": {},
   "outputs": [
    {
     "data": {
      "text/plain": [
       "ElasticNetCV(alphas=None, copy_X=True, cv=None, eps=0.001, fit_intercept=True,\n",
       "             l1_ratio=[0.1, 0.5, 0.7, 0.9, 0.95, 0.99, 1], max_iter=1000,\n",
       "             n_alphas=100, n_jobs=None, normalize=False, positive=False,\n",
       "             precompute='auto', random_state=None, selection='cyclic',\n",
       "             tol=0.0001, verbose=0)"
      ]
     },
     "execution_count": 42,
     "metadata": {},
     "output_type": "execute_result"
    }
   ],
   "source": [
    "net_reg = ElasticNetCV(l1_ratio = [.1, .5, .7, .9, .95, .99, 1])\n",
    "\n",
    "net_reg.fit(X_train_poly_3, y_train)"
   ]
  },
  {
   "cell_type": "code",
   "execution_count": 43,
   "metadata": {},
   "outputs": [
    {
     "data": {
      "text/plain": [
       "1.0"
      ]
     },
     "execution_count": 43,
     "metadata": {},
     "output_type": "execute_result"
    }
   ],
   "source": [
    "net_reg.l1_ratio_"
   ]
  },
  {
   "cell_type": "code",
   "execution_count": 44,
   "metadata": {},
   "outputs": [
    {
     "data": {
      "text/plain": [
       "59.62699566715469"
      ]
     },
     "execution_count": 44,
     "metadata": {},
     "output_type": "execute_result"
    }
   ],
   "source": [
    "net_reg.alpha_"
   ]
  },
  {
   "cell_type": "code",
   "execution_count": 45,
   "metadata": {},
   "outputs": [
    {
     "name": "stdout",
     "output_type": "stream",
     "text": [
      "Non-validation Scores\n",
      "-----------\n",
      "RMSE (No Val): 0.099\n",
      "R^2 (No Val): 0.983\n",
      "\n",
      "Validation Scores\n",
      "-----------\n",
      "RMSE's: [0.109 0.108 0.114 0.114 0.086]\n",
      "Mean: 0.106\n",
      "StDev: 0.011\n",
      "CoV: 0.1\n"
     ]
    }
   ],
   "source": [
    "net_reg = ElasticNet(l1_ratio = 1.0, alpha = 89.44020987654322)\n",
    "\n",
    "auto_mlflow(run_name = 'Poly Elastic Net', model_name = net_reg, data_params={\"scaled\": False, \"polynomial_features\": True, \"polynomial_degree\": 3, \"polynomial_applied_to_all_feats\": True}, X = X_train_poly_3, y = y_train)"
   ]
  },
  {
   "cell_type": "markdown",
   "metadata": {},
   "source": [
    "## Random Forest Polynomial"
   ]
  },
  {
   "cell_type": "markdown",
   "metadata": {},
   "source": [
    "### 2nd Degree"
   ]
  },
  {
   "cell_type": "code",
   "execution_count": 46,
   "metadata": {},
   "outputs": [
    {
     "name": "stdout",
     "output_type": "stream",
     "text": [
      "Non-validation Scores\n",
      "-----------\n",
      "RMSE (No Val): 0.05\n",
      "R^2 (No Val): 0.995\n",
      "\n",
      "Validation Scores\n",
      "-----------\n",
      "RMSE's: [0.133 0.164 0.114 0.145 0.16 ]\n",
      "Mean: 0.143\n",
      "StDev: 0.018\n",
      "CoV: 0.127\n"
     ]
    }
   ],
   "source": [
    "forest_poly_reg = RandomForestRegressor()\n",
    "\n",
    "auto_mlflow(run_name = 'Poly Random Forest', model_name = forest_poly_reg, data_params={\"scaled\": False, \"polynomial_features\": True, \"polynomial_degree\": 2, \"polynomial_applied_to_all_feats\": True}, X = X_train_poly_2, y = y_train)"
   ]
  },
  {
   "cell_type": "code",
   "execution_count": 47,
   "metadata": {},
   "outputs": [
    {
     "name": "stdout",
     "output_type": "stream",
     "text": [
      "Fitting 5 folds for each of 192 candidates, totalling 960 fits\n",
      "[Parallel(n_jobs=-1)]: Using backend LokyBackend with 8 concurrent workers.\n",
      "[Parallel(n_jobs=-1)]: Done  51 tasks      | elapsed:    6.1s\n",
      "[Parallel(n_jobs=-1)]: Done 208 tasks      | elapsed:   20.8s\n",
      "[Parallel(n_jobs=-1)]: Done 458 tasks      | elapsed:   46.7s\n",
      "[Parallel(n_jobs=-1)]: Done 808 tasks      | elapsed:  1.3min\n",
      "[Parallel(n_jobs=-1)]: Done 960 out of 960 | elapsed:  1.6min finished\n"
     ]
    },
    {
     "data": {
      "text/plain": [
       "GridSearchCV(cv=None, error_score=nan,\n",
       "             estimator=RandomForestRegressor(bootstrap=True, ccp_alpha=0.0,\n",
       "                                             criterion='mse', max_depth=None,\n",
       "                                             max_features='auto',\n",
       "                                             max_leaf_nodes=None,\n",
       "                                             max_samples=None,\n",
       "                                             min_impurity_decrease=0.0,\n",
       "                                             min_impurity_split=None,\n",
       "                                             min_samples_leaf=1,\n",
       "                                             min_samples_split=2,\n",
       "                                             min_weight_fraction_leaf=0.0,\n",
       "                                             n_estimators=100, n_jobs=None,\n",
       "                                             oob_score=False, random_state=None,\n",
       "                                             verbose=0, warm_start=False),\n",
       "             iid='deprecated', n_jobs=-1,\n",
       "             param_grid=[{'max_depth': [6, 8, 10, 12],\n",
       "                          'max_features': [2, 4, 6, 8],\n",
       "                          'min_samples_split': [1, 2, 4],\n",
       "                          'n_estimators': [150, 200, 300, 400]}],\n",
       "             pre_dispatch='2*n_jobs', refit=True, return_train_score=False,\n",
       "             scoring='neg_mean_squared_error', verbose=1)"
      ]
     },
     "execution_count": 47,
     "metadata": {},
     "output_type": "execute_result"
    }
   ],
   "source": [
    "forest_poly_gridsearch = RandomForestRegressor()\n",
    "\n",
    "param_grid = [{\"n_estimators\": [150, 200, 300, 400], \"max_depth\":[6, 8, 10, 12], \"max_features\": [2, 4, 6, 8], \"min_samples_split\": [1, 2, 4]}]\n",
    "\n",
    "grid_search = GridSearchCV(forest_poly_gridsearch, param_grid, scoring = 'neg_mean_squared_error', n_jobs = -1, verbose = 1)\n",
    "\n",
    "grid_search.fit(X_train_poly_2, y_train)"
   ]
  },
  {
   "cell_type": "code",
   "execution_count": 48,
   "metadata": {},
   "outputs": [
    {
     "name": "stdout",
     "output_type": "stream",
     "text": [
      "Non-validation Scores\n",
      "-----------\n",
      "RMSE (No Val): 0.05\n",
      "R^2 (No Val): 0.996\n",
      "\n",
      "Validation Scores\n",
      "-----------\n",
      "RMSE's: [0.135 0.162 0.126 0.144 0.143]\n",
      "Mean: 0.142\n",
      "StDev: 0.012\n",
      "CoV: 0.084\n"
     ]
    }
   ],
   "source": [
    "poly_forest_grid_best = grid_search.best_estimator_\n",
    "\n",
    "auto_mlflow(run_name = 'Poly Random Forest (Optimised)', model_name = poly_forest_grid_best, data_params={\"scaled\": False, \"polynomial_features\": True, \"polynomial_degree\": 2, \"polynomial_applied_to_all_feats\": True}, X = X_train_poly_2, y = y_train)\n"
   ]
  },
  {
   "cell_type": "markdown",
   "metadata": {},
   "source": [
    "### 3rd Degree"
   ]
  },
  {
   "cell_type": "code",
   "execution_count": 49,
   "metadata": {},
   "outputs": [
    {
     "name": "stdout",
     "output_type": "stream",
     "text": [
      "Non-validation Scores\n",
      "-----------\n",
      "RMSE (No Val): 0.055\n",
      "R^2 (No Val): 0.995\n",
      "\n",
      "Validation Scores\n",
      "-----------\n",
      "RMSE's: [0.142 0.168 0.114 0.133 0.134]\n",
      "Mean: 0.138\n",
      "StDev: 0.018\n",
      "CoV: 0.128\n"
     ]
    }
   ],
   "source": [
    "forest_poly_reg = RandomForestRegressor()\n",
    "\n",
    "auto_mlflow(run_name = 'Poly Random Forest', model_name = forest_poly_reg, data_params={\"scaled\": False, \"polynomial_features\": True, \"polynomial_degree\": 3, \"polynomial_applied_to_all_feats\": True}, X = X_train_poly_3, y = y_train)"
   ]
  },
  {
   "cell_type": "code",
   "execution_count": 50,
   "metadata": {},
   "outputs": [
    {
     "name": "stdout",
     "output_type": "stream",
     "text": [
      "Fitting 5 folds for each of 192 candidates, totalling 960 fits\n",
      "[Parallel(n_jobs=-1)]: Using backend LokyBackend with 8 concurrent workers.\n",
      "[Parallel(n_jobs=-1)]: Done  51 tasks      | elapsed:    5.8s\n",
      "[Parallel(n_jobs=-1)]: Done 208 tasks      | elapsed:   20.5s\n",
      "[Parallel(n_jobs=-1)]: Done 458 tasks      | elapsed:   44.5s\n",
      "[Parallel(n_jobs=-1)]: Done 808 tasks      | elapsed:  1.3min\n",
      "[Parallel(n_jobs=-1)]: Done 960 out of 960 | elapsed:  1.5min finished\n"
     ]
    },
    {
     "data": {
      "text/plain": [
       "GridSearchCV(cv=None, error_score=nan,\n",
       "             estimator=RandomForestRegressor(bootstrap=True, ccp_alpha=0.0,\n",
       "                                             criterion='mse', max_depth=None,\n",
       "                                             max_features='auto',\n",
       "                                             max_leaf_nodes=None,\n",
       "                                             max_samples=None,\n",
       "                                             min_impurity_decrease=0.0,\n",
       "                                             min_impurity_split=None,\n",
       "                                             min_samples_leaf=1,\n",
       "                                             min_samples_split=2,\n",
       "                                             min_weight_fraction_leaf=0.0,\n",
       "                                             n_estimators=100, n_jobs=None,\n",
       "                                             oob_score=False, random_state=None,\n",
       "                                             verbose=0, warm_start=False),\n",
       "             iid='deprecated', n_jobs=-1,\n",
       "             param_grid=[{'max_depth': [6, 8, 10, 12],\n",
       "                          'max_features': [2, 4, 6, 8],\n",
       "                          'min_samples_split': [1, 2, 4],\n",
       "                          'n_estimators': [150, 200, 300, 400]}],\n",
       "             pre_dispatch='2*n_jobs', refit=True, return_train_score=False,\n",
       "             scoring='neg_mean_squared_error', verbose=1)"
      ]
     },
     "execution_count": 50,
     "metadata": {},
     "output_type": "execute_result"
    }
   ],
   "source": [
    "forest_poly_gridsearch = RandomForestRegressor()\n",
    "\n",
    "param_grid = [{\"n_estimators\": [150, 200, 300, 400], \"max_depth\":[6, 8, 10, 12], \"max_features\": [2, 4, 6, 8], \"min_samples_split\": [1, 2, 4]}]\n",
    "\n",
    "grid_search = GridSearchCV(forest_poly_gridsearch, param_grid, scoring = 'neg_mean_squared_error', n_jobs = -1, verbose = 1)\n",
    "\n",
    "grid_search.fit(X_train_poly_3, y_train)"
   ]
  },
  {
   "cell_type": "code",
   "execution_count": 51,
   "metadata": {},
   "outputs": [
    {
     "name": "stdout",
     "output_type": "stream",
     "text": [
      "Non-validation Scores\n",
      "-----------\n",
      "RMSE (No Val): 0.05\n",
      "R^2 (No Val): 0.996\n",
      "\n",
      "Validation Scores\n",
      "-----------\n",
      "RMSE's: [0.138 0.169 0.113 0.145 0.131]\n",
      "Mean: 0.139\n",
      "StDev: 0.018\n",
      "CoV: 0.131\n"
     ]
    }
   ],
   "source": [
    "poly_forest_grid_best = grid_search.best_estimator_\n",
    "\n",
    "auto_mlflow(run_name = 'Poly Random Forest (Optimised)', model_name = poly_forest_grid_best, data_params={\"scaled\": False, \"polynomial_features\": True, \"polynomial_degree\": 3, \"polynomial_applied_to_all_feats\": True}, X = X_train_poly_3, y = y_train)"
   ]
  },
  {
   "cell_type": "markdown",
   "metadata": {},
   "source": [
    "## SVM Polynomial"
   ]
  },
  {
   "cell_type": "markdown",
   "metadata": {},
   "source": [
    "### 2nd Degree"
   ]
  },
  {
   "cell_type": "code",
   "execution_count": 52,
   "metadata": {},
   "outputs": [
    {
     "name": "stdout",
     "output_type": "stream",
     "text": [
      "Non-validation Scores\n",
      "-----------\n",
      "RMSE (No Val): 0.636\n",
      "R^2 (No Val): 0.274\n",
      "\n",
      "Validation Scores\n",
      "-----------\n",
      "RMSE's: [0.652 0.74  0.729 0.624 0.681]\n",
      "Mean: 0.685\n",
      "StDev: 0.044\n",
      "CoV: 0.065\n"
     ]
    }
   ],
   "source": [
    "poly_svr = SVR()\n",
    "\n",
    "auto_mlflow(run_name = 'Poly SVR', model_name = poly_svr, data_params={\"scaled\": False, \"polynomial_features\": True, \"polynomial_degree\": 2, \"polynomial_applied_to_all_feats\": True}, X = X_train_poly_2, y = y_train)"
   ]
  },
  {
   "cell_type": "code",
   "execution_count": 53,
   "metadata": {},
   "outputs": [
    {
     "data": {
      "text/plain": [
       "GridSearchCV(cv=None, error_score=nan,\n",
       "             estimator=SVR(C=1.0, cache_size=200, coef0=0.0, degree=3,\n",
       "                           epsilon=0.1, gamma='scale', kernel='rbf',\n",
       "                           max_iter=-1, shrinking=True, tol=0.001,\n",
       "                           verbose=False),\n",
       "             iid='deprecated', n_jobs=-1,\n",
       "             param_grid=[{'C': [0.1, 1, 10, 100, 1000],\n",
       "                          'epsilon': [0.1, 0.01, 0.001, 0.0001]}],\n",
       "             pre_dispatch='2*n_jobs', refit=True, return_train_score=False,\n",
       "             scoring='neg_mean_squared_error', verbose=0)"
      ]
     },
     "execution_count": 53,
     "metadata": {},
     "output_type": "execute_result"
    }
   ],
   "source": [
    "poly_svr = SVR()\n",
    "\n",
    "param_grid = [\n",
    "    {\"C\": [0.1, 1, 10, 100, 1000], \"epsilon\": [0.1, 0.01, 0.001, 0.0001]}\n",
    "]\n",
    "\n",
    "grid_search = GridSearchCV(poly_svr, param_grid, scoring = 'neg_mean_squared_error', n_jobs = -1)\n",
    "\n",
    "grid_search.fit(X_train_poly_2, y_train)"
   ]
  },
  {
   "cell_type": "code",
   "execution_count": 54,
   "metadata": {},
   "outputs": [
    {
     "name": "stdout",
     "output_type": "stream",
     "text": [
      "Non-validation Scores\n",
      "-----------\n",
      "RMSE (No Val): 0.636\n",
      "R^2 (No Val): 0.274\n",
      "\n",
      "Validation Scores\n",
      "-----------\n",
      "RMSE's: [0.652 0.74  0.729 0.624 0.681]\n",
      "Mean: 0.685\n",
      "StDev: 0.044\n",
      "CoV: 0.065\n"
     ]
    }
   ],
   "source": [
    "poly_svr_grid_best = grid_search.best_estimator_\n",
    "\n",
    "auto_mlflow(run_name = 'Poly SVR (Optimised)', model_name = poly_svr, data_params={\"scaled\": False, \"polynomial_features\": True, \"polynomial_degree\": 2, \"polynomial_applied_to_all_feats\": True}, X = X_train_poly_2, y = y_train)"
   ]
  },
  {
   "cell_type": "markdown",
   "metadata": {},
   "source": [
    "### 3rd Degree"
   ]
  },
  {
   "cell_type": "code",
   "execution_count": 55,
   "metadata": {},
   "outputs": [
    {
     "name": "stdout",
     "output_type": "stream",
     "text": [
      "Non-validation Scores\n",
      "-----------\n",
      "RMSE (No Val): 0.689\n",
      "R^2 (No Val): 0.148\n",
      "\n",
      "Validation Scores\n",
      "-----------\n",
      "RMSE's: [0.694 0.789 0.747 0.656 0.722]\n",
      "Mean: 0.721\n",
      "StDev: 0.045\n",
      "CoV: 0.063\n"
     ]
    }
   ],
   "source": [
    "poly_svr = SVR()\n",
    "\n",
    "auto_mlflow(run_name = 'Poly SVR', model_name = poly_svr, data_params={\"scaled\": False, \"polynomial_features\": True, \"polynomial_degree\": 3, \"polynomial_applied_to_all_feats\": True}, X = X_train_poly_3, y = y_train)"
   ]
  },
  {
   "cell_type": "code",
   "execution_count": 56,
   "metadata": {},
   "outputs": [
    {
     "data": {
      "text/plain": [
       "GridSearchCV(cv=None, error_score=nan,\n",
       "             estimator=SVR(C=1.0, cache_size=200, coef0=0.0, degree=3,\n",
       "                           epsilon=0.1, gamma='scale', kernel='rbf',\n",
       "                           max_iter=-1, shrinking=True, tol=0.001,\n",
       "                           verbose=False),\n",
       "             iid='deprecated', n_jobs=-1,\n",
       "             param_grid=[{'C': [0.1, 1, 10, 100, 1000],\n",
       "                          'epsilon': [0.1, 0.01, 0.001, 0.0001]}],\n",
       "             pre_dispatch='2*n_jobs', refit=True, return_train_score=False,\n",
       "             scoring='neg_mean_squared_error', verbose=0)"
      ]
     },
     "execution_count": 56,
     "metadata": {},
     "output_type": "execute_result"
    }
   ],
   "source": [
    "poly_svr = SVR()\n",
    "\n",
    "param_grid = [\n",
    "    {\"C\": [0.1, 1, 10, 100, 1000], \"epsilon\": [0.1, 0.01, 0.001, 0.0001]}\n",
    "]\n",
    "\n",
    "grid_search = GridSearchCV(poly_svr, param_grid, scoring = 'neg_mean_squared_error', n_jobs = -1)\n",
    "\n",
    "grid_search.fit(X_train_poly_3, y_train)"
   ]
  },
  {
   "cell_type": "code",
   "execution_count": 57,
   "metadata": {},
   "outputs": [
    {
     "name": "stdout",
     "output_type": "stream",
     "text": [
      "Non-validation Scores\n",
      "-----------\n",
      "RMSE (No Val): 0.689\n",
      "R^2 (No Val): 0.148\n",
      "\n",
      "Validation Scores\n",
      "-----------\n",
      "RMSE's: [0.694 0.789 0.747 0.656 0.722]\n",
      "Mean: 0.721\n",
      "StDev: 0.045\n",
      "CoV: 0.063\n"
     ]
    }
   ],
   "source": [
    "poly_svr_grid_best = grid_search.best_estimator_\n",
    "\n",
    "auto_mlflow(run_name = 'Poly SVR (Optimised)', model_name = poly_svr, data_params={\"scaled\": False, \"polynomial_features\": True, \"polynomial_degree\": 3, \"polynomial_applied_to_all_feats\": True}, X = X_train_poly_3, y = y_train)"
   ]
  },
  {
   "cell_type": "code",
   "execution_count": null,
   "metadata": {},
   "outputs": [],
   "source": []
  }
 ],
 "metadata": {
  "kernelspec": {
   "display_name": "Python 3.8.3 64-bit ('msc_project': conda)",
   "language": "python",
   "name": "python38364bitmscprojectconda1b7ed98db8104d919ac5b59276832f86"
  },
  "language_info": {
   "codemirror_mode": {
    "name": "ipython",
    "version": 3
   },
   "file_extension": ".py",
   "mimetype": "text/x-python",
   "name": "python",
   "nbconvert_exporter": "python",
   "pygments_lexer": "ipython3",
   "version": "3.8.3"
  }
 },
 "nbformat": 4,
 "nbformat_minor": 4
}
