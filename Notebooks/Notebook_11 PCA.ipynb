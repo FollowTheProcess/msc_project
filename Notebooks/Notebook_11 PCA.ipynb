{
 "cells": [
  {
   "cell_type": "markdown",
   "metadata": {},
   "source": [
    "# Notebook_11: PCA\n",
    "\n",
    "The objective of this notebook is to experiment with PCA and to find a good number of components and produce some visualisations to explain."
   ]
  },
  {
   "cell_type": "code",
   "execution_count": 1,
   "metadata": {},
   "outputs": [],
   "source": [
    "from pathlib import Path\n",
    "import numpy as np\n",
    "import pandas as pd\n",
    "from sklearn.decomposition import PCA\n",
    "from sklearn.model_selection import train_test_split\n",
    "from sklearn.pipeline import Pipeline\n",
    "from sklearn.preprocessing import PolynomialFeatures, StandardScaler\n",
    "\n",
    "import altair as alt\n",
    "import altair_saver\n",
    "\n",
    "alt.data_transformers.enable('data_server')\n",
    "alt.renderers.enable('default')\n",
    "\n",
    "import matplotlib.pyplot as plt\n",
    "import seaborn as sns\n",
    "sns.set_style('darkgrid')\n"
   ]
  },
  {
   "cell_type": "code",
   "execution_count": 2,
   "metadata": {},
   "outputs": [],
   "source": [
    "# Data prep pipeline\n",
    "project_root = Path().resolve().parent\n",
    "data_path = project_root / \"Data\" / \"Final\" / \"al_data_final.csv\"\n",
    "\n",
    "data = pd.read_csv(data_path)\n",
    "\n",
    "X = data.drop(\"tc_act\", axis=1)\n",
    "y = data[\"tc_act\"]\n",
    "\n",
    "X_train, X_test, y_train, y_test = train_test_split(\n",
    "    X, y, test_size=0.2, shuffle=True, stratify=data[\"x\"]\n",
    ")\n",
    "\n",
    "# Must scale data before PCA\n",
    "prep_pipeline = Pipeline(\n",
    "    [\n",
    "        (\"poly_features\", PolynomialFeatures(degree=3, include_bias=False)),\n",
    "        (\"scaler\", StandardScaler()),\n",
    "    ]\n",
    ")\n",
    "\n",
    "X_train_prepared = prep_pipeline.fit_transform(X_train)\n",
    "X_test_prepared = prep_pipeline.transform(X_test)"
   ]
  },
  {
   "cell_type": "code",
   "execution_count": 3,
   "metadata": {},
   "outputs": [],
   "source": [
    "fig_path = project_root / 'Figures'"
   ]
  },
  {
   "cell_type": "code",
   "execution_count": 4,
   "metadata": {},
   "outputs": [],
   "source": [
    "pca = PCA(n_components = 0.95)\n",
    "\n",
    "X_train_pca = pca.fit_transform(X_train_prepared)"
   ]
  },
  {
   "cell_type": "code",
   "execution_count": 5,
   "metadata": {},
   "outputs": [],
   "source": [
    "pca_df = pd.DataFrame(X_train_pca)\n",
    "pca_df.rename({0: \"PC1\", 1: \"PC2\", 2: \"PC3\", 3: \"PC4\"}, axis = 1, inplace = True)"
   ]
  },
  {
   "cell_type": "code",
   "execution_count": 6,
   "metadata": {},
   "outputs": [
    {
     "output_type": "execute_result",
     "data": {
      "text/plain": "          PC1       PC2       PC3       PC4\n0   -1.660795 -4.916908  0.142667 -0.668685\n1    5.097335  4.318547  4.797293  2.335847\n2   -2.065288 -5.205475 -0.285547 -0.031620\n3    2.108529  4.477549 -3.645370  0.209733\n4    1.736276  4.238479 -3.663988  0.838737\n..        ...       ...       ...       ...\n139  2.567030  2.175674  1.829584 -0.460349\n140 -0.348875 -2.530451  4.538816 -1.134709\n141  5.143048  1.709141 -2.153726  0.085257\n142 -3.425587 -1.444043 -1.276328 -0.312171\n143 -2.214662  1.149376  3.795979 -0.228967\n\n[144 rows x 4 columns]",
      "text/html": "<div>\n<style scoped>\n    .dataframe tbody tr th:only-of-type {\n        vertical-align: middle;\n    }\n\n    .dataframe tbody tr th {\n        vertical-align: top;\n    }\n\n    .dataframe thead th {\n        text-align: right;\n    }\n</style>\n<table border=\"1\" class=\"dataframe\">\n  <thead>\n    <tr style=\"text-align: right;\">\n      <th></th>\n      <th>PC1</th>\n      <th>PC2</th>\n      <th>PC3</th>\n      <th>PC4</th>\n    </tr>\n  </thead>\n  <tbody>\n    <tr>\n      <th>0</th>\n      <td>-1.660795</td>\n      <td>-4.916908</td>\n      <td>0.142667</td>\n      <td>-0.668685</td>\n    </tr>\n    <tr>\n      <th>1</th>\n      <td>5.097335</td>\n      <td>4.318547</td>\n      <td>4.797293</td>\n      <td>2.335847</td>\n    </tr>\n    <tr>\n      <th>2</th>\n      <td>-2.065288</td>\n      <td>-5.205475</td>\n      <td>-0.285547</td>\n      <td>-0.031620</td>\n    </tr>\n    <tr>\n      <th>3</th>\n      <td>2.108529</td>\n      <td>4.477549</td>\n      <td>-3.645370</td>\n      <td>0.209733</td>\n    </tr>\n    <tr>\n      <th>4</th>\n      <td>1.736276</td>\n      <td>4.238479</td>\n      <td>-3.663988</td>\n      <td>0.838737</td>\n    </tr>\n    <tr>\n      <th>...</th>\n      <td>...</td>\n      <td>...</td>\n      <td>...</td>\n      <td>...</td>\n    </tr>\n    <tr>\n      <th>139</th>\n      <td>2.567030</td>\n      <td>2.175674</td>\n      <td>1.829584</td>\n      <td>-0.460349</td>\n    </tr>\n    <tr>\n      <th>140</th>\n      <td>-0.348875</td>\n      <td>-2.530451</td>\n      <td>4.538816</td>\n      <td>-1.134709</td>\n    </tr>\n    <tr>\n      <th>141</th>\n      <td>5.143048</td>\n      <td>1.709141</td>\n      <td>-2.153726</td>\n      <td>0.085257</td>\n    </tr>\n    <tr>\n      <th>142</th>\n      <td>-3.425587</td>\n      <td>-1.444043</td>\n      <td>-1.276328</td>\n      <td>-0.312171</td>\n    </tr>\n    <tr>\n      <th>143</th>\n      <td>-2.214662</td>\n      <td>1.149376</td>\n      <td>3.795979</td>\n      <td>-0.228967</td>\n    </tr>\n  </tbody>\n</table>\n<p>144 rows × 4 columns</p>\n</div>"
     },
     "metadata": {},
     "execution_count": 6
    }
   ],
   "source": [
    "pca_df"
   ]
  },
  {
   "cell_type": "code",
   "execution_count": 7,
   "metadata": {},
   "outputs": [
    {
     "output_type": "execute_result",
     "data": {
      "text/plain": "array([0.44780667, 0.31381839, 0.16236881, 0.03975169])"
     },
     "metadata": {},
     "execution_count": 7
    }
   ],
   "source": [
    "pca.explained_variance_ratio_"
   ]
  },
  {
   "cell_type": "code",
   "execution_count": 8,
   "metadata": {},
   "outputs": [],
   "source": [
    "# Plot explained variance\n",
    "exp_variance_df = pd.DataFrame({'pc': [f\"PC{i}\" for i in range(1, 5)], \n",
    "'exp_var': pca.explained_variance_ratio_,\n",
    "'cumulative': np.cumsum(pca.explained_variance_ratio_)})"
   ]
  },
  {
   "cell_type": "code",
   "execution_count": 9,
   "metadata": {},
   "outputs": [
    {
     "output_type": "execute_result",
     "data": {
      "text/plain": "    pc   exp_var  cumulative\n0  PC1  0.447807    0.447807\n1  PC2  0.313818    0.761625\n2  PC3  0.162369    0.923994\n3  PC4  0.039752    0.963746",
      "text/html": "<div>\n<style scoped>\n    .dataframe tbody tr th:only-of-type {\n        vertical-align: middle;\n    }\n\n    .dataframe tbody tr th {\n        vertical-align: top;\n    }\n\n    .dataframe thead th {\n        text-align: right;\n    }\n</style>\n<table border=\"1\" class=\"dataframe\">\n  <thead>\n    <tr style=\"text-align: right;\">\n      <th></th>\n      <th>pc</th>\n      <th>exp_var</th>\n      <th>cumulative</th>\n    </tr>\n  </thead>\n  <tbody>\n    <tr>\n      <th>0</th>\n      <td>PC1</td>\n      <td>0.447807</td>\n      <td>0.447807</td>\n    </tr>\n    <tr>\n      <th>1</th>\n      <td>PC2</td>\n      <td>0.313818</td>\n      <td>0.761625</td>\n    </tr>\n    <tr>\n      <th>2</th>\n      <td>PC3</td>\n      <td>0.162369</td>\n      <td>0.923994</td>\n    </tr>\n    <tr>\n      <th>3</th>\n      <td>PC4</td>\n      <td>0.039752</td>\n      <td>0.963746</td>\n    </tr>\n  </tbody>\n</table>\n</div>"
     },
     "metadata": {},
     "execution_count": 9
    }
   ],
   "source": [
    "exp_variance_df"
   ]
  },
  {
   "cell_type": "code",
   "execution_count": 10,
   "metadata": {},
   "outputs": [],
   "source": [
    "base = alt.Chart(exp_variance_df).encode(alt.X('pc:N', title = 'Principal Component'))\n",
    "\n",
    "bar = base.mark_bar().encode(alt.Y('exp_var:Q', title = \"% Explained Variance\"))\n",
    "\n",
    "line = base.mark_line(color = 'red').encode(\n",
    "    y = 'cumulative:Q'\n",
    ")\n",
    "\n",
    "chart = (bar + line).properties(width = 250, title = 'PCA Results')\n",
    "\n",
    "with alt.data_transformers.enable('default'):\n",
    "    chart.save(\"../Figures/pca_exp_var.png\", scale_factor = 6.0)\n",
    "\n"
   ]
  },
  {
   "cell_type": "code",
   "execution_count": 11,
   "metadata": {},
   "outputs": [
    {
     "output_type": "execute_result",
     "data": {
      "text/html": "\n<div id=\"altair-viz-116e151bea144d39bcd2087cdbe2d1b1\"></div>\n<script type=\"text/javascript\">\n  (function(spec, embedOpt){\n    let outputDiv = document.currentScript.previousElementSibling;\n    if (outputDiv.id !== \"altair-viz-116e151bea144d39bcd2087cdbe2d1b1\") {\n      outputDiv = document.getElementById(\"altair-viz-116e151bea144d39bcd2087cdbe2d1b1\");\n    }\n    const paths = {\n      \"vega\": \"https://cdn.jsdelivr.net/npm//vega@5?noext\",\n      \"vega-lib\": \"https://cdn.jsdelivr.net/npm//vega-lib?noext\",\n      \"vega-lite\": \"https://cdn.jsdelivr.net/npm//vega-lite@4.8.1?noext\",\n      \"vega-embed\": \"https://cdn.jsdelivr.net/npm//vega-embed@6?noext\",\n    };\n\n    function loadScript(lib) {\n      return new Promise(function(resolve, reject) {\n        var s = document.createElement('script');\n        s.src = paths[lib];\n        s.async = true;\n        s.onload = () => resolve(paths[lib]);\n        s.onerror = () => reject(`Error loading script: ${paths[lib]}`);\n        document.getElementsByTagName(\"head\")[0].appendChild(s);\n      });\n    }\n\n    function showError(err) {\n      outputDiv.innerHTML = `<div class=\"error\" style=\"color:red;\">${err}</div>`;\n      throw err;\n    }\n\n    function displayChart(vegaEmbed) {\n      vegaEmbed(outputDiv, spec, embedOpt)\n        .catch(err => showError(`Javascript Error: ${err.message}<br>This usually means there's a typo in your chart specification. See the javascript console for the full traceback.`));\n    }\n\n    if(typeof define === \"function\" && define.amd) {\n      requirejs.config({paths});\n      require([\"vega-embed\"], displayChart, err => showError(`Error loading script: ${err.message}`));\n    } else if (typeof vegaEmbed === \"function\") {\n      displayChart(vegaEmbed);\n    } else {\n      loadScript(\"vega\")\n        .then(() => loadScript(\"vega-lite\"))\n        .then(() => loadScript(\"vega-embed\"))\n        .catch(showError)\n        .then(() => displayChart(vegaEmbed));\n    }\n  })({\"config\": {\"view\": {\"continuousWidth\": 400, \"continuousHeight\": 300}}, \"layer\": [{\"mark\": \"bar\", \"encoding\": {\"x\": {\"type\": \"nominal\", \"field\": \"pc\", \"title\": \"Principal Component\"}, \"y\": {\"type\": \"quantitative\", \"field\": \"exp_var\", \"title\": \"% Explained Variance\"}}}, {\"mark\": {\"type\": \"line\", \"color\": \"red\"}, \"encoding\": {\"x\": {\"type\": \"nominal\", \"field\": \"pc\", \"title\": \"Principal Component\"}, \"y\": {\"type\": \"quantitative\", \"field\": \"cumulative\"}}}], \"data\": {\"url\": \"http://localhost:21638/664434ea1b4e5e53490e24ae66a82d75.json\"}, \"title\": \"PCA Results\", \"width\": 250, \"$schema\": \"https://vega.github.io/schema/vega-lite/v4.8.1.json\"}, {\"mode\": \"vega-lite\"});\n</script>",
      "text/plain": "alt.LayerChart(...)"
     },
     "metadata": {},
     "execution_count": 11
    }
   ],
   "source": [
    "chart\n"
   ]
  },
  {
   "cell_type": "code",
   "execution_count": null,
   "metadata": {},
   "outputs": [],
   "source": []
  }
 ],
 "metadata": {
  "kernelspec": {
   "display_name": "Python 3.7.7 64-bit ('MScProject': conda)",
   "language": "python",
   "name": "python37764bitmscprojectcondabc9b33e649274ab8beba0e739692658b"
  },
  "language_info": {
   "codemirror_mode": {
    "name": "ipython",
    "version": 3
   },
   "file_extension": ".py",
   "mimetype": "text/x-python",
   "name": "python",
   "nbconvert_exporter": "python",
   "pygments_lexer": "ipython3",
   "version": "3.7.7-final"
  }
 },
 "nbformat": 4,
 "nbformat_minor": 4
}
