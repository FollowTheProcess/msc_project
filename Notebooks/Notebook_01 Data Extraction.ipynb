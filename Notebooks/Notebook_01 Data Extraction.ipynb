{
 "cells": [
  {
   "cell_type": "markdown",
   "metadata": {},
   "source": [
    "# Notebook_01: Data Extraction"
   ]
  },
  {
   "cell_type": "markdown",
   "metadata": {},
   "source": [
    "The objective of this notebook is to extract the raw data from the provided excel files, manipulate it and process it in such a way to make further analysis easier and more productive, and save the reformatted data as readily accessible csv files for later work."
   ]
  },
  {
   "cell_type": "markdown",
   "metadata": {},
   "source": [
    "## Imports & Setup"
   ]
  },
  {
   "cell_type": "code",
   "execution_count": 1,
   "metadata": {},
   "outputs": [],
   "source": [
    "from pathlib import Path\n",
    "import pandas as pd\n",
    "import numpy as np"
   ]
  },
  {
   "cell_type": "code",
   "execution_count": 2,
   "metadata": {},
   "outputs": [],
   "source": [
    "project_root = Path().resolve().parent\n",
    "raw_data = project_root / 'Data' / 'Raw'\n",
    "\n",
    "amp_path = raw_data / 'Al_Amplitude.xlsx'\n",
    "freq_path = raw_data / 'Al_Nat_Freq.xlsx'\n",
    "\n",
    "# Because the data is on sheets with different names\n",
    "amp_sheet = 'Summary drop'\n",
    "freq_sheet = 'Drop summary'\n",
    "\n",
    "# Sets the rows to skip at the start for each set of data in order to grab the correct chunk\n",
    "skip_rows5 = [0, 1]\n",
    "skip_rows15 = list(range(18))\n",
    "skip_rows25 = list(range(35))\n",
    "n_rows = 12\n",
    "\n",
    "# Sets the columns to either ignore or load depending on what features we want\n",
    "# Since the sheets are formatted the same, we can either select values (frequency or amplitude) or 'drops' (frequency or amplitude drop)\n",
    "val_cols = [0, 3, 4, 6, 8, 10, 12]\n",
    "drop_cols = [0, 4, 5, 7, 9, 11, 13]"
   ]
  },
  {
   "cell_type": "code",
   "execution_count": 3,
   "metadata": {},
   "outputs": [],
   "source": [
    "# Chunks of amplitude data\n",
    "amp5_vals = pd.read_excel(amp_path, sheet_name = amp_sheet, skiprows = skip_rows5, nrows = n_rows, usecols = val_cols)\n",
    "amp15_vals = pd.read_excel(amp_path, sheet_name = amp_sheet, skiprows = skip_rows15, nrows = n_rows, usecols = val_cols)\n",
    "amp25_vals = pd.read_excel(amp_path, sheet_name = amp_sheet, skiprows = skip_rows25, nrows = n_rows, usecols = val_cols)\n",
    "\n",
    "# Chunks of frequency data\n",
    "freq5_vals = pd.read_excel(freq_path, sheet_name = freq_sheet, skiprows = skip_rows5, nrows = n_rows, usecols = val_cols)\n",
    "freq15_vals = pd.read_excel(freq_path, sheet_name = freq_sheet, skiprows = skip_rows15, nrows = n_rows, usecols = val_cols)\n",
    "freq25_vals = pd.read_excel(freq_path, sheet_name = freq_sheet, skiprows = skip_rows25, nrows = n_rows, usecols = val_cols)\n",
    "\n",
    "# Chunks of amplitude drop data\n",
    "amp5_drops = pd.read_excel(amp_path, sheet_name = amp_sheet, skiprows = skip_rows5, nrows = n_rows, usecols = drop_cols)\n",
    "amp15_drops = pd.read_excel(amp_path, sheet_name = amp_sheet, skiprows = skip_rows15, nrows = n_rows, usecols = drop_cols)\n",
    "amp25_drops = pd.read_excel(amp_path, sheet_name = amp_sheet, skiprows = skip_rows25, nrows = n_rows, usecols = drop_cols)\n",
    "\n",
    "# Chunks of frequency drop data\n",
    "freq5_drops = pd.read_excel(freq_path, sheet_name = freq_sheet, skiprows = skip_rows5, nrows = n_rows, usecols = drop_cols)\n",
    "freq15_drops = pd.read_excel(freq_path, sheet_name = freq_sheet, skiprows = skip_rows15, nrows = n_rows, usecols = drop_cols)\n",
    "freq25_drops = pd.read_excel(freq_path, sheet_name = freq_sheet, skiprows = skip_rows25, nrows = n_rows, usecols = drop_cols)"
   ]
  },
  {
   "cell_type": "code",
   "execution_count": 4,
   "metadata": {},
   "outputs": [],
   "source": [
    "# Group all the amps/freqs vals/drops together\n",
    "val_amp = [amp5_vals, amp15_vals, amp25_vals]\n",
    "drop_amp = [amp5_drops, amp15_drops, amp25_drops]\n",
    "\n",
    "val_freq = [freq5_vals, freq15_vals, freq25_vals]\n",
    "drop_freq = [freq5_drops, freq15_drops, freq25_drops]\n",
    "\n",
    "amp = pd.concat(val_amp, ignore_index = True)\n",
    "amp_drop = pd.concat(drop_amp, ignore_index = True)\n",
    "\n",
    "freq = pd.concat(val_freq, ignore_index = True)\n",
    "freq_drop = pd.concat(drop_freq, ignore_index = True)"
   ]
  },
  {
   "cell_type": "code",
   "execution_count": 5,
   "metadata": {},
   "outputs": [
    {
     "output_type": "execute_result",
     "data": {
      "text/plain": "    Unnamed: 0          D      CD/t        D.1        D.2        D.3  \\\n0            5  12.010000  0.000000  12.880000  13.780000  14.840000   \n17          15  12.947627  0.333333  13.558356  14.757397  16.213333   \n9            5  15.118261  0.666667  16.624333  18.032400  18.783333   \n2            5  10.470000  0.170000  11.440000  12.020000  14.120000   \n33          25  13.926087  0.666667  15.854286  16.596842  17.567800   \n\n          D.4  \n0   15.880000  \n17  16.607000  \n9   19.240769  \n2   15.260000  \n33  18.371667  ",
      "text/html": "<div>\n<style scoped>\n    .dataframe tbody tr th:only-of-type {\n        vertical-align: middle;\n    }\n\n    .dataframe tbody tr th {\n        vertical-align: top;\n    }\n\n    .dataframe thead th {\n        text-align: right;\n    }\n</style>\n<table border=\"1\" class=\"dataframe\">\n  <thead>\n    <tr style=\"text-align: right;\">\n      <th></th>\n      <th>Unnamed: 0</th>\n      <th>D</th>\n      <th>CD/t</th>\n      <th>D.1</th>\n      <th>D.2</th>\n      <th>D.3</th>\n      <th>D.4</th>\n    </tr>\n  </thead>\n  <tbody>\n    <tr>\n      <th>0</th>\n      <td>5</td>\n      <td>12.010000</td>\n      <td>0.000000</td>\n      <td>12.880000</td>\n      <td>13.780000</td>\n      <td>14.840000</td>\n      <td>15.880000</td>\n    </tr>\n    <tr>\n      <th>17</th>\n      <td>15</td>\n      <td>12.947627</td>\n      <td>0.333333</td>\n      <td>13.558356</td>\n      <td>14.757397</td>\n      <td>16.213333</td>\n      <td>16.607000</td>\n    </tr>\n    <tr>\n      <th>9</th>\n      <td>5</td>\n      <td>15.118261</td>\n      <td>0.666667</td>\n      <td>16.624333</td>\n      <td>18.032400</td>\n      <td>18.783333</td>\n      <td>19.240769</td>\n    </tr>\n    <tr>\n      <th>2</th>\n      <td>5</td>\n      <td>10.470000</td>\n      <td>0.170000</td>\n      <td>11.440000</td>\n      <td>12.020000</td>\n      <td>14.120000</td>\n      <td>15.260000</td>\n    </tr>\n    <tr>\n      <th>33</th>\n      <td>25</td>\n      <td>13.926087</td>\n      <td>0.666667</td>\n      <td>15.854286</td>\n      <td>16.596842</td>\n      <td>17.567800</td>\n      <td>18.371667</td>\n    </tr>\n  </tbody>\n</table>\n</div>"
     },
     "metadata": {},
     "execution_count": 5
    }
   ],
   "source": [
    "amp.sample(5)"
   ]
  },
  {
   "cell_type": "code",
   "execution_count": 6,
   "metadata": {},
   "outputs": [
    {
     "output_type": "execute_result",
     "data": {
      "text/plain": "    Unnamed: 0      CD/t      d-d0    d-d0.1    d-d0.2    d-d0.3    d-d0.4\n7            5  0.500000 -2.432059 -3.476809 -4.943333 -5.690000 -6.614324\n8            5  0.583333 -2.738696 -3.972667 -5.405833 -6.231667 -6.908654\n12          15  0.000000  0.000000 -0.870000 -1.770000 -2.830000 -3.870000\n3            5  0.173333  2.130000  0.570000 -0.010000 -2.110000 -3.250000\n0            5  0.000000  0.000000 -0.870000 -1.770000 -2.830000 -3.870000",
      "text/html": "<div>\n<style scoped>\n    .dataframe tbody tr th:only-of-type {\n        vertical-align: middle;\n    }\n\n    .dataframe tbody tr th {\n        vertical-align: top;\n    }\n\n    .dataframe thead th {\n        text-align: right;\n    }\n</style>\n<table border=\"1\" class=\"dataframe\">\n  <thead>\n    <tr style=\"text-align: right;\">\n      <th></th>\n      <th>Unnamed: 0</th>\n      <th>CD/t</th>\n      <th>d-d0</th>\n      <th>d-d0.1</th>\n      <th>d-d0.2</th>\n      <th>d-d0.3</th>\n      <th>d-d0.4</th>\n    </tr>\n  </thead>\n  <tbody>\n    <tr>\n      <th>7</th>\n      <td>5</td>\n      <td>0.500000</td>\n      <td>-2.432059</td>\n      <td>-3.476809</td>\n      <td>-4.943333</td>\n      <td>-5.690000</td>\n      <td>-6.614324</td>\n    </tr>\n    <tr>\n      <th>8</th>\n      <td>5</td>\n      <td>0.583333</td>\n      <td>-2.738696</td>\n      <td>-3.972667</td>\n      <td>-5.405833</td>\n      <td>-6.231667</td>\n      <td>-6.908654</td>\n    </tr>\n    <tr>\n      <th>12</th>\n      <td>15</td>\n      <td>0.000000</td>\n      <td>0.000000</td>\n      <td>-0.870000</td>\n      <td>-1.770000</td>\n      <td>-2.830000</td>\n      <td>-3.870000</td>\n    </tr>\n    <tr>\n      <th>3</th>\n      <td>5</td>\n      <td>0.173333</td>\n      <td>2.130000</td>\n      <td>0.570000</td>\n      <td>-0.010000</td>\n      <td>-2.110000</td>\n      <td>-3.250000</td>\n    </tr>\n    <tr>\n      <th>0</th>\n      <td>5</td>\n      <td>0.000000</td>\n      <td>0.000000</td>\n      <td>-0.870000</td>\n      <td>-1.770000</td>\n      <td>-2.830000</td>\n      <td>-3.870000</td>\n    </tr>\n  </tbody>\n</table>\n</div>"
     },
     "metadata": {},
     "execution_count": 6
    }
   ],
   "source": [
    "amp_drop.sample(5)"
   ]
  },
  {
   "cell_type": "code",
   "execution_count": 7,
   "metadata": {},
   "outputs": [
    {
     "output_type": "execute_result",
     "data": {
      "text/plain": "    Unnamed: 0         nf      CD/t       nf.1       nf.2       nf.3  \\\n0            5  40.970000  0.000000  40.450000  39.050000  38.780000   \n35          25  24.938974  0.833333  24.821111  22.681053  25.376667   \n16          15  38.499535  0.250000  37.109452  37.021429  35.929412   \n12          15  40.970000  0.000000  40.450000  39.050000  38.780000   \n23          15  22.872000  0.833333  24.206897  22.374211  23.138841   \n\n         nf.4  \n0   37.930000  \n35  23.680833  \n16  34.574583  \n12  37.930000  \n23  20.055000  ",
      "text/html": "<div>\n<style scoped>\n    .dataframe tbody tr th:only-of-type {\n        vertical-align: middle;\n    }\n\n    .dataframe tbody tr th {\n        vertical-align: top;\n    }\n\n    .dataframe thead th {\n        text-align: right;\n    }\n</style>\n<table border=\"1\" class=\"dataframe\">\n  <thead>\n    <tr style=\"text-align: right;\">\n      <th></th>\n      <th>Unnamed: 0</th>\n      <th>nf</th>\n      <th>CD/t</th>\n      <th>nf.1</th>\n      <th>nf.2</th>\n      <th>nf.3</th>\n      <th>nf.4</th>\n    </tr>\n  </thead>\n  <tbody>\n    <tr>\n      <th>0</th>\n      <td>5</td>\n      <td>40.970000</td>\n      <td>0.000000</td>\n      <td>40.450000</td>\n      <td>39.050000</td>\n      <td>38.780000</td>\n      <td>37.930000</td>\n    </tr>\n    <tr>\n      <th>35</th>\n      <td>25</td>\n      <td>24.938974</td>\n      <td>0.833333</td>\n      <td>24.821111</td>\n      <td>22.681053</td>\n      <td>25.376667</td>\n      <td>23.680833</td>\n    </tr>\n    <tr>\n      <th>16</th>\n      <td>15</td>\n      <td>38.499535</td>\n      <td>0.250000</td>\n      <td>37.109452</td>\n      <td>37.021429</td>\n      <td>35.929412</td>\n      <td>34.574583</td>\n    </tr>\n    <tr>\n      <th>12</th>\n      <td>15</td>\n      <td>40.970000</td>\n      <td>0.000000</td>\n      <td>40.450000</td>\n      <td>39.050000</td>\n      <td>38.780000</td>\n      <td>37.930000</td>\n    </tr>\n    <tr>\n      <th>23</th>\n      <td>15</td>\n      <td>22.872000</td>\n      <td>0.833333</td>\n      <td>24.206897</td>\n      <td>22.374211</td>\n      <td>23.138841</td>\n      <td>20.055000</td>\n    </tr>\n  </tbody>\n</table>\n</div>"
     },
     "metadata": {},
     "execution_count": 7
    }
   ],
   "source": [
    "freq.sample(5)"
   ]
  },
  {
   "cell_type": "code",
   "execution_count": 8,
   "metadata": {},
   "outputs": [
    {
     "output_type": "execute_result",
     "data": {
      "text/plain": "    Unnamed: 0      CD/t       f0-f     f0-f.1     f0-f.2     f0-f.3  \\\n7            5  0.500000   7.329608   7.772545   8.558475   9.104091   \n25          25  0.166667   1.510000   1.930000   2.930000   3.260000   \n16          15  0.250000   2.470465   3.860548   3.948571   5.040588   \n29          25  0.333333   2.746000   3.566667   4.509500   4.709231   \n21          15  0.666667  10.458000  11.235806  11.684286  12.780435   \n\n       f0-f.4  \n7   10.530811  \n25   4.260000  \n16   6.395417  \n29   6.235000  \n21  13.456667  ",
      "text/html": "<div>\n<style scoped>\n    .dataframe tbody tr th:only-of-type {\n        vertical-align: middle;\n    }\n\n    .dataframe tbody tr th {\n        vertical-align: top;\n    }\n\n    .dataframe thead th {\n        text-align: right;\n    }\n</style>\n<table border=\"1\" class=\"dataframe\">\n  <thead>\n    <tr style=\"text-align: right;\">\n      <th></th>\n      <th>Unnamed: 0</th>\n      <th>CD/t</th>\n      <th>f0-f</th>\n      <th>f0-f.1</th>\n      <th>f0-f.2</th>\n      <th>f0-f.3</th>\n      <th>f0-f.4</th>\n    </tr>\n  </thead>\n  <tbody>\n    <tr>\n      <th>7</th>\n      <td>5</td>\n      <td>0.500000</td>\n      <td>7.329608</td>\n      <td>7.772545</td>\n      <td>8.558475</td>\n      <td>9.104091</td>\n      <td>10.530811</td>\n    </tr>\n    <tr>\n      <th>25</th>\n      <td>25</td>\n      <td>0.166667</td>\n      <td>1.510000</td>\n      <td>1.930000</td>\n      <td>2.930000</td>\n      <td>3.260000</td>\n      <td>4.260000</td>\n    </tr>\n    <tr>\n      <th>16</th>\n      <td>15</td>\n      <td>0.250000</td>\n      <td>2.470465</td>\n      <td>3.860548</td>\n      <td>3.948571</td>\n      <td>5.040588</td>\n      <td>6.395417</td>\n    </tr>\n    <tr>\n      <th>29</th>\n      <td>25</td>\n      <td>0.333333</td>\n      <td>2.746000</td>\n      <td>3.566667</td>\n      <td>4.509500</td>\n      <td>4.709231</td>\n      <td>6.235000</td>\n    </tr>\n    <tr>\n      <th>21</th>\n      <td>15</td>\n      <td>0.666667</td>\n      <td>10.458000</td>\n      <td>11.235806</td>\n      <td>11.684286</td>\n      <td>12.780435</td>\n      <td>13.456667</td>\n    </tr>\n  </tbody>\n</table>\n</div>"
     },
     "metadata": {},
     "execution_count": 8
    }
   ],
   "source": [
    "freq_drop.sample(5)"
   ]
  },
  {
   "cell_type": "markdown",
   "metadata": {},
   "source": [
    "Excellent! It's worked. So now we have 4 neat dataframes all showing crack position (x), starting crack depth (CD), current crack depth/thickness ratio (CD/t)...\n",
    "\n",
    "* 'freq' and 'amp' showing the measured natural frequencies and amplitudes\n",
    "\n",
    "* 'freq_drop' and 'amp_drop' showing the drops in natural frequencies and amplitudes"
   ]
  },
  {
   "cell_type": "markdown",
   "metadata": {},
   "source": [
    "## Tidying up & Adding Temperature"
   ]
  },
  {
   "cell_type": "markdown",
   "metadata": {},
   "source": [
    "The repeated column names correspond to different temperatures during the test (22, 50, 100, 150 and 200 C). In order for all this data to work best with models/analysis later it needs to be in 'tidy' format where each row represents 1 instance rather than the matrix format it is in now where instances are at the intercept of columns and rows"
   ]
  },
  {
   "cell_type": "code",
   "execution_count": 9,
   "metadata": {},
   "outputs": [],
   "source": [
    "# Set what the columns refer to in each case\n",
    "val_col_list = ['x', 22, 'CD/t', 50, 100, 150, 200]\n",
    "drop_col_list = ['x', 'CD/t', 22, 50, 100, 150, 200]\n",
    "\n",
    "freq.columns = val_col_list\n",
    "amp.columns = val_col_list\n",
    "\n",
    "freq_drop.columns = drop_col_list\n",
    "amp_drop.columns = drop_col_list"
   ]
  },
  {
   "cell_type": "code",
   "execution_count": 10,
   "metadata": {},
   "outputs": [
    {
     "output_type": "execute_result",
     "data": {
      "text/plain": "   x         22      CD/t         50        100    150        200\n0  5  40.970000  0.000000  40.450000  39.050000  38.78  37.930000\n1  5  38.460000  0.166667  37.030000  36.780000  35.71  35.030000\n2  5  38.360000  0.170000  37.000000  36.680000  35.68  35.100000\n3  5  38.380000  0.173333  37.050000  36.680000  35.68  35.100000\n4  5  37.480877  0.250000  36.216667  36.026154  34.93  34.181967",
      "text/html": "<div>\n<style scoped>\n    .dataframe tbody tr th:only-of-type {\n        vertical-align: middle;\n    }\n\n    .dataframe tbody tr th {\n        vertical-align: top;\n    }\n\n    .dataframe thead th {\n        text-align: right;\n    }\n</style>\n<table border=\"1\" class=\"dataframe\">\n  <thead>\n    <tr style=\"text-align: right;\">\n      <th></th>\n      <th>x</th>\n      <th>22</th>\n      <th>CD/t</th>\n      <th>50</th>\n      <th>100</th>\n      <th>150</th>\n      <th>200</th>\n    </tr>\n  </thead>\n  <tbody>\n    <tr>\n      <th>0</th>\n      <td>5</td>\n      <td>40.970000</td>\n      <td>0.000000</td>\n      <td>40.450000</td>\n      <td>39.050000</td>\n      <td>38.78</td>\n      <td>37.930000</td>\n    </tr>\n    <tr>\n      <th>1</th>\n      <td>5</td>\n      <td>38.460000</td>\n      <td>0.166667</td>\n      <td>37.030000</td>\n      <td>36.780000</td>\n      <td>35.71</td>\n      <td>35.030000</td>\n    </tr>\n    <tr>\n      <th>2</th>\n      <td>5</td>\n      <td>38.360000</td>\n      <td>0.170000</td>\n      <td>37.000000</td>\n      <td>36.680000</td>\n      <td>35.68</td>\n      <td>35.100000</td>\n    </tr>\n    <tr>\n      <th>3</th>\n      <td>5</td>\n      <td>38.380000</td>\n      <td>0.173333</td>\n      <td>37.050000</td>\n      <td>36.680000</td>\n      <td>35.68</td>\n      <td>35.100000</td>\n    </tr>\n    <tr>\n      <th>4</th>\n      <td>5</td>\n      <td>37.480877</td>\n      <td>0.250000</td>\n      <td>36.216667</td>\n      <td>36.026154</td>\n      <td>34.93</td>\n      <td>34.181967</td>\n    </tr>\n  </tbody>\n</table>\n</div>"
     },
     "metadata": {},
     "execution_count": 10
    }
   ],
   "source": [
    "freq.head()"
   ]
  },
  {
   "cell_type": "code",
   "execution_count": 11,
   "metadata": {},
   "outputs": [
    {
     "output_type": "execute_result",
     "data": {
      "text/plain": "   x      CD/t        22        50       100   150       200\n0  5  0.000000  0.000000  0.520000  1.920000  2.19  3.040000\n1  5  0.166667  2.510000  3.940000  4.190000  5.26  5.940000\n2  5  0.170000  2.610000  3.970000  4.290000  5.29  5.870000\n3  5  0.173333  2.590000  3.920000  4.290000  5.29  5.870000\n4  5  0.250000  3.489123  4.753333  4.943846  6.04  6.788033",
      "text/html": "<div>\n<style scoped>\n    .dataframe tbody tr th:only-of-type {\n        vertical-align: middle;\n    }\n\n    .dataframe tbody tr th {\n        vertical-align: top;\n    }\n\n    .dataframe thead th {\n        text-align: right;\n    }\n</style>\n<table border=\"1\" class=\"dataframe\">\n  <thead>\n    <tr style=\"text-align: right;\">\n      <th></th>\n      <th>x</th>\n      <th>CD/t</th>\n      <th>22</th>\n      <th>50</th>\n      <th>100</th>\n      <th>150</th>\n      <th>200</th>\n    </tr>\n  </thead>\n  <tbody>\n    <tr>\n      <th>0</th>\n      <td>5</td>\n      <td>0.000000</td>\n      <td>0.000000</td>\n      <td>0.520000</td>\n      <td>1.920000</td>\n      <td>2.19</td>\n      <td>3.040000</td>\n    </tr>\n    <tr>\n      <th>1</th>\n      <td>5</td>\n      <td>0.166667</td>\n      <td>2.510000</td>\n      <td>3.940000</td>\n      <td>4.190000</td>\n      <td>5.26</td>\n      <td>5.940000</td>\n    </tr>\n    <tr>\n      <th>2</th>\n      <td>5</td>\n      <td>0.170000</td>\n      <td>2.610000</td>\n      <td>3.970000</td>\n      <td>4.290000</td>\n      <td>5.29</td>\n      <td>5.870000</td>\n    </tr>\n    <tr>\n      <th>3</th>\n      <td>5</td>\n      <td>0.173333</td>\n      <td>2.590000</td>\n      <td>3.920000</td>\n      <td>4.290000</td>\n      <td>5.29</td>\n      <td>5.870000</td>\n    </tr>\n    <tr>\n      <th>4</th>\n      <td>5</td>\n      <td>0.250000</td>\n      <td>3.489123</td>\n      <td>4.753333</td>\n      <td>4.943846</td>\n      <td>6.04</td>\n      <td>6.788033</td>\n    </tr>\n  </tbody>\n</table>\n</div>"
     },
     "metadata": {},
     "execution_count": 11
    }
   ],
   "source": [
    "freq_drop.head()"
   ]
  },
  {
   "cell_type": "code",
   "execution_count": 12,
   "metadata": {},
   "outputs": [],
   "source": [
    "# Now for a bit of reording to make the value ones more readable, the drop ones are already in this order\n",
    "freq = freq[['x', 'CD/t', 22, 50, 100, 150, 200]]\n",
    "amp = amp[['x', 'CD/t', 22, 50, 100, 150, 200 ]]"
   ]
  },
  {
   "cell_type": "code",
   "execution_count": 13,
   "metadata": {},
   "outputs": [
    {
     "output_type": "execute_result",
     "data": {
      "text/plain": "   x      CD/t         22         50        100    150        200\n0  5  0.000000  40.970000  40.450000  39.050000  38.78  37.930000\n1  5  0.166667  38.460000  37.030000  36.780000  35.71  35.030000\n2  5  0.170000  38.360000  37.000000  36.680000  35.68  35.100000\n3  5  0.173333  38.380000  37.050000  36.680000  35.68  35.100000\n4  5  0.250000  37.480877  36.216667  36.026154  34.93  34.181967",
      "text/html": "<div>\n<style scoped>\n    .dataframe tbody tr th:only-of-type {\n        vertical-align: middle;\n    }\n\n    .dataframe tbody tr th {\n        vertical-align: top;\n    }\n\n    .dataframe thead th {\n        text-align: right;\n    }\n</style>\n<table border=\"1\" class=\"dataframe\">\n  <thead>\n    <tr style=\"text-align: right;\">\n      <th></th>\n      <th>x</th>\n      <th>CD/t</th>\n      <th>22</th>\n      <th>50</th>\n      <th>100</th>\n      <th>150</th>\n      <th>200</th>\n    </tr>\n  </thead>\n  <tbody>\n    <tr>\n      <th>0</th>\n      <td>5</td>\n      <td>0.000000</td>\n      <td>40.970000</td>\n      <td>40.450000</td>\n      <td>39.050000</td>\n      <td>38.78</td>\n      <td>37.930000</td>\n    </tr>\n    <tr>\n      <th>1</th>\n      <td>5</td>\n      <td>0.166667</td>\n      <td>38.460000</td>\n      <td>37.030000</td>\n      <td>36.780000</td>\n      <td>35.71</td>\n      <td>35.030000</td>\n    </tr>\n    <tr>\n      <th>2</th>\n      <td>5</td>\n      <td>0.170000</td>\n      <td>38.360000</td>\n      <td>37.000000</td>\n      <td>36.680000</td>\n      <td>35.68</td>\n      <td>35.100000</td>\n    </tr>\n    <tr>\n      <th>3</th>\n      <td>5</td>\n      <td>0.173333</td>\n      <td>38.380000</td>\n      <td>37.050000</td>\n      <td>36.680000</td>\n      <td>35.68</td>\n      <td>35.100000</td>\n    </tr>\n    <tr>\n      <th>4</th>\n      <td>5</td>\n      <td>0.250000</td>\n      <td>37.480877</td>\n      <td>36.216667</td>\n      <td>36.026154</td>\n      <td>34.93</td>\n      <td>34.181967</td>\n    </tr>\n  </tbody>\n</table>\n</div>"
     },
     "metadata": {},
     "execution_count": 13
    }
   ],
   "source": [
    "freq.head()"
   ]
  },
  {
   "cell_type": "code",
   "execution_count": 14,
   "metadata": {},
   "outputs": [
    {
     "output_type": "execute_result",
     "data": {
      "text/plain": "   x      CD/t         22         50    100        150       200\n0  5  0.000000  12.010000  12.880000  13.78  14.840000  15.88000\n1  5  0.166667  12.290000  12.940000  13.80  14.900000  15.86000\n2  5  0.170000  10.470000  11.440000  12.02  14.120000  15.26000\n3  5  0.173333   9.880000  11.440000  12.02  14.120000  15.26000\n4  5  0.250000  12.786667  13.282105  14.36  15.341154  16.33377",
      "text/html": "<div>\n<style scoped>\n    .dataframe tbody tr th:only-of-type {\n        vertical-align: middle;\n    }\n\n    .dataframe tbody tr th {\n        vertical-align: top;\n    }\n\n    .dataframe thead th {\n        text-align: right;\n    }\n</style>\n<table border=\"1\" class=\"dataframe\">\n  <thead>\n    <tr style=\"text-align: right;\">\n      <th></th>\n      <th>x</th>\n      <th>CD/t</th>\n      <th>22</th>\n      <th>50</th>\n      <th>100</th>\n      <th>150</th>\n      <th>200</th>\n    </tr>\n  </thead>\n  <tbody>\n    <tr>\n      <th>0</th>\n      <td>5</td>\n      <td>0.000000</td>\n      <td>12.010000</td>\n      <td>12.880000</td>\n      <td>13.78</td>\n      <td>14.840000</td>\n      <td>15.88000</td>\n    </tr>\n    <tr>\n      <th>1</th>\n      <td>5</td>\n      <td>0.166667</td>\n      <td>12.290000</td>\n      <td>12.940000</td>\n      <td>13.80</td>\n      <td>14.900000</td>\n      <td>15.86000</td>\n    </tr>\n    <tr>\n      <th>2</th>\n      <td>5</td>\n      <td>0.170000</td>\n      <td>10.470000</td>\n      <td>11.440000</td>\n      <td>12.02</td>\n      <td>14.120000</td>\n      <td>15.26000</td>\n    </tr>\n    <tr>\n      <th>3</th>\n      <td>5</td>\n      <td>0.173333</td>\n      <td>9.880000</td>\n      <td>11.440000</td>\n      <td>12.02</td>\n      <td>14.120000</td>\n      <td>15.26000</td>\n    </tr>\n    <tr>\n      <th>4</th>\n      <td>5</td>\n      <td>0.250000</td>\n      <td>12.786667</td>\n      <td>13.282105</td>\n      <td>14.36</td>\n      <td>15.341154</td>\n      <td>16.33377</td>\n    </tr>\n  </tbody>\n</table>\n</div>"
     },
     "metadata": {},
     "execution_count": 14
    }
   ],
   "source": [
    "amp.head()"
   ]
  },
  {
   "cell_type": "code",
   "execution_count": 15,
   "metadata": {},
   "outputs": [
    {
     "output_type": "execute_result",
     "data": {
      "text/plain": "   x      CD/t        22        50       100   150       200\n0  5  0.000000  0.000000  0.520000  1.920000  2.19  3.040000\n1  5  0.166667  2.510000  3.940000  4.190000  5.26  5.940000\n2  5  0.170000  2.610000  3.970000  4.290000  5.29  5.870000\n3  5  0.173333  2.590000  3.920000  4.290000  5.29  5.870000\n4  5  0.250000  3.489123  4.753333  4.943846  6.04  6.788033",
      "text/html": "<div>\n<style scoped>\n    .dataframe tbody tr th:only-of-type {\n        vertical-align: middle;\n    }\n\n    .dataframe tbody tr th {\n        vertical-align: top;\n    }\n\n    .dataframe thead th {\n        text-align: right;\n    }\n</style>\n<table border=\"1\" class=\"dataframe\">\n  <thead>\n    <tr style=\"text-align: right;\">\n      <th></th>\n      <th>x</th>\n      <th>CD/t</th>\n      <th>22</th>\n      <th>50</th>\n      <th>100</th>\n      <th>150</th>\n      <th>200</th>\n    </tr>\n  </thead>\n  <tbody>\n    <tr>\n      <th>0</th>\n      <td>5</td>\n      <td>0.000000</td>\n      <td>0.000000</td>\n      <td>0.520000</td>\n      <td>1.920000</td>\n      <td>2.19</td>\n      <td>3.040000</td>\n    </tr>\n    <tr>\n      <th>1</th>\n      <td>5</td>\n      <td>0.166667</td>\n      <td>2.510000</td>\n      <td>3.940000</td>\n      <td>4.190000</td>\n      <td>5.26</td>\n      <td>5.940000</td>\n    </tr>\n    <tr>\n      <th>2</th>\n      <td>5</td>\n      <td>0.170000</td>\n      <td>2.610000</td>\n      <td>3.970000</td>\n      <td>4.290000</td>\n      <td>5.29</td>\n      <td>5.870000</td>\n    </tr>\n    <tr>\n      <th>3</th>\n      <td>5</td>\n      <td>0.173333</td>\n      <td>2.590000</td>\n      <td>3.920000</td>\n      <td>4.290000</td>\n      <td>5.29</td>\n      <td>5.870000</td>\n    </tr>\n    <tr>\n      <th>4</th>\n      <td>5</td>\n      <td>0.250000</td>\n      <td>3.489123</td>\n      <td>4.753333</td>\n      <td>4.943846</td>\n      <td>6.04</td>\n      <td>6.788033</td>\n    </tr>\n  </tbody>\n</table>\n</div>"
     },
     "metadata": {},
     "execution_count": 15
    }
   ],
   "source": [
    "freq_drop.head()"
   ]
  },
  {
   "cell_type": "code",
   "execution_count": 16,
   "metadata": {},
   "outputs": [
    {
     "output_type": "execute_result",
     "data": {
      "text/plain": "   x      CD/t        22        50   100       150      200\n0  5  0.000000  0.000000 -0.870000 -1.77 -2.830000 -3.87000\n1  5  0.166667 -0.280000 -0.930000 -1.79 -2.890000 -3.85000\n2  5  0.170000  1.540000  0.570000 -0.01 -2.110000 -3.25000\n3  5  0.173333  2.130000  0.570000 -0.01 -2.110000 -3.25000\n4  5  0.250000 -0.776667 -1.272105 -2.35 -3.331154 -4.32377",
      "text/html": "<div>\n<style scoped>\n    .dataframe tbody tr th:only-of-type {\n        vertical-align: middle;\n    }\n\n    .dataframe tbody tr th {\n        vertical-align: top;\n    }\n\n    .dataframe thead th {\n        text-align: right;\n    }\n</style>\n<table border=\"1\" class=\"dataframe\">\n  <thead>\n    <tr style=\"text-align: right;\">\n      <th></th>\n      <th>x</th>\n      <th>CD/t</th>\n      <th>22</th>\n      <th>50</th>\n      <th>100</th>\n      <th>150</th>\n      <th>200</th>\n    </tr>\n  </thead>\n  <tbody>\n    <tr>\n      <th>0</th>\n      <td>5</td>\n      <td>0.000000</td>\n      <td>0.000000</td>\n      <td>-0.870000</td>\n      <td>-1.77</td>\n      <td>-2.830000</td>\n      <td>-3.87000</td>\n    </tr>\n    <tr>\n      <th>1</th>\n      <td>5</td>\n      <td>0.166667</td>\n      <td>-0.280000</td>\n      <td>-0.930000</td>\n      <td>-1.79</td>\n      <td>-2.890000</td>\n      <td>-3.85000</td>\n    </tr>\n    <tr>\n      <th>2</th>\n      <td>5</td>\n      <td>0.170000</td>\n      <td>1.540000</td>\n      <td>0.570000</td>\n      <td>-0.01</td>\n      <td>-2.110000</td>\n      <td>-3.25000</td>\n    </tr>\n    <tr>\n      <th>3</th>\n      <td>5</td>\n      <td>0.173333</td>\n      <td>2.130000</td>\n      <td>0.570000</td>\n      <td>-0.01</td>\n      <td>-2.110000</td>\n      <td>-3.25000</td>\n    </tr>\n    <tr>\n      <th>4</th>\n      <td>5</td>\n      <td>0.250000</td>\n      <td>-0.776667</td>\n      <td>-1.272105</td>\n      <td>-2.35</td>\n      <td>-3.331154</td>\n      <td>-4.32377</td>\n    </tr>\n  </tbody>\n</table>\n</div>"
     },
     "metadata": {},
     "execution_count": 16
    }
   ],
   "source": [
    "amp_drop.head()"
   ]
  },
  {
   "cell_type": "markdown",
   "metadata": {},
   "source": [
    "All the columns match, and we've got our crack lengths along with all the frequency or amplitude data at all the different temperatures the next stage is to melt or unstack these to turn them into 'tidy' tabular data."
   ]
  },
  {
   "cell_type": "markdown",
   "metadata": {},
   "source": [
    "## Converting to Tidy Format"
   ]
  },
  {
   "cell_type": "code",
   "execution_count": 17,
   "metadata": {},
   "outputs": [],
   "source": [
    "melt_test = pd.melt(freq_drop, id_vars = ['x', 'CD/t'], var_name = 'temp', value_name = 'nf_drop')"
   ]
  },
  {
   "cell_type": "code",
   "execution_count": 18,
   "metadata": {},
   "outputs": [
    {
     "output_type": "execute_result",
     "data": {
      "text/plain": "      x      CD/t temp    nf_drop\n0     5  0.000000   22   0.000000\n1     5  0.166667   22   2.510000\n2     5  0.170000   22   2.610000\n3     5  0.173333   22   2.590000\n4     5  0.250000   22   3.489123\n..   ..       ...  ...        ...\n175  25  0.500000  200   8.497500\n176  25  0.583333  200  10.695417\n177  25  0.666667  200  12.893333\n178  25  0.750000  200  15.091250\n179  25  0.833333  200  17.289167\n\n[180 rows x 4 columns]",
      "text/html": "<div>\n<style scoped>\n    .dataframe tbody tr th:only-of-type {\n        vertical-align: middle;\n    }\n\n    .dataframe tbody tr th {\n        vertical-align: top;\n    }\n\n    .dataframe thead th {\n        text-align: right;\n    }\n</style>\n<table border=\"1\" class=\"dataframe\">\n  <thead>\n    <tr style=\"text-align: right;\">\n      <th></th>\n      <th>x</th>\n      <th>CD/t</th>\n      <th>temp</th>\n      <th>nf_drop</th>\n    </tr>\n  </thead>\n  <tbody>\n    <tr>\n      <th>0</th>\n      <td>5</td>\n      <td>0.000000</td>\n      <td>22</td>\n      <td>0.000000</td>\n    </tr>\n    <tr>\n      <th>1</th>\n      <td>5</td>\n      <td>0.166667</td>\n      <td>22</td>\n      <td>2.510000</td>\n    </tr>\n    <tr>\n      <th>2</th>\n      <td>5</td>\n      <td>0.170000</td>\n      <td>22</td>\n      <td>2.610000</td>\n    </tr>\n    <tr>\n      <th>3</th>\n      <td>5</td>\n      <td>0.173333</td>\n      <td>22</td>\n      <td>2.590000</td>\n    </tr>\n    <tr>\n      <th>4</th>\n      <td>5</td>\n      <td>0.250000</td>\n      <td>22</td>\n      <td>3.489123</td>\n    </tr>\n    <tr>\n      <th>...</th>\n      <td>...</td>\n      <td>...</td>\n      <td>...</td>\n      <td>...</td>\n    </tr>\n    <tr>\n      <th>175</th>\n      <td>25</td>\n      <td>0.500000</td>\n      <td>200</td>\n      <td>8.497500</td>\n    </tr>\n    <tr>\n      <th>176</th>\n      <td>25</td>\n      <td>0.583333</td>\n      <td>200</td>\n      <td>10.695417</td>\n    </tr>\n    <tr>\n      <th>177</th>\n      <td>25</td>\n      <td>0.666667</td>\n      <td>200</td>\n      <td>12.893333</td>\n    </tr>\n    <tr>\n      <th>178</th>\n      <td>25</td>\n      <td>0.750000</td>\n      <td>200</td>\n      <td>15.091250</td>\n    </tr>\n    <tr>\n      <th>179</th>\n      <td>25</td>\n      <td>0.833333</td>\n      <td>200</td>\n      <td>17.289167</td>\n    </tr>\n  </tbody>\n</table>\n<p>180 rows × 4 columns</p>\n</div>"
     },
     "metadata": {},
     "execution_count": 18
    }
   ],
   "source": [
    "melt_test"
   ]
  },
  {
   "cell_type": "code",
   "execution_count": 19,
   "metadata": {},
   "outputs": [],
   "source": [
    "# Use pd.melt to \"tidy\" the data\n",
    "nf = pd.melt(freq, id_vars = ['x', 'CD/t'], var_name = 'temp', value_name = 'nf_hz')\n",
    "nfdrop = pd.melt(freq_drop, id_vars = ['x', 'CD/t'], var_name = 'temp', value_name = 'nf_drop')\n",
    "\n",
    "amp = pd.melt(amp, id_vars = ['x', 'CD/t'], var_name = 'temp', value_name = 'amp_mm')\n",
    "ampdrop = pd.melt(amp_drop, id_vars = ['x', 'CD/t'], var_name = 'temp', value_name = 'amp_drop')"
   ]
  },
  {
   "cell_type": "code",
   "execution_count": 20,
   "metadata": {},
   "outputs": [
    {
     "output_type": "execute_result",
     "data": {
      "text/plain": "      x      CD/t temp      nf_hz\n0     5  0.000000   22  40.970000\n1     5  0.166667   22  38.460000\n2     5  0.170000   22  38.360000\n3     5  0.173333   22  38.380000\n4     5  0.250000   22  37.480877\n..   ..       ...  ...        ...\n175  25  0.500000  200  32.472500\n176  25  0.583333  200  30.274583\n177  25  0.666667  200  28.076667\n178  25  0.750000  200  25.878750\n179  25  0.833333  200  23.680833\n\n[180 rows x 4 columns]",
      "text/html": "<div>\n<style scoped>\n    .dataframe tbody tr th:only-of-type {\n        vertical-align: middle;\n    }\n\n    .dataframe tbody tr th {\n        vertical-align: top;\n    }\n\n    .dataframe thead th {\n        text-align: right;\n    }\n</style>\n<table border=\"1\" class=\"dataframe\">\n  <thead>\n    <tr style=\"text-align: right;\">\n      <th></th>\n      <th>x</th>\n      <th>CD/t</th>\n      <th>temp</th>\n      <th>nf_hz</th>\n    </tr>\n  </thead>\n  <tbody>\n    <tr>\n      <th>0</th>\n      <td>5</td>\n      <td>0.000000</td>\n      <td>22</td>\n      <td>40.970000</td>\n    </tr>\n    <tr>\n      <th>1</th>\n      <td>5</td>\n      <td>0.166667</td>\n      <td>22</td>\n      <td>38.460000</td>\n    </tr>\n    <tr>\n      <th>2</th>\n      <td>5</td>\n      <td>0.170000</td>\n      <td>22</td>\n      <td>38.360000</td>\n    </tr>\n    <tr>\n      <th>3</th>\n      <td>5</td>\n      <td>0.173333</td>\n      <td>22</td>\n      <td>38.380000</td>\n    </tr>\n    <tr>\n      <th>4</th>\n      <td>5</td>\n      <td>0.250000</td>\n      <td>22</td>\n      <td>37.480877</td>\n    </tr>\n    <tr>\n      <th>...</th>\n      <td>...</td>\n      <td>...</td>\n      <td>...</td>\n      <td>...</td>\n    </tr>\n    <tr>\n      <th>175</th>\n      <td>25</td>\n      <td>0.500000</td>\n      <td>200</td>\n      <td>32.472500</td>\n    </tr>\n    <tr>\n      <th>176</th>\n      <td>25</td>\n      <td>0.583333</td>\n      <td>200</td>\n      <td>30.274583</td>\n    </tr>\n    <tr>\n      <th>177</th>\n      <td>25</td>\n      <td>0.666667</td>\n      <td>200</td>\n      <td>28.076667</td>\n    </tr>\n    <tr>\n      <th>178</th>\n      <td>25</td>\n      <td>0.750000</td>\n      <td>200</td>\n      <td>25.878750</td>\n    </tr>\n    <tr>\n      <th>179</th>\n      <td>25</td>\n      <td>0.833333</td>\n      <td>200</td>\n      <td>23.680833</td>\n    </tr>\n  </tbody>\n</table>\n<p>180 rows × 4 columns</p>\n</div>"
     },
     "metadata": {},
     "execution_count": 20
    }
   ],
   "source": [
    "nf"
   ]
  },
  {
   "cell_type": "code",
   "execution_count": 21,
   "metadata": {},
   "outputs": [
    {
     "output_type": "execute_result",
     "data": {
      "text/plain": "      x      CD/t temp    nf_drop\n0     5  0.000000   22   0.000000\n1     5  0.166667   22   2.510000\n2     5  0.170000   22   2.610000\n3     5  0.173333   22   2.590000\n4     5  0.250000   22   3.489123\n..   ..       ...  ...        ...\n175  25  0.500000  200   8.497500\n176  25  0.583333  200  10.695417\n177  25  0.666667  200  12.893333\n178  25  0.750000  200  15.091250\n179  25  0.833333  200  17.289167\n\n[180 rows x 4 columns]",
      "text/html": "<div>\n<style scoped>\n    .dataframe tbody tr th:only-of-type {\n        vertical-align: middle;\n    }\n\n    .dataframe tbody tr th {\n        vertical-align: top;\n    }\n\n    .dataframe thead th {\n        text-align: right;\n    }\n</style>\n<table border=\"1\" class=\"dataframe\">\n  <thead>\n    <tr style=\"text-align: right;\">\n      <th></th>\n      <th>x</th>\n      <th>CD/t</th>\n      <th>temp</th>\n      <th>nf_drop</th>\n    </tr>\n  </thead>\n  <tbody>\n    <tr>\n      <th>0</th>\n      <td>5</td>\n      <td>0.000000</td>\n      <td>22</td>\n      <td>0.000000</td>\n    </tr>\n    <tr>\n      <th>1</th>\n      <td>5</td>\n      <td>0.166667</td>\n      <td>22</td>\n      <td>2.510000</td>\n    </tr>\n    <tr>\n      <th>2</th>\n      <td>5</td>\n      <td>0.170000</td>\n      <td>22</td>\n      <td>2.610000</td>\n    </tr>\n    <tr>\n      <th>3</th>\n      <td>5</td>\n      <td>0.173333</td>\n      <td>22</td>\n      <td>2.590000</td>\n    </tr>\n    <tr>\n      <th>4</th>\n      <td>5</td>\n      <td>0.250000</td>\n      <td>22</td>\n      <td>3.489123</td>\n    </tr>\n    <tr>\n      <th>...</th>\n      <td>...</td>\n      <td>...</td>\n      <td>...</td>\n      <td>...</td>\n    </tr>\n    <tr>\n      <th>175</th>\n      <td>25</td>\n      <td>0.500000</td>\n      <td>200</td>\n      <td>8.497500</td>\n    </tr>\n    <tr>\n      <th>176</th>\n      <td>25</td>\n      <td>0.583333</td>\n      <td>200</td>\n      <td>10.695417</td>\n    </tr>\n    <tr>\n      <th>177</th>\n      <td>25</td>\n      <td>0.666667</td>\n      <td>200</td>\n      <td>12.893333</td>\n    </tr>\n    <tr>\n      <th>178</th>\n      <td>25</td>\n      <td>0.750000</td>\n      <td>200</td>\n      <td>15.091250</td>\n    </tr>\n    <tr>\n      <th>179</th>\n      <td>25</td>\n      <td>0.833333</td>\n      <td>200</td>\n      <td>17.289167</td>\n    </tr>\n  </tbody>\n</table>\n<p>180 rows × 4 columns</p>\n</div>"
     },
     "metadata": {},
     "execution_count": 21
    }
   ],
   "source": [
    "nfdrop"
   ]
  },
  {
   "cell_type": "code",
   "execution_count": 22,
   "metadata": {},
   "outputs": [
    {
     "output_type": "execute_result",
     "data": {
      "text/plain": "      x      CD/t temp     amp_mm\n0     5  0.000000   22  12.010000\n1     5  0.166667   22  12.290000\n2     5  0.170000   22  10.470000\n3     5  0.173333   22   9.880000\n4     5  0.250000   22  12.786667\n..   ..       ...  ...        ...\n175  25  0.500000  200  17.736250\n176  25  0.583333  200  18.053958\n177  25  0.666667  200  18.371667\n178  25  0.750000  200  18.689375\n179  25  0.833333  200  19.007083\n\n[180 rows x 4 columns]",
      "text/html": "<div>\n<style scoped>\n    .dataframe tbody tr th:only-of-type {\n        vertical-align: middle;\n    }\n\n    .dataframe tbody tr th {\n        vertical-align: top;\n    }\n\n    .dataframe thead th {\n        text-align: right;\n    }\n</style>\n<table border=\"1\" class=\"dataframe\">\n  <thead>\n    <tr style=\"text-align: right;\">\n      <th></th>\n      <th>x</th>\n      <th>CD/t</th>\n      <th>temp</th>\n      <th>amp_mm</th>\n    </tr>\n  </thead>\n  <tbody>\n    <tr>\n      <th>0</th>\n      <td>5</td>\n      <td>0.000000</td>\n      <td>22</td>\n      <td>12.010000</td>\n    </tr>\n    <tr>\n      <th>1</th>\n      <td>5</td>\n      <td>0.166667</td>\n      <td>22</td>\n      <td>12.290000</td>\n    </tr>\n    <tr>\n      <th>2</th>\n      <td>5</td>\n      <td>0.170000</td>\n      <td>22</td>\n      <td>10.470000</td>\n    </tr>\n    <tr>\n      <th>3</th>\n      <td>5</td>\n      <td>0.173333</td>\n      <td>22</td>\n      <td>9.880000</td>\n    </tr>\n    <tr>\n      <th>4</th>\n      <td>5</td>\n      <td>0.250000</td>\n      <td>22</td>\n      <td>12.786667</td>\n    </tr>\n    <tr>\n      <th>...</th>\n      <td>...</td>\n      <td>...</td>\n      <td>...</td>\n      <td>...</td>\n    </tr>\n    <tr>\n      <th>175</th>\n      <td>25</td>\n      <td>0.500000</td>\n      <td>200</td>\n      <td>17.736250</td>\n    </tr>\n    <tr>\n      <th>176</th>\n      <td>25</td>\n      <td>0.583333</td>\n      <td>200</td>\n      <td>18.053958</td>\n    </tr>\n    <tr>\n      <th>177</th>\n      <td>25</td>\n      <td>0.666667</td>\n      <td>200</td>\n      <td>18.371667</td>\n    </tr>\n    <tr>\n      <th>178</th>\n      <td>25</td>\n      <td>0.750000</td>\n      <td>200</td>\n      <td>18.689375</td>\n    </tr>\n    <tr>\n      <th>179</th>\n      <td>25</td>\n      <td>0.833333</td>\n      <td>200</td>\n      <td>19.007083</td>\n    </tr>\n  </tbody>\n</table>\n<p>180 rows × 4 columns</p>\n</div>"
     },
     "metadata": {},
     "execution_count": 22
    }
   ],
   "source": [
    "amp"
   ]
  },
  {
   "cell_type": "code",
   "execution_count": 23,
   "metadata": {},
   "outputs": [
    {
     "output_type": "execute_result",
     "data": {
      "text/plain": "      x      CD/t temp  amp_drop\n0     5  0.000000   22  0.000000\n1     5  0.166667   22 -0.280000\n2     5  0.170000   22  1.540000\n3     5  0.173333   22  2.130000\n4     5  0.250000   22 -0.776667\n..   ..       ...  ...       ...\n175  25  0.500000  200 -5.726250\n176  25  0.583333  200 -6.043958\n177  25  0.666667  200 -6.361667\n178  25  0.750000  200 -6.679375\n179  25  0.833333  200 -6.997083\n\n[180 rows x 4 columns]",
      "text/html": "<div>\n<style scoped>\n    .dataframe tbody tr th:only-of-type {\n        vertical-align: middle;\n    }\n\n    .dataframe tbody tr th {\n        vertical-align: top;\n    }\n\n    .dataframe thead th {\n        text-align: right;\n    }\n</style>\n<table border=\"1\" class=\"dataframe\">\n  <thead>\n    <tr style=\"text-align: right;\">\n      <th></th>\n      <th>x</th>\n      <th>CD/t</th>\n      <th>temp</th>\n      <th>amp_drop</th>\n    </tr>\n  </thead>\n  <tbody>\n    <tr>\n      <th>0</th>\n      <td>5</td>\n      <td>0.000000</td>\n      <td>22</td>\n      <td>0.000000</td>\n    </tr>\n    <tr>\n      <th>1</th>\n      <td>5</td>\n      <td>0.166667</td>\n      <td>22</td>\n      <td>-0.280000</td>\n    </tr>\n    <tr>\n      <th>2</th>\n      <td>5</td>\n      <td>0.170000</td>\n      <td>22</td>\n      <td>1.540000</td>\n    </tr>\n    <tr>\n      <th>3</th>\n      <td>5</td>\n      <td>0.173333</td>\n      <td>22</td>\n      <td>2.130000</td>\n    </tr>\n    <tr>\n      <th>4</th>\n      <td>5</td>\n      <td>0.250000</td>\n      <td>22</td>\n      <td>-0.776667</td>\n    </tr>\n    <tr>\n      <th>...</th>\n      <td>...</td>\n      <td>...</td>\n      <td>...</td>\n      <td>...</td>\n    </tr>\n    <tr>\n      <th>175</th>\n      <td>25</td>\n      <td>0.500000</td>\n      <td>200</td>\n      <td>-5.726250</td>\n    </tr>\n    <tr>\n      <th>176</th>\n      <td>25</td>\n      <td>0.583333</td>\n      <td>200</td>\n      <td>-6.043958</td>\n    </tr>\n    <tr>\n      <th>177</th>\n      <td>25</td>\n      <td>0.666667</td>\n      <td>200</td>\n      <td>-6.361667</td>\n    </tr>\n    <tr>\n      <th>178</th>\n      <td>25</td>\n      <td>0.750000</td>\n      <td>200</td>\n      <td>-6.679375</td>\n    </tr>\n    <tr>\n      <th>179</th>\n      <td>25</td>\n      <td>0.833333</td>\n      <td>200</td>\n      <td>-6.997083</td>\n    </tr>\n  </tbody>\n</table>\n<p>180 rows × 4 columns</p>\n</div>"
     },
     "metadata": {},
     "execution_count": 23
    }
   ],
   "source": [
    "ampdrop"
   ]
  },
  {
   "cell_type": "markdown",
   "metadata": {},
   "source": [
    "Success!!"
   ]
  },
  {
   "cell_type": "code",
   "execution_count": 24,
   "metadata": {},
   "outputs": [],
   "source": [
    "# Finally, combine them all into one\n",
    "\n",
    "master = nf\n",
    "master['nf_drop'] = nfdrop['nf_drop']\n",
    "master['amp_mm'] = amp['amp_mm']\n",
    "master['amp_drop'] = ampdrop['amp_drop']"
   ]
  },
  {
   "cell_type": "code",
   "execution_count": 25,
   "metadata": {},
   "outputs": [
    {
     "output_type": "execute_result",
     "data": {
      "text/plain": "   x      CD/t temp      nf_hz    nf_drop     amp_mm  amp_drop\n0  5  0.000000   22  40.970000   0.000000  12.010000  0.000000\n1  5  0.166667   22  38.460000   2.510000  12.290000 -0.280000\n2  5  0.170000   22  38.360000   2.610000  10.470000  1.540000\n3  5  0.173333   22  38.380000   2.590000   9.880000  2.130000\n4  5  0.250000   22  37.480877   3.489123  12.786667 -0.776667\n5  5  0.333333   22  36.581754   4.388246  13.837949 -1.827949\n6  5  0.416667   22  35.204118   5.765882  14.155294 -2.145294\n7  5  0.500000   22  33.640392   7.329608  14.442059 -2.432059\n8  5  0.583333   22  31.321739   9.648261  14.748696 -2.738696\n9  5  0.666667   22  28.647826  12.322174  15.118261 -3.108261",
      "text/html": "<div>\n<style scoped>\n    .dataframe tbody tr th:only-of-type {\n        vertical-align: middle;\n    }\n\n    .dataframe tbody tr th {\n        vertical-align: top;\n    }\n\n    .dataframe thead th {\n        text-align: right;\n    }\n</style>\n<table border=\"1\" class=\"dataframe\">\n  <thead>\n    <tr style=\"text-align: right;\">\n      <th></th>\n      <th>x</th>\n      <th>CD/t</th>\n      <th>temp</th>\n      <th>nf_hz</th>\n      <th>nf_drop</th>\n      <th>amp_mm</th>\n      <th>amp_drop</th>\n    </tr>\n  </thead>\n  <tbody>\n    <tr>\n      <th>0</th>\n      <td>5</td>\n      <td>0.000000</td>\n      <td>22</td>\n      <td>40.970000</td>\n      <td>0.000000</td>\n      <td>12.010000</td>\n      <td>0.000000</td>\n    </tr>\n    <tr>\n      <th>1</th>\n      <td>5</td>\n      <td>0.166667</td>\n      <td>22</td>\n      <td>38.460000</td>\n      <td>2.510000</td>\n      <td>12.290000</td>\n      <td>-0.280000</td>\n    </tr>\n    <tr>\n      <th>2</th>\n      <td>5</td>\n      <td>0.170000</td>\n      <td>22</td>\n      <td>38.360000</td>\n      <td>2.610000</td>\n      <td>10.470000</td>\n      <td>1.540000</td>\n    </tr>\n    <tr>\n      <th>3</th>\n      <td>5</td>\n      <td>0.173333</td>\n      <td>22</td>\n      <td>38.380000</td>\n      <td>2.590000</td>\n      <td>9.880000</td>\n      <td>2.130000</td>\n    </tr>\n    <tr>\n      <th>4</th>\n      <td>5</td>\n      <td>0.250000</td>\n      <td>22</td>\n      <td>37.480877</td>\n      <td>3.489123</td>\n      <td>12.786667</td>\n      <td>-0.776667</td>\n    </tr>\n    <tr>\n      <th>5</th>\n      <td>5</td>\n      <td>0.333333</td>\n      <td>22</td>\n      <td>36.581754</td>\n      <td>4.388246</td>\n      <td>13.837949</td>\n      <td>-1.827949</td>\n    </tr>\n    <tr>\n      <th>6</th>\n      <td>5</td>\n      <td>0.416667</td>\n      <td>22</td>\n      <td>35.204118</td>\n      <td>5.765882</td>\n      <td>14.155294</td>\n      <td>-2.145294</td>\n    </tr>\n    <tr>\n      <th>7</th>\n      <td>5</td>\n      <td>0.500000</td>\n      <td>22</td>\n      <td>33.640392</td>\n      <td>7.329608</td>\n      <td>14.442059</td>\n      <td>-2.432059</td>\n    </tr>\n    <tr>\n      <th>8</th>\n      <td>5</td>\n      <td>0.583333</td>\n      <td>22</td>\n      <td>31.321739</td>\n      <td>9.648261</td>\n      <td>14.748696</td>\n      <td>-2.738696</td>\n    </tr>\n    <tr>\n      <th>9</th>\n      <td>5</td>\n      <td>0.666667</td>\n      <td>22</td>\n      <td>28.647826</td>\n      <td>12.322174</td>\n      <td>15.118261</td>\n      <td>-3.108261</td>\n    </tr>\n  </tbody>\n</table>\n</div>"
     },
     "metadata": {},
     "execution_count": 25
    }
   ],
   "source": [
    "master.head(10)"
   ]
  },
  {
   "cell_type": "code",
   "execution_count": 26,
   "metadata": {},
   "outputs": [
    {
     "output_type": "execute_result",
     "data": {
      "text/plain": "(180, 7)"
     },
     "metadata": {},
     "execution_count": 26
    }
   ],
   "source": [
    "master.shape"
   ]
  },
  {
   "cell_type": "code",
   "execution_count": 27,
   "metadata": {},
   "outputs": [],
   "source": [
    "# Save the processed version as a csv file\n",
    "out_path = project_root / 'Data' / 'Interim'\n",
    "file_name = out_path / 'processed_combined.csv'\n",
    "\n",
    "if not Path.exists(file_name):\n",
    "    master.to_csv(file_name, index = False)"
   ]
  },
  {
   "cell_type": "code",
   "execution_count": null,
   "metadata": {},
   "outputs": [],
   "source": []
  }
 ],
 "metadata": {
  "kernelspec": {
   "display_name": "Python 3.7.7 64-bit ('MScProject': conda)",
   "language": "python",
   "name": "python37764bitmscprojectcondabc9b33e649274ab8beba0e739692658b"
  },
  "language_info": {
   "codemirror_mode": {
    "name": "ipython",
    "version": 3
   },
   "file_extension": ".py",
   "mimetype": "text/x-python",
   "name": "python",
   "nbconvert_exporter": "python",
   "pygments_lexer": "ipython3",
   "version": "3.7.7-final"
  }
 },
 "nbformat": 4,
 "nbformat_minor": 4
}